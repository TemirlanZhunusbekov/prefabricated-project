{
 "cells": [
  {
   "cell_type": "markdown",
   "metadata": {},
   "source": [
    "# Оглавление"
   ]
  },
  {
   "cell_type": "markdown",
   "metadata": {},
   "source": [
    "- [Описание проекта](#step1)\n",
    "- [Описание данных](#step2)\n",
    "- [Открытие файла с данными и изучение общей информации](#step3)\n",
    "- [Подготовка данных](#step4)\n",
    "- [Изучение и проверка данных](#step5)\n",
    "- [Изучение воронки событий](#step6)\n",
    "- [Изучение результатов эксперимента](#step7)\n",
    "- [Выводы](#step8)"
   ]
  },
  {
   "cell_type": "markdown",
   "metadata": {},
   "source": [
    "# Описание проекта <a id=\"step1\"></a>"
   ]
  },
  {
   "cell_type": "markdown",
   "metadata": {},
   "source": [
    "Вы работаете в стартапе, который продаёт продукты питания. Нужно разобраться, как ведут себя пользователи вашего мобильного приложения.\n",
    "\n",
    "Изучите воронку продаж. Узнайте, как пользователи доходят до покупки. Сколько пользователей доходит до покупки, а сколько — «застревает» на предыдущих шагах? На каких именно?\n",
    "\n",
    "После этого исследуйте результаты A/A/B-эксперимента. Дизайнеры захотели поменять шрифты во всём приложении, а менеджеры испугались, что пользователям будет непривычно. Договорились принять решение по результатам A/A/B-теста. Пользователей разбили на 3 группы: 2 контрольные со старыми шрифтами и одну экспериментальную — с новыми. Выясните, какой шрифт лучше.\n",
    "Создание двух групп A вместо одной имеет определённые преимущества. Если две контрольные группы окажутся равны, вы можете быть уверены в точности проведенного тестирования. Если же между значениями A и A будут существенные различия, это поможет обнаружить факторы, которые привели к искажению результатов. Сравнение контрольных групп также помогает понять, сколько времени и данных потребуется для дальнейших тестов.\n",
    "\n",
    "В случае общей аналитики и A/A/B-эксперимента работайте с одними и теми же данными. В реальных проектах всегда идут эксперименты. Аналитики исследуют качество работы приложения по общим данным, не учитывая принадлежность пользователей к экспериментам."
   ]
  },
  {
   "cell_type": "markdown",
   "metadata": {},
   "source": [
    "# Описание данных <a id=\"step2\"></a>"
   ]
  },
  {
   "cell_type": "markdown",
   "metadata": {},
   "source": [
    "Каждая запись в логе — это действие пользователя, или событие.\n",
    "\n",
    "- `EventName` — название события;\n",
    "- `DeviceIDHash` — уникальный идентификатор пользователя;\n",
    "- `EventTimestamp` — время события;\n",
    "- `ExpId` — номер эксперимента: 246 и 247 — контрольные группы, а 248 — экспериментальная."
   ]
  },
  {
   "cell_type": "markdown",
   "metadata": {},
   "source": [
    "# Открытие файла с данными и изучение общей информации <a id=\"step3\"></a>"
   ]
  },
  {
   "cell_type": "code",
   "execution_count": 1,
   "metadata": {},
   "outputs": [
    {
     "data": {
      "text/html": [
       "<div>\n",
       "<style scoped>\n",
       "    .dataframe tbody tr th:only-of-type {\n",
       "        vertical-align: middle;\n",
       "    }\n",
       "\n",
       "    .dataframe tbody tr th {\n",
       "        vertical-align: top;\n",
       "    }\n",
       "\n",
       "    .dataframe thead th {\n",
       "        text-align: right;\n",
       "    }\n",
       "</style>\n",
       "<table border=\"1\" class=\"dataframe\">\n",
       "  <thead>\n",
       "    <tr style=\"text-align: right;\">\n",
       "      <th></th>\n",
       "      <th>EventName</th>\n",
       "      <th>DeviceIDHash</th>\n",
       "      <th>EventTimestamp</th>\n",
       "      <th>ExpId</th>\n",
       "    </tr>\n",
       "  </thead>\n",
       "  <tbody>\n",
       "    <tr>\n",
       "      <th>0</th>\n",
       "      <td>MainScreenAppear</td>\n",
       "      <td>4575588528974610257</td>\n",
       "      <td>1564029816</td>\n",
       "      <td>246</td>\n",
       "    </tr>\n",
       "    <tr>\n",
       "      <th>1</th>\n",
       "      <td>MainScreenAppear</td>\n",
       "      <td>7416695313311560658</td>\n",
       "      <td>1564053102</td>\n",
       "      <td>246</td>\n",
       "    </tr>\n",
       "    <tr>\n",
       "      <th>2</th>\n",
       "      <td>PaymentScreenSuccessful</td>\n",
       "      <td>3518123091307005509</td>\n",
       "      <td>1564054127</td>\n",
       "      <td>248</td>\n",
       "    </tr>\n",
       "    <tr>\n",
       "      <th>3</th>\n",
       "      <td>CartScreenAppear</td>\n",
       "      <td>3518123091307005509</td>\n",
       "      <td>1564054127</td>\n",
       "      <td>248</td>\n",
       "    </tr>\n",
       "    <tr>\n",
       "      <th>4</th>\n",
       "      <td>PaymentScreenSuccessful</td>\n",
       "      <td>6217807653094995999</td>\n",
       "      <td>1564055322</td>\n",
       "      <td>248</td>\n",
       "    </tr>\n",
       "  </tbody>\n",
       "</table>\n",
       "</div>"
      ],
      "text/plain": [
       "                 EventName         DeviceIDHash  EventTimestamp  ExpId\n",
       "0         MainScreenAppear  4575588528974610257      1564029816    246\n",
       "1         MainScreenAppear  7416695313311560658      1564053102    246\n",
       "2  PaymentScreenSuccessful  3518123091307005509      1564054127    248\n",
       "3         CartScreenAppear  3518123091307005509      1564054127    248\n",
       "4  PaymentScreenSuccessful  6217807653094995999      1564055322    248"
      ]
     },
     "execution_count": 1,
     "metadata": {},
     "output_type": "execute_result"
    }
   ],
   "source": [
    "import pandas as pd\n",
    "import matplotlib.pyplot as plt\n",
    "import numpy as np\n",
    "import seaborn as sns\n",
    "import math as mth\n",
    "from plotly import graph_objects as go\n",
    "from scipy import stats as st\n",
    "\n",
    "logs = pd.read_csv('/datasets/logs_exp.csv', sep=\"\\t\")\n",
    "logs.head()"
   ]
  },
  {
   "cell_type": "markdown",
   "metadata": {},
   "source": [
    "# Подготовка данных <a id=\"step4\"></a>"
   ]
  },
  {
   "cell_type": "code",
   "execution_count": 2,
   "metadata": {},
   "outputs": [],
   "source": [
    "logs.columns = ['event_name', 'user_id', 'event_time', 'group']"
   ]
  },
  {
   "cell_type": "code",
   "execution_count": 3,
   "metadata": {},
   "outputs": [
    {
     "name": "stdout",
     "output_type": "stream",
     "text": [
      "<class 'pandas.core.frame.DataFrame'>\n",
      "RangeIndex: 244126 entries, 0 to 244125\n",
      "Data columns (total 4 columns):\n",
      " #   Column      Non-Null Count   Dtype \n",
      "---  ------      --------------   ----- \n",
      " 0   event_name  244126 non-null  object\n",
      " 1   user_id     244126 non-null  int64 \n",
      " 2   event_time  244126 non-null  int64 \n",
      " 3   group       244126 non-null  int64 \n",
      "dtypes: int64(3), object(1)\n",
      "memory usage: 7.5+ MB\n"
     ]
    }
   ],
   "source": [
    "logs.info()"
   ]
  },
  {
   "cell_type": "code",
   "execution_count": 4,
   "metadata": {},
   "outputs": [],
   "source": [
    "logs = logs.drop_duplicates()"
   ]
  },
  {
   "cell_type": "markdown",
   "metadata": {},
   "source": [
    "В данных присутствуют дубликаты, поэтому принято решение их сразу удалить"
   ]
  },
  {
   "cell_type": "code",
   "execution_count": 5,
   "metadata": {},
   "outputs": [
    {
     "data": {
      "text/html": [
       "<div>\n",
       "<style scoped>\n",
       "    .dataframe tbody tr th:only-of-type {\n",
       "        vertical-align: middle;\n",
       "    }\n",
       "\n",
       "    .dataframe tbody tr th {\n",
       "        vertical-align: top;\n",
       "    }\n",
       "\n",
       "    .dataframe thead th {\n",
       "        text-align: right;\n",
       "    }\n",
       "</style>\n",
       "<table border=\"1\" class=\"dataframe\">\n",
       "  <thead>\n",
       "    <tr style=\"text-align: right;\">\n",
       "      <th></th>\n",
       "      <th>event_name</th>\n",
       "      <th>user_id</th>\n",
       "      <th>event_time</th>\n",
       "      <th>group</th>\n",
       "      <th>date</th>\n",
       "    </tr>\n",
       "  </thead>\n",
       "  <tbody>\n",
       "    <tr>\n",
       "      <th>0</th>\n",
       "      <td>MainScreenAppear</td>\n",
       "      <td>4575588528974610257</td>\n",
       "      <td>2019-07-25 04:43:36</td>\n",
       "      <td>246</td>\n",
       "      <td>2019-07-25</td>\n",
       "    </tr>\n",
       "    <tr>\n",
       "      <th>1</th>\n",
       "      <td>MainScreenAppear</td>\n",
       "      <td>7416695313311560658</td>\n",
       "      <td>2019-07-25 11:11:42</td>\n",
       "      <td>246</td>\n",
       "      <td>2019-07-25</td>\n",
       "    </tr>\n",
       "    <tr>\n",
       "      <th>2</th>\n",
       "      <td>PaymentScreenSuccessful</td>\n",
       "      <td>3518123091307005509</td>\n",
       "      <td>2019-07-25 11:28:47</td>\n",
       "      <td>248</td>\n",
       "      <td>2019-07-25</td>\n",
       "    </tr>\n",
       "    <tr>\n",
       "      <th>3</th>\n",
       "      <td>CartScreenAppear</td>\n",
       "      <td>3518123091307005509</td>\n",
       "      <td>2019-07-25 11:28:47</td>\n",
       "      <td>248</td>\n",
       "      <td>2019-07-25</td>\n",
       "    </tr>\n",
       "    <tr>\n",
       "      <th>4</th>\n",
       "      <td>PaymentScreenSuccessful</td>\n",
       "      <td>6217807653094995999</td>\n",
       "      <td>2019-07-25 11:48:42</td>\n",
       "      <td>248</td>\n",
       "      <td>2019-07-25</td>\n",
       "    </tr>\n",
       "  </tbody>\n",
       "</table>\n",
       "</div>"
      ],
      "text/plain": [
       "                event_name              user_id          event_time  group  \\\n",
       "0         MainScreenAppear  4575588528974610257 2019-07-25 04:43:36    246   \n",
       "1         MainScreenAppear  7416695313311560658 2019-07-25 11:11:42    246   \n",
       "2  PaymentScreenSuccessful  3518123091307005509 2019-07-25 11:28:47    248   \n",
       "3         CartScreenAppear  3518123091307005509 2019-07-25 11:28:47    248   \n",
       "4  PaymentScreenSuccessful  6217807653094995999 2019-07-25 11:48:42    248   \n",
       "\n",
       "         date  \n",
       "0  2019-07-25  \n",
       "1  2019-07-25  \n",
       "2  2019-07-25  \n",
       "3  2019-07-25  \n",
       "4  2019-07-25  "
      ]
     },
     "execution_count": 5,
     "metadata": {},
     "output_type": "execute_result"
    }
   ],
   "source": [
    "logs['event_time'] = pd.to_datetime(logs['event_time'], unit='s')\n",
    "logs['date'] = logs['event_time'].dt.date\n",
    "logs.head()"
   ]
  },
  {
   "cell_type": "code",
   "execution_count": 6,
   "metadata": {},
   "outputs": [
    {
     "data": {
      "text/html": [
       "<div>\n",
       "<style scoped>\n",
       "    .dataframe tbody tr th:only-of-type {\n",
       "        vertical-align: middle;\n",
       "    }\n",
       "\n",
       "    .dataframe tbody tr th {\n",
       "        vertical-align: top;\n",
       "    }\n",
       "\n",
       "    .dataframe thead th {\n",
       "        text-align: right;\n",
       "    }\n",
       "</style>\n",
       "<table border=\"1\" class=\"dataframe\">\n",
       "  <thead>\n",
       "    <tr style=\"text-align: right;\">\n",
       "      <th></th>\n",
       "      <th>event_name</th>\n",
       "      <th>user_id</th>\n",
       "      <th>event_time</th>\n",
       "      <th>group</th>\n",
       "      <th>date</th>\n",
       "    </tr>\n",
       "  </thead>\n",
       "  <tbody>\n",
       "    <tr>\n",
       "      <th>0</th>\n",
       "      <td>MainScreenAppear</td>\n",
       "      <td>4575588528974610257</td>\n",
       "      <td>2019-07-25 04:43:36</td>\n",
       "      <td>a1</td>\n",
       "      <td>2019-07-25</td>\n",
       "    </tr>\n",
       "    <tr>\n",
       "      <th>1</th>\n",
       "      <td>MainScreenAppear</td>\n",
       "      <td>7416695313311560658</td>\n",
       "      <td>2019-07-25 11:11:42</td>\n",
       "      <td>a1</td>\n",
       "      <td>2019-07-25</td>\n",
       "    </tr>\n",
       "    <tr>\n",
       "      <th>2</th>\n",
       "      <td>PaymentScreenSuccessful</td>\n",
       "      <td>3518123091307005509</td>\n",
       "      <td>2019-07-25 11:28:47</td>\n",
       "      <td>b</td>\n",
       "      <td>2019-07-25</td>\n",
       "    </tr>\n",
       "    <tr>\n",
       "      <th>3</th>\n",
       "      <td>CartScreenAppear</td>\n",
       "      <td>3518123091307005509</td>\n",
       "      <td>2019-07-25 11:28:47</td>\n",
       "      <td>b</td>\n",
       "      <td>2019-07-25</td>\n",
       "    </tr>\n",
       "    <tr>\n",
       "      <th>4</th>\n",
       "      <td>PaymentScreenSuccessful</td>\n",
       "      <td>6217807653094995999</td>\n",
       "      <td>2019-07-25 11:48:42</td>\n",
       "      <td>b</td>\n",
       "      <td>2019-07-25</td>\n",
       "    </tr>\n",
       "    <tr>\n",
       "      <th>...</th>\n",
       "      <td>...</td>\n",
       "      <td>...</td>\n",
       "      <td>...</td>\n",
       "      <td>...</td>\n",
       "      <td>...</td>\n",
       "    </tr>\n",
       "    <tr>\n",
       "      <th>244121</th>\n",
       "      <td>MainScreenAppear</td>\n",
       "      <td>4599628364049201812</td>\n",
       "      <td>2019-08-07 21:12:25</td>\n",
       "      <td>a2</td>\n",
       "      <td>2019-08-07</td>\n",
       "    </tr>\n",
       "    <tr>\n",
       "      <th>244122</th>\n",
       "      <td>MainScreenAppear</td>\n",
       "      <td>5849806612437486590</td>\n",
       "      <td>2019-08-07 21:13:59</td>\n",
       "      <td>a1</td>\n",
       "      <td>2019-08-07</td>\n",
       "    </tr>\n",
       "    <tr>\n",
       "      <th>244123</th>\n",
       "      <td>MainScreenAppear</td>\n",
       "      <td>5746969938801999050</td>\n",
       "      <td>2019-08-07 21:14:43</td>\n",
       "      <td>a1</td>\n",
       "      <td>2019-08-07</td>\n",
       "    </tr>\n",
       "    <tr>\n",
       "      <th>244124</th>\n",
       "      <td>MainScreenAppear</td>\n",
       "      <td>5746969938801999050</td>\n",
       "      <td>2019-08-07 21:14:58</td>\n",
       "      <td>a1</td>\n",
       "      <td>2019-08-07</td>\n",
       "    </tr>\n",
       "    <tr>\n",
       "      <th>244125</th>\n",
       "      <td>OffersScreenAppear</td>\n",
       "      <td>5746969938801999050</td>\n",
       "      <td>2019-08-07 21:15:17</td>\n",
       "      <td>a1</td>\n",
       "      <td>2019-08-07</td>\n",
       "    </tr>\n",
       "  </tbody>\n",
       "</table>\n",
       "<p>243713 rows × 5 columns</p>\n",
       "</div>"
      ],
      "text/plain": [
       "                     event_name              user_id          event_time  \\\n",
       "0              MainScreenAppear  4575588528974610257 2019-07-25 04:43:36   \n",
       "1              MainScreenAppear  7416695313311560658 2019-07-25 11:11:42   \n",
       "2       PaymentScreenSuccessful  3518123091307005509 2019-07-25 11:28:47   \n",
       "3              CartScreenAppear  3518123091307005509 2019-07-25 11:28:47   \n",
       "4       PaymentScreenSuccessful  6217807653094995999 2019-07-25 11:48:42   \n",
       "...                         ...                  ...                 ...   \n",
       "244121         MainScreenAppear  4599628364049201812 2019-08-07 21:12:25   \n",
       "244122         MainScreenAppear  5849806612437486590 2019-08-07 21:13:59   \n",
       "244123         MainScreenAppear  5746969938801999050 2019-08-07 21:14:43   \n",
       "244124         MainScreenAppear  5746969938801999050 2019-08-07 21:14:58   \n",
       "244125       OffersScreenAppear  5746969938801999050 2019-08-07 21:15:17   \n",
       "\n",
       "       group        date  \n",
       "0         a1  2019-07-25  \n",
       "1         a1  2019-07-25  \n",
       "2          b  2019-07-25  \n",
       "3          b  2019-07-25  \n",
       "4          b  2019-07-25  \n",
       "...      ...         ...  \n",
       "244121    a2  2019-08-07  \n",
       "244122    a1  2019-08-07  \n",
       "244123    a1  2019-08-07  \n",
       "244124    a1  2019-08-07  \n",
       "244125    a1  2019-08-07  \n",
       "\n",
       "[243713 rows x 5 columns]"
      ]
     },
     "execution_count": 6,
     "metadata": {},
     "output_type": "execute_result"
    }
   ],
   "source": [
    "def rename_group(i):\n",
    "    if i==246:\n",
    "        return 'a1'\n",
    "    elif i==247:\n",
    "        return 'a2'\n",
    "    elif i==248:\n",
    "        return 'b'\n",
    "\n",
    "logs['group'] = logs['group'].apply(rename_group)\n",
    "logs"
   ]
  },
  {
   "cell_type": "code",
   "execution_count": 7,
   "metadata": {},
   "outputs": [
    {
     "name": "stdout",
     "output_type": "stream",
     "text": [
      "<class 'pandas.core.frame.DataFrame'>\n",
      "Int64Index: 243713 entries, 0 to 244125\n",
      "Data columns (total 5 columns):\n",
      " #   Column      Non-Null Count   Dtype         \n",
      "---  ------      --------------   -----         \n",
      " 0   event_name  243713 non-null  object        \n",
      " 1   user_id     243713 non-null  int64         \n",
      " 2   event_time  243713 non-null  datetime64[ns]\n",
      " 3   group       243713 non-null  object        \n",
      " 4   date        243713 non-null  object        \n",
      "dtypes: datetime64[ns](1), int64(1), object(3)\n",
      "memory usage: 11.2+ MB\n"
     ]
    }
   ],
   "source": [
    "logs.info()"
   ]
  },
  {
   "cell_type": "markdown",
   "metadata": {},
   "source": [
    "1. Изменили тип данных event_time на datetime\n",
    "2. Добавили дополнительный столбец отражающий только дату"
   ]
  },
  {
   "cell_type": "markdown",
   "metadata": {},
   "source": [
    "#### Выводы: \n",
    "На данном этапе исправил названия столбцов на более удобные для себя. Также удалил полные дубликаты. Изменил тип данных event_time на временной и добавил столбец, который отражает только дату. На этом этапе завершаем подготовку данных"
   ]
  },
  {
   "cell_type": "markdown",
   "metadata": {},
   "source": [
    "# Изучение и проверка данных <a id=\"step5\"></a>"
   ]
  },
  {
   "cell_type": "markdown",
   "metadata": {},
   "source": [
    "#### Сколько всего событий в логе? Сколько всего пользователей в логе? Сколько в среднем событий приходится на пользователя? Данными за какой период вы располагаете? Найдите максимальную и минимальную дату."
   ]
  },
  {
   "cell_type": "code",
   "execution_count": 8,
   "metadata": {},
   "outputs": [
    {
     "name": "stdout",
     "output_type": "stream",
     "text": [
      "Всего событий: 243713\n",
      "Всего пользователей: 7551\n",
      "Событий на пользователя в среднем: 32\n",
      "Минимальная дата: 2019-07-25. Максимальная дата: 2019-08-07\n"
     ]
    }
   ],
   "source": [
    "events = len(logs)\n",
    "device_id = logs['user_id'].nunique()\n",
    "\n",
    "print('Всего событий: {}'.format(events))\n",
    "print('Всего пользователей: {}'.format(device_id))\n",
    "print('Событий на пользователя в среднем: {}'.format(int(round(events/device_id, 0))))\n",
    "print('Минимальная дата: {}. Максимальная дата: {}'.format(logs['date'].min(), logs['date'].max()))"
   ]
  },
  {
   "cell_type": "markdown",
   "metadata": {},
   "source": [
    "#### Постройте гистограмму по дате и времени. Можно ли быть уверенным, что у вас одинаково полные данные за весь период?"
   ]
  },
  {
   "cell_type": "code",
   "execution_count": 9,
   "metadata": {},
   "outputs": [
    {
     "data": {
      "text/html": [
       "<div>\n",
       "<style scoped>\n",
       "    .dataframe tbody tr th:only-of-type {\n",
       "        vertical-align: middle;\n",
       "    }\n",
       "\n",
       "    .dataframe tbody tr th {\n",
       "        vertical-align: top;\n",
       "    }\n",
       "\n",
       "    .dataframe thead th {\n",
       "        text-align: right;\n",
       "    }\n",
       "</style>\n",
       "<table border=\"1\" class=\"dataframe\">\n",
       "  <thead>\n",
       "    <tr style=\"text-align: right;\">\n",
       "      <th></th>\n",
       "      <th>user_id</th>\n",
       "    </tr>\n",
       "    <tr>\n",
       "      <th>date</th>\n",
       "      <th></th>\n",
       "    </tr>\n",
       "  </thead>\n",
       "  <tbody>\n",
       "    <tr>\n",
       "      <th>2019-07-25</th>\n",
       "      <td>9</td>\n",
       "    </tr>\n",
       "    <tr>\n",
       "      <th>2019-07-26</th>\n",
       "      <td>31</td>\n",
       "    </tr>\n",
       "    <tr>\n",
       "      <th>2019-07-27</th>\n",
       "      <td>55</td>\n",
       "    </tr>\n",
       "    <tr>\n",
       "      <th>2019-07-28</th>\n",
       "      <td>105</td>\n",
       "    </tr>\n",
       "    <tr>\n",
       "      <th>2019-07-29</th>\n",
       "      <td>184</td>\n",
       "    </tr>\n",
       "    <tr>\n",
       "      <th>2019-07-30</th>\n",
       "      <td>412</td>\n",
       "    </tr>\n",
       "    <tr>\n",
       "      <th>2019-07-31</th>\n",
       "      <td>2030</td>\n",
       "    </tr>\n",
       "    <tr>\n",
       "      <th>2019-08-01</th>\n",
       "      <td>36141</td>\n",
       "    </tr>\n",
       "    <tr>\n",
       "      <th>2019-08-02</th>\n",
       "      <td>35554</td>\n",
       "    </tr>\n",
       "    <tr>\n",
       "      <th>2019-08-03</th>\n",
       "      <td>33282</td>\n",
       "    </tr>\n",
       "    <tr>\n",
       "      <th>2019-08-04</th>\n",
       "      <td>32968</td>\n",
       "    </tr>\n",
       "    <tr>\n",
       "      <th>2019-08-05</th>\n",
       "      <td>36058</td>\n",
       "    </tr>\n",
       "    <tr>\n",
       "      <th>2019-08-06</th>\n",
       "      <td>35788</td>\n",
       "    </tr>\n",
       "    <tr>\n",
       "      <th>2019-08-07</th>\n",
       "      <td>31096</td>\n",
       "    </tr>\n",
       "  </tbody>\n",
       "</table>\n",
       "</div>"
      ],
      "text/plain": [
       "            user_id\n",
       "date               \n",
       "2019-07-25        9\n",
       "2019-07-26       31\n",
       "2019-07-27       55\n",
       "2019-07-28      105\n",
       "2019-07-29      184\n",
       "2019-07-30      412\n",
       "2019-07-31     2030\n",
       "2019-08-01    36141\n",
       "2019-08-02    35554\n",
       "2019-08-03    33282\n",
       "2019-08-04    32968\n",
       "2019-08-05    36058\n",
       "2019-08-06    35788\n",
       "2019-08-07    31096"
      ]
     },
     "execution_count": 9,
     "metadata": {},
     "output_type": "execute_result"
    },
    {
     "data": {
      "image/png": "[encoded data removed]",
      "text/plain": [
       "<Figure size 432x288 with 1 Axes>"
      ]
     },
     "metadata": {
      "needs_background": "light"
     },
     "output_type": "display_data"
    }
   ],
   "source": [
    "plt.xticks(rotation=45)\n",
    "logs['event_time'].hist(bins=13)\n",
    "\n",
    "logs.groupby('date').agg({'user_id':'count'})"
   ]
  },
  {
   "cell_type": "markdown",
   "metadata": {},
   "source": [
    "Данные не полные за весь период. Видим, что на графике резкий прирост данных с 1 августа. Данные до 1 августа придется удалить, потому что их слишком мало и на их основе тяжело делать правильные выводы в будущем"
   ]
  },
  {
   "cell_type": "code",
   "execution_count": 10,
   "metadata": {},
   "outputs": [
    {
     "data": {
      "text/html": [
       "<div>\n",
       "<style scoped>\n",
       "    .dataframe tbody tr th:only-of-type {\n",
       "        vertical-align: middle;\n",
       "    }\n",
       "\n",
       "    .dataframe tbody tr th {\n",
       "        vertical-align: top;\n",
       "    }\n",
       "\n",
       "    .dataframe thead th {\n",
       "        text-align: right;\n",
       "    }\n",
       "</style>\n",
       "<table border=\"1\" class=\"dataframe\">\n",
       "  <thead>\n",
       "    <tr style=\"text-align: right;\">\n",
       "      <th></th>\n",
       "      <th>event_name</th>\n",
       "      <th>user_id</th>\n",
       "      <th>event_time</th>\n",
       "      <th>group</th>\n",
       "      <th>date</th>\n",
       "    </tr>\n",
       "  </thead>\n",
       "  <tbody>\n",
       "    <tr>\n",
       "      <th>2828</th>\n",
       "      <td>Tutorial</td>\n",
       "      <td>3737462046622621720</td>\n",
       "      <td>2019-08-01 00:07:28</td>\n",
       "      <td>a1</td>\n",
       "      <td>2019-08-01</td>\n",
       "    </tr>\n",
       "    <tr>\n",
       "      <th>2829</th>\n",
       "      <td>MainScreenAppear</td>\n",
       "      <td>3737462046622621720</td>\n",
       "      <td>2019-08-01 00:08:00</td>\n",
       "      <td>a1</td>\n",
       "      <td>2019-08-01</td>\n",
       "    </tr>\n",
       "    <tr>\n",
       "      <th>2830</th>\n",
       "      <td>MainScreenAppear</td>\n",
       "      <td>3737462046622621720</td>\n",
       "      <td>2019-08-01 00:08:55</td>\n",
       "      <td>a1</td>\n",
       "      <td>2019-08-01</td>\n",
       "    </tr>\n",
       "    <tr>\n",
       "      <th>2831</th>\n",
       "      <td>OffersScreenAppear</td>\n",
       "      <td>3737462046622621720</td>\n",
       "      <td>2019-08-01 00:08:58</td>\n",
       "      <td>a1</td>\n",
       "      <td>2019-08-01</td>\n",
       "    </tr>\n",
       "    <tr>\n",
       "      <th>2832</th>\n",
       "      <td>MainScreenAppear</td>\n",
       "      <td>1433840883824088890</td>\n",
       "      <td>2019-08-01 00:08:59</td>\n",
       "      <td>a2</td>\n",
       "      <td>2019-08-01</td>\n",
       "    </tr>\n",
       "  </tbody>\n",
       "</table>\n",
       "</div>"
      ],
      "text/plain": [
       "              event_name              user_id          event_time group  \\\n",
       "2828            Tutorial  3737462046622621720 2019-08-01 00:07:28    a1   \n",
       "2829    MainScreenAppear  3737462046622621720 2019-08-01 00:08:00    a1   \n",
       "2830    MainScreenAppear  3737462046622621720 2019-08-01 00:08:55    a1   \n",
       "2831  OffersScreenAppear  3737462046622621720 2019-08-01 00:08:58    a1   \n",
       "2832    MainScreenAppear  1433840883824088890 2019-08-01 00:08:59    a2   \n",
       "\n",
       "            date  \n",
       "2828  2019-08-01  \n",
       "2829  2019-08-01  \n",
       "2830  2019-08-01  \n",
       "2831  2019-08-01  \n",
       "2832  2019-08-01  "
      ]
     },
     "execution_count": 10,
     "metadata": {},
     "output_type": "execute_result"
    }
   ],
   "source": [
    "logs_filtered = logs[logs['date'] >= pd.to_datetime('2019-08-01', format = '%Y-%m-%d')]\n",
    "\n",
    "events_filtered = len(logs_filtered)\n",
    "device_id_filtered = logs_filtered['user_id'].nunique()\n",
    "\n",
    "logs_filtered.head()"
   ]
  },
  {
   "cell_type": "markdown",
   "metadata": {},
   "source": [
    "#### Много ли событий и пользователей вы потеряли, отбросив старые данные?"
   ]
  },
  {
   "cell_type": "code",
   "execution_count": 11,
   "metadata": {},
   "outputs": [
    {
     "name": "stdout",
     "output_type": "stream",
     "text": [
      "Всего событий: 243713\n",
      "Всего событий после фильтрации: 240887\n",
      "Всего пользователей: 7551\n",
      "Всего пользователей после фильтрации: 7534\n"
     ]
    }
   ],
   "source": [
    "print('Всего событий: {}'.format(events))\n",
    "print('Всего событий после фильтрации: {}'.format(events_filtered))\n",
    "print('Всего пользователей: {}'.format(device_id))\n",
    "print('Всего пользователей после фильтрации: {}'.format(device_id_filtered))"
   ]
  },
  {
   "cell_type": "code",
   "execution_count": 12,
   "metadata": {},
   "outputs": [
    {
     "data": {
      "text/plain": [
       "-1.16"
      ]
     },
     "execution_count": 12,
     "metadata": {},
     "output_type": "execute_result"
    }
   ],
   "source": [
    "round(events_filtered/events*100 - 100, 2)"
   ]
  },
  {
   "cell_type": "code",
   "execution_count": 13,
   "metadata": {},
   "outputs": [
    {
     "data": {
      "text/plain": [
       "-0.23"
      ]
     },
     "execution_count": 13,
     "metadata": {},
     "output_type": "execute_result"
    }
   ],
   "source": [
    "round(device_id_filtered/device_id*100 - 100, 2)"
   ]
  },
  {
   "cell_type": "markdown",
   "metadata": {},
   "source": [
    "Совсем незначительное снижение в событиях и пользователях"
   ]
  },
  {
   "cell_type": "markdown",
   "metadata": {},
   "source": [
    "#### Проверьте, что у вас есть пользователи из всех трёх экспериментальных групп"
   ]
  },
  {
   "cell_type": "code",
   "execution_count": 14,
   "metadata": {},
   "outputs": [
    {
     "data": {
      "text/html": [
       "<div>\n",
       "<style scoped>\n",
       "    .dataframe tbody tr th:only-of-type {\n",
       "        vertical-align: middle;\n",
       "    }\n",
       "\n",
       "    .dataframe tbody tr th {\n",
       "        vertical-align: top;\n",
       "    }\n",
       "\n",
       "    .dataframe thead th {\n",
       "        text-align: right;\n",
       "    }\n",
       "</style>\n",
       "<table border=\"1\" class=\"dataframe\">\n",
       "  <thead>\n",
       "    <tr style=\"text-align: right;\">\n",
       "      <th></th>\n",
       "      <th>экспериментальная группа</th>\n",
       "      <th>количество пользователей</th>\n",
       "    </tr>\n",
       "  </thead>\n",
       "  <tbody>\n",
       "    <tr>\n",
       "      <th>0</th>\n",
       "      <td>a1</td>\n",
       "      <td>79302</td>\n",
       "    </tr>\n",
       "    <tr>\n",
       "      <th>1</th>\n",
       "      <td>a2</td>\n",
       "      <td>77022</td>\n",
       "    </tr>\n",
       "    <tr>\n",
       "      <th>2</th>\n",
       "      <td>b</td>\n",
       "      <td>84563</td>\n",
       "    </tr>\n",
       "  </tbody>\n",
       "</table>\n",
       "</div>"
      ],
      "text/plain": [
       "  экспериментальная группа  количество пользователей\n",
       "0                       a1                     79302\n",
       "1                       a2                     77022\n",
       "2                        b                     84563"
      ]
     },
     "execution_count": 14,
     "metadata": {},
     "output_type": "execute_result"
    }
   ],
   "source": [
    "exp_groups = logs_filtered.groupby('group', as_index=False).agg({'user_id':'count'})\n",
    "exp_groups.columns = ['экспериментальная группа', 'количество пользователей']\n",
    "exp_groups"
   ]
  },
  {
   "cell_type": "markdown",
   "metadata": {},
   "source": [
    "Есть пользователи из всех трёх экспериментальных групп"
   ]
  },
  {
   "cell_type": "markdown",
   "metadata": {},
   "source": [
    "#### Выводы:\n",
    "1. Всего событий: 243 713. Всего пользователей: 7551\n",
    "2. Полные данные доступны после 31 июля. Принято решение удалить данные до 1 августа\n",
    "3. После удаления данных количество событий и пользователей поменялось совсем незначительно (-1.16% и -0.23% соответственно)\n",
    "4. Пользователи присутствуют во всех трех эксперементальных группах"
   ]
  },
  {
   "cell_type": "markdown",
   "metadata": {},
   "source": [
    "# Изучение воронки событий <a id=\"step6\"></a>"
   ]
  },
  {
   "cell_type": "markdown",
   "metadata": {},
   "source": [
    "#### Посмотрите, какие события есть в логах, как часто они встречаются. Отсортируйте события по частоте."
   ]
  },
  {
   "cell_type": "code",
   "execution_count": 34,
   "metadata": {},
   "outputs": [
    {
     "data": {
      "application/vnd.plotly.v1+json": {
       "config": {
        "plotlyServerURL": "https://plot.ly"
       },
       "data": [
        {
         "type": "funnel",
         "x": [
          117328,
          46333,
          42303,
          33918,
          1005
         ],
         "y": [
          "Главная страница",
          "Экран предложений",
          "Корзина",
          "Успешная оплата",
          "Руководство"
         ]
        }
       ],
       "layout": {
        "template": {
         "data": {
          "bar": [
           {
            "error_x": {
             "color": "#2a3f5f"
            },
            "error_y": {
             "color": "#2a3f5f"
            },
            "marker": {
             "line": {
              "color": "#E5ECF6",
              "width": 0.5
             },
             "pattern": {
              "fillmode": "overlay",
              "size": 10,
              "solidity": 0.2
             }
            },
            "type": "bar"
           }
          ],
          "barpolar": [
           {
            "marker": {
             "line": {
              "color": "#E5ECF6",
              "width": 0.5
             },
             "pattern": {
              "fillmode": "overlay",
              "size": 10,
              "solidity": 0.2
             }
            },
            "type": "barpolar"
           }
          ],
          "carpet": [
           {
            "aaxis": {
             "endlinecolor": "#2a3f5f",
             "gridcolor": "white",
             "linecolor": "white",
             "minorgridcolor": "white",
             "startlinecolor": "#2a3f5f"
            },
            "baxis": {
             "endlinecolor": "#2a3f5f",
             "gridcolor": "white",
             "linecolor": "white",
             "minorgridcolor": "white",
             "startlinecolor": "#2a3f5f"
            },
            "type": "carpet"
           }
          ],
          "choropleth": [
           {
            "colorbar": {
             "outlinewidth": 0,
             "ticks": ""
            },
            "type": "choropleth"
           }
          ],
          "contour": [
           {
            "colorbar": {
             "outlinewidth": 0,
             "ticks": ""
            },
            "colorscale": [
             [
              0,
              "#0d0887"
             ],
             [
              0.1111111111111111,
              "#46039f"
             ],
             [
              0.2222222222222222,
              "#7201a8"
             ],
             [
              0.3333333333333333,
              "#9c179e"
             ],
             [
              0.4444444444444444,
              "#bd3786"
             ],
             [
              0.5555555555555556,
              "#d8576b"
             ],
             [
              0.6666666666666666,
              "#ed7953"
             ],
             [
              0.7777777777777778,
              "#fb9f3a"
             ],
             [
              0.8888888888888888,
              "#fdca26"
             ],
             [
              1,
              "#f0f921"
             ]
            ],
            "type": "contour"
           }
          ],
          "contourcarpet": [
           {
            "colorbar": {
             "outlinewidth": 0,
             "ticks": ""
            },
            "type": "contourcarpet"
           }
          ],
          "heatmap": [
           {
            "colorbar": {
             "outlinewidth": 0,
             "ticks": ""
            },
            "colorscale": [
             [
              0,
              "#0d0887"
             ],
             [
              0.1111111111111111,
              "#46039f"
             ],
             [
              0.2222222222222222,
              "#7201a8"
             ],
             [
              0.3333333333333333,
              "#9c179e"
             ],
             [
              0.4444444444444444,
              "#bd3786"
             ],
             [
              0.5555555555555556,
              "#d8576b"
             ],
             [
              0.6666666666666666,
              "#ed7953"
             ],
             [
              0.7777777777777778,
              "#fb9f3a"
             ],
             [
              0.8888888888888888,
              "#fdca26"
             ],
             [
              1,
              "#f0f921"
             ]
            ],
            "type": "heatmap"
           }
          ],
          "heatmapgl": [
           {
            "colorbar": {
             "outlinewidth": 0,
             "ticks": ""
            },
            "colorscale": [
             [
              0,
              "#0d0887"
             ],
             [
              0.1111111111111111,
              "#46039f"
             ],
             [
              0.2222222222222222,
              "#7201a8"
             ],
             [
              0.3333333333333333,
              "#9c179e"
             ],
             [
              0.4444444444444444,
              "#bd3786"
             ],
             [
              0.5555555555555556,
              "#d8576b"
             ],
             [
              0.6666666666666666,
              "#ed7953"
             ],
             [
              0.7777777777777778,
              "#fb9f3a"
             ],
             [
              0.8888888888888888,
              "#fdca26"
             ],
             [
              1,
              "#f0f921"
             ]
            ],
            "type": "heatmapgl"
           }
          ],
          "histogram": [
           {
            "marker": {
             "pattern": {
              "fillmode": "overlay",
              "size": 10,
              "solidity": 0.2
             }
            },
            "type": "histogram"
           }
          ],
          "histogram2d": [
           {
            "colorbar": {
             "outlinewidth": 0,
             "ticks": ""
            },
            "colorscale": [
             [
              0,
              "#0d0887"
             ],
             [
              0.1111111111111111,
              "#46039f"
             ],
             [
              0.2222222222222222,
              "#7201a8"
             ],
             [
              0.3333333333333333,
              "#9c179e"
             ],
             [
              0.4444444444444444,
              "#bd3786"
             ],
             [
              0.5555555555555556,
              "#d8576b"
             ],
             [
              0.6666666666666666,
              "#ed7953"
             ],
             [
              0.7777777777777778,
              "#fb9f3a"
             ],
             [
              0.8888888888888888,
              "#fdca26"
             ],
             [
              1,
              "#f0f921"
             ]
            ],
            "type": "histogram2d"
           }
          ],
          "histogram2dcontour": [
           {
            "colorbar": {
             "outlinewidth": 0,
             "ticks": ""
            },
            "colorscale": [
             [
              0,
              "#0d0887"
             ],
             [
              0.1111111111111111,
              "#46039f"
             ],
             [
              0.2222222222222222,
              "#7201a8"
             ],
             [
              0.3333333333333333,
              "#9c179e"
             ],
             [
              0.4444444444444444,
              "#bd3786"
             ],
             [
              0.5555555555555556,
              "#d8576b"
             ],
             [
              0.6666666666666666,
              "#ed7953"
             ],
             [
              0.7777777777777778,
              "#fb9f3a"
             ],
             [
              0.8888888888888888,
              "#fdca26"
             ],
             [
              1,
              "#f0f921"
             ]
            ],
            "type": "histogram2dcontour"
           }
          ],
          "mesh3d": [
           {
            "colorbar": {
             "outlinewidth": 0,
             "ticks": ""
            },
            "type": "mesh3d"
           }
          ],
          "parcoords": [
           {
            "line": {
             "colorbar": {
              "outlinewidth": 0,
              "ticks": ""
             }
            },
            "type": "parcoords"
           }
          ],
          "pie": [
           {
            "automargin": true,
            "type": "pie"
           }
          ],
          "scatter": [
           {
            "marker": {
             "colorbar": {
              "outlinewidth": 0,
              "ticks": ""
             }
            },
            "type": "scatter"
           }
          ],
          "scatter3d": [
           {
            "line": {
             "colorbar": {
              "outlinewidth": 0,
              "ticks": ""
             }
            },
            "marker": {
             "colorbar": {
              "outlinewidth": 0,
              "ticks": ""
             }
            },
            "type": "scatter3d"
           }
          ],
          "scattercarpet": [
           {
            "marker": {
             "colorbar": {
              "outlinewidth": 0,
              "ticks": ""
             }
            },
            "type": "scattercarpet"
           }
          ],
          "scattergeo": [
           {
            "marker": {
             "colorbar": {
              "outlinewidth": 0,
              "ticks": ""
             }
            },
            "type": "scattergeo"
           }
          ],
          "scattergl": [
           {
            "marker": {
             "colorbar": {
              "outlinewidth": 0,
              "ticks": ""
             }
            },
            "type": "scattergl"
           }
          ],
          "scattermapbox": [
           {
            "marker": {
             "colorbar": {
              "outlinewidth": 0,
              "ticks": ""
             }
            },
            "type": "scattermapbox"
           }
          ],
          "scatterpolar": [
           {
            "marker": {
             "colorbar": {
              "outlinewidth": 0,
              "ticks": ""
             }
            },
            "type": "scatterpolar"
           }
          ],
          "scatterpolargl": [
           {
            "marker": {
             "colorbar": {
              "outlinewidth": 0,
              "ticks": ""
             }
            },
            "type": "scatterpolargl"
           }
          ],
          "scatterternary": [
           {
            "marker": {
             "colorbar": {
              "outlinewidth": 0,
              "ticks": ""
             }
            },
            "type": "scatterternary"
           }
          ],
          "surface": [
           {
            "colorbar": {
             "outlinewidth": 0,
             "ticks": ""
            },
            "colorscale": [
             [
              0,
              "#0d0887"
             ],
             [
              0.1111111111111111,
              "#46039f"
             ],
             [
              0.2222222222222222,
              "#7201a8"
             ],
             [
              0.3333333333333333,
              "#9c179e"
             ],
             [
              0.4444444444444444,
              "#bd3786"
             ],
             [
              0.5555555555555556,
              "#d8576b"
             ],
             [
              0.6666666666666666,
              "#ed7953"
             ],
             [
              0.7777777777777778,
              "#fb9f3a"
             ],
             [
              0.8888888888888888,
              "#fdca26"
             ],
             [
              1,
              "#f0f921"
             ]
            ],
            "type": "surface"
           }
          ],
          "table": [
           {
            "cells": {
             "fill": {
              "color": "#EBF0F8"
             },
             "line": {
              "color": "white"
             }
            },
            "header": {
             "fill": {
              "color": "#C8D4E3"
             },
             "line": {
              "color": "white"
             }
            },
            "type": "table"
           }
          ]
         },
         "layout": {
          "annotationdefaults": {
           "arrowcolor": "#2a3f5f",
           "arrowhead": 0,
           "arrowwidth": 1
          },
          "autotypenumbers": "strict",
          "coloraxis": {
           "colorbar": {
            "outlinewidth": 0,
            "ticks": ""
           }
          },
          "colorscale": {
           "diverging": [
            [
             0,
             "#8e0152"
            ],
            [
             0.1,
             "#c51b7d"
            ],
            [
             0.2,
             "#de77ae"
            ],
            [
             0.3,
             "#f1b6da"
            ],
            [
             0.4,
             "#fde0ef"
            ],
            [
             0.5,
             "#f7f7f7"
            ],
            [
             0.6,
             "#e6f5d0"
            ],
            [
             0.7,
             "#b8e186"
            ],
            [
             0.8,
             "#7fbc41"
            ],
            [
             0.9,
             "#4d9221"
            ],
            [
             1,
             "#276419"
            ]
           ],
           "sequential": [
            [
             0,
             "#0d0887"
            ],
            [
             0.1111111111111111,
             "#46039f"
            ],
            [
             0.2222222222222222,
             "#7201a8"
            ],
            [
             0.3333333333333333,
             "#9c179e"
            ],
            [
             0.4444444444444444,
             "#bd3786"
            ],
            [
             0.5555555555555556,
             "#d8576b"
            ],
            [
             0.6666666666666666,
             "#ed7953"
            ],
            [
             0.7777777777777778,
             "#fb9f3a"
            ],
            [
             0.8888888888888888,
             "#fdca26"
            ],
            [
             1,
             "#f0f921"
            ]
           ],
           "sequentialminus": [
            [
             0,
             "#0d0887"
            ],
            [
             0.1111111111111111,
             "#46039f"
            ],
            [
             0.2222222222222222,
             "#7201a8"
            ],
            [
             0.3333333333333333,
             "#9c179e"
            ],
            [
             0.4444444444444444,
             "#bd3786"
            ],
            [
             0.5555555555555556,
             "#d8576b"
            ],
            [
             0.6666666666666666,
             "#ed7953"
            ],
            [
             0.7777777777777778,
             "#fb9f3a"
            ],
            [
             0.8888888888888888,
             "#fdca26"
            ],
            [
             1,
             "#f0f921"
            ]
           ]
          },
          "colorway": [
           "#636efa",
           "#EF553B",
           "#00cc96",
           "#ab63fa",
           "#FFA15A",
           "#19d3f3",
           "#FF6692",
           "#B6E880",
           "#FF97FF",
           "#FECB52"
          ],
          "font": {
           "color": "#2a3f5f"
          },
          "geo": {
           "bgcolor": "white",
           "lakecolor": "white",
           "landcolor": "#E5ECF6",
           "showlakes": true,
           "showland": true,
           "subunitcolor": "white"
          },
          "hoverlabel": {
           "align": "left"
          },
          "hovermode": "closest",
          "mapbox": {
           "style": "light"
          },
          "paper_bgcolor": "white",
          "plot_bgcolor": "#E5ECF6",
          "polar": {
           "angularaxis": {
            "gridcolor": "white",
            "linecolor": "white",
            "ticks": ""
           },
           "bgcolor": "#E5ECF6",
           "radialaxis": {
            "gridcolor": "white",
            "linecolor": "white",
            "ticks": ""
           }
          },
          "scene": {
           "xaxis": {
            "backgroundcolor": "#E5ECF6",
            "gridcolor": "white",
            "gridwidth": 2,
            "linecolor": "white",
            "showbackground": true,
            "ticks": "",
            "zerolinecolor": "white"
           },
           "yaxis": {
            "backgroundcolor": "#E5ECF6",
            "gridcolor": "white",
            "gridwidth": 2,
            "linecolor": "white",
            "showbackground": true,
            "ticks": "",
            "zerolinecolor": "white"
           },
           "zaxis": {
            "backgroundcolor": "#E5ECF6",
            "gridcolor": "white",
            "gridwidth": 2,
            "linecolor": "white",
            "showbackground": true,
            "ticks": "",
            "zerolinecolor": "white"
           }
          },
          "shapedefaults": {
           "line": {
            "color": "#2a3f5f"
           }
          },
          "ternary": {
           "aaxis": {
            "gridcolor": "white",
            "linecolor": "white",
            "ticks": ""
           },
           "baxis": {
            "gridcolor": "white",
            "linecolor": "white",
            "ticks": ""
           },
           "bgcolor": "#E5ECF6",
           "caxis": {
            "gridcolor": "white",
            "linecolor": "white",
            "ticks": ""
           }
          },
          "title": {
           "x": 0.05
          },
          "xaxis": {
           "automargin": true,
           "gridcolor": "white",
           "linecolor": "white",
           "ticks": "",
           "title": {
            "standoff": 15
           },
           "zerolinecolor": "white",
           "zerolinewidth": 2
          },
          "yaxis": {
           "automargin": true,
           "gridcolor": "white",
           "linecolor": "white",
           "ticks": "",
           "title": {
            "standoff": 15
           },
           "zerolinecolor": "white",
           "zerolinewidth": 2
          }
         }
        }
       }
      },
      "text/html": [
       "<div>                            <div id=\"fd909776-8590-4461-b0dd-4231b905b2ec\" class=\"plotly-graph-div\" style=\"height:525px; width:100%;\"></div>            <script type=\"text/javascript\">                require([\"plotly\"], function(Plotly) {                    window.PLOTLYENV=window.PLOTLYENV || {};                                    if (document.getElementById(\"fd909776-8590-4461-b0dd-4231b905b2ec\")) {                    Plotly.newPlot(                        \"fd909776-8590-4461-b0dd-4231b905b2ec\",                        [{\"x\":[117328,46333,42303,33918,1005],\"y\":[\"\\u0413\\u043b\\u0430\\u0432\\u043d\\u0430\\u044f \\u0441\\u0442\\u0440\\u0430\\u043d\\u0438\\u0446\\u0430\",\"\\u042d\\u043a\\u0440\\u0430\\u043d \\u043f\\u0440\\u0435\\u0434\\u043b\\u043e\\u0436\\u0435\\u043d\\u0438\\u0439\",\"\\u041a\\u043e\\u0440\\u0437\\u0438\\u043d\\u0430\",\"\\u0423\\u0441\\u043f\\u0435\\u0448\\u043d\\u0430\\u044f \\u043e\\u043f\\u043b\\u0430\\u0442\\u0430\",\"\\u0420\\u0443\\u043a\\u043e\\u0432\\u043e\\u0434\\u0441\\u0442\\u0432\\u043e\"],\"type\":\"funnel\"}],                        {\"template\":{\"data\":{\"bar\":[{\"error_x\":{\"color\":\"#2a3f5f\"},\"error_y\":{\"color\":\"#2a3f5f\"},\"marker\":{\"line\":{\"color\":\"#E5ECF6\",\"width\":0.5},\"pattern\":{\"fillmode\":\"overlay\",\"size\":10,\"solidity\":0.2}},\"type\":\"bar\"}],\"barpolar\":[{\"marker\":{\"line\":{\"color\":\"#E5ECF6\",\"width\":0.5},\"pattern\":{\"fillmode\":\"overlay\",\"size\":10,\"solidity\":0.2}},\"type\":\"barpolar\"}],\"carpet\":[{\"aaxis\":{\"endlinecolor\":\"#2a3f5f\",\"gridcolor\":\"white\",\"linecolor\":\"white\",\"minorgridcolor\":\"white\",\"startlinecolor\":\"#2a3f5f\"},\"baxis\":{\"endlinecolor\":\"#2a3f5f\",\"gridcolor\":\"white\",\"linecolor\":\"white\",\"minorgridcolor\":\"white\",\"startlinecolor\":\"#2a3f5f\"},\"type\":\"carpet\"}],\"choropleth\":[{\"colorbar\":{\"outlinewidth\":0,\"ticks\":\"\"},\"type\":\"choropleth\"}],\"contour\":[{\"colorbar\":{\"outlinewidth\":0,\"ticks\":\"\"},\"colorscale\":[[0.0,\"#0d0887\"],[0.1111111111111111,\"#46039f\"],[0.2222222222222222,\"#7201a8\"],[0.3333333333333333,\"#9c179e\"],[0.4444444444444444,\"#bd3786\"],[0.5555555555555556,\"#d8576b\"],[0.6666666666666666,\"#ed7953\"],[0.7777777777777778,\"#fb9f3a\"],[0.8888888888888888,\"#fdca26\"],[1.0,\"#f0f921\"]],\"type\":\"contour\"}],\"contourcarpet\":[{\"colorbar\":{\"outlinewidth\":0,\"ticks\":\"\"},\"type\":\"contourcarpet\"}],\"heatmap\":[{\"colorbar\":{\"outlinewidth\":0,\"ticks\":\"\"},\"colorscale\":[[0.0,\"#0d0887\"],[0.1111111111111111,\"#46039f\"],[0.2222222222222222,\"#7201a8\"],[0.3333333333333333,\"#9c179e\"],[0.4444444444444444,\"#bd3786\"],[0.5555555555555556,\"#d8576b\"],[0.6666666666666666,\"#ed7953\"],[0.7777777777777778,\"#fb9f3a\"],[0.8888888888888888,\"#fdca26\"],[1.0,\"#f0f921\"]],\"type\":\"heatmap\"}],\"heatmapgl\":[{\"colorbar\":{\"outlinewidth\":0,\"ticks\":\"\"},\"colorscale\":[[0.0,\"#0d0887\"],[0.1111111111111111,\"#46039f\"],[0.2222222222222222,\"#7201a8\"],[0.3333333333333333,\"#9c179e\"],[0.4444444444444444,\"#bd3786\"],[0.5555555555555556,\"#d8576b\"],[0.6666666666666666,\"#ed7953\"],[0.7777777777777778,\"#fb9f3a\"],[0.8888888888888888,\"#fdca26\"],[1.0,\"#f0f921\"]],\"type\":\"heatmapgl\"}],\"histogram\":[{\"marker\":{\"pattern\":{\"fillmode\":\"overlay\",\"size\":10,\"solidity\":0.2}},\"type\":\"histogram\"}],\"histogram2d\":[{\"colorbar\":{\"outlinewidth\":0,\"ticks\":\"\"},\"colorscale\":[[0.0,\"#0d0887\"],[0.1111111111111111,\"#46039f\"],[0.2222222222222222,\"#7201a8\"],[0.3333333333333333,\"#9c179e\"],[0.4444444444444444,\"#bd3786\"],[0.5555555555555556,\"#d8576b\"],[0.6666666666666666,\"#ed7953\"],[0.7777777777777778,\"#fb9f3a\"],[0.8888888888888888,\"#fdca26\"],[1.0,\"#f0f921\"]],\"type\":\"histogram2d\"}],\"histogram2dcontour\":[{\"colorbar\":{\"outlinewidth\":0,\"ticks\":\"\"},\"colorscale\":[[0.0,\"#0d0887\"],[0.1111111111111111,\"#46039f\"],[0.2222222222222222,\"#7201a8\"],[0.3333333333333333,\"#9c179e\"],[0.4444444444444444,\"#bd3786\"],[0.5555555555555556,\"#d8576b\"],[0.6666666666666666,\"#ed7953\"],[0.7777777777777778,\"#fb9f3a\"],[0.8888888888888888,\"#fdca26\"],[1.0,\"#f0f921\"]],\"type\":\"histogram2dcontour\"}],\"mesh3d\":[{\"colorbar\":{\"outlinewidth\":0,\"ticks\":\"\"},\"type\":\"mesh3d\"}],\"parcoords\":[{\"line\":{\"colorbar\":{\"outlinewidth\":0,\"ticks\":\"\"}},\"type\":\"parcoords\"}],\"pie\":[{\"automargin\":true,\"type\":\"pie\"}],\"scatter\":[{\"marker\":{\"colorbar\":{\"outlinewidth\":0,\"ticks\":\"\"}},\"type\":\"scatter\"}],\"scatter3d\":[{\"line\":{\"colorbar\":{\"outlinewidth\":0,\"ticks\":\"\"}},\"marker\":{\"colorbar\":{\"outlinewidth\":0,\"ticks\":\"\"}},\"type\":\"scatter3d\"}],\"scattercarpet\":[{\"marker\":{\"colorbar\":{\"outlinewidth\":0,\"ticks\":\"\"}},\"type\":\"scattercarpet\"}],\"scattergeo\":[{\"marker\":{\"colorbar\":{\"outlinewidth\":0,\"ticks\":\"\"}},\"type\":\"scattergeo\"}],\"scattergl\":[{\"marker\":{\"colorbar\":{\"outlinewidth\":0,\"ticks\":\"\"}},\"type\":\"scattergl\"}],\"scattermapbox\":[{\"marker\":{\"colorbar\":{\"outlinewidth\":0,\"ticks\":\"\"}},\"type\":\"scattermapbox\"}],\"scatterpolar\":[{\"marker\":{\"colorbar\":{\"outlinewidth\":0,\"ticks\":\"\"}},\"type\":\"scatterpolar\"}],\"scatterpolargl\":[{\"marker\":{\"colorbar\":{\"outlinewidth\":0,\"ticks\":\"\"}},\"type\":\"scatterpolargl\"}],\"scatterternary\":[{\"marker\":{\"colorbar\":{\"outlinewidth\":0,\"ticks\":\"\"}},\"type\":\"scatterternary\"}],\"surface\":[{\"colorbar\":{\"outlinewidth\":0,\"ticks\":\"\"},\"colorscale\":[[0.0,\"#0d0887\"],[0.1111111111111111,\"#46039f\"],[0.2222222222222222,\"#7201a8\"],[0.3333333333333333,\"#9c179e\"],[0.4444444444444444,\"#bd3786\"],[0.5555555555555556,\"#d8576b\"],[0.6666666666666666,\"#ed7953\"],[0.7777777777777778,\"#fb9f3a\"],[0.8888888888888888,\"#fdca26\"],[1.0,\"#f0f921\"]],\"type\":\"surface\"}],\"table\":[{\"cells\":{\"fill\":{\"color\":\"#EBF0F8\"},\"line\":{\"color\":\"white\"}},\"header\":{\"fill\":{\"color\":\"#C8D4E3\"},\"line\":{\"color\":\"white\"}},\"type\":\"table\"}]},\"layout\":{\"annotationdefaults\":{\"arrowcolor\":\"#2a3f5f\",\"arrowhead\":0,\"arrowwidth\":1},\"autotypenumbers\":\"strict\",\"coloraxis\":{\"colorbar\":{\"outlinewidth\":0,\"ticks\":\"\"}},\"colorscale\":{\"diverging\":[[0,\"#8e0152\"],[0.1,\"#c51b7d\"],[0.2,\"#de77ae\"],[0.3,\"#f1b6da\"],[0.4,\"#fde0ef\"],[0.5,\"#f7f7f7\"],[0.6,\"#e6f5d0\"],[0.7,\"#b8e186\"],[0.8,\"#7fbc41\"],[0.9,\"#4d9221\"],[1,\"#276419\"]],\"sequential\":[[0.0,\"#0d0887\"],[0.1111111111111111,\"#46039f\"],[0.2222222222222222,\"#7201a8\"],[0.3333333333333333,\"#9c179e\"],[0.4444444444444444,\"#bd3786\"],[0.5555555555555556,\"#d8576b\"],[0.6666666666666666,\"#ed7953\"],[0.7777777777777778,\"#fb9f3a\"],[0.8888888888888888,\"#fdca26\"],[1.0,\"#f0f921\"]],\"sequentialminus\":[[0.0,\"#0d0887\"],[0.1111111111111111,\"#46039f\"],[0.2222222222222222,\"#7201a8\"],[0.3333333333333333,\"#9c179e\"],[0.4444444444444444,\"#bd3786\"],[0.5555555555555556,\"#d8576b\"],[0.6666666666666666,\"#ed7953\"],[0.7777777777777778,\"#fb9f3a\"],[0.8888888888888888,\"#fdca26\"],[1.0,\"#f0f921\"]]},\"colorway\":[\"#636efa\",\"#EF553B\",\"#00cc96\",\"#ab63fa\",\"#FFA15A\",\"#19d3f3\",\"#FF6692\",\"#B6E880\",\"#FF97FF\",\"#FECB52\"],\"font\":{\"color\":\"#2a3f5f\"},\"geo\":{\"bgcolor\":\"white\",\"lakecolor\":\"white\",\"landcolor\":\"#E5ECF6\",\"showlakes\":true,\"showland\":true,\"subunitcolor\":\"white\"},\"hoverlabel\":{\"align\":\"left\"},\"hovermode\":\"closest\",\"mapbox\":{\"style\":\"light\"},\"paper_bgcolor\":\"white\",\"plot_bgcolor\":\"#E5ECF6\",\"polar\":{\"angularaxis\":{\"gridcolor\":\"white\",\"linecolor\":\"white\",\"ticks\":\"\"},\"bgcolor\":\"#E5ECF6\",\"radialaxis\":{\"gridcolor\":\"white\",\"linecolor\":\"white\",\"ticks\":\"\"}},\"scene\":{\"xaxis\":{\"backgroundcolor\":\"#E5ECF6\",\"gridcolor\":\"white\",\"gridwidth\":2,\"linecolor\":\"white\",\"showbackground\":true,\"ticks\":\"\",\"zerolinecolor\":\"white\"},\"yaxis\":{\"backgroundcolor\":\"#E5ECF6\",\"gridcolor\":\"white\",\"gridwidth\":2,\"linecolor\":\"white\",\"showbackground\":true,\"ticks\":\"\",\"zerolinecolor\":\"white\"},\"zaxis\":{\"backgroundcolor\":\"#E5ECF6\",\"gridcolor\":\"white\",\"gridwidth\":2,\"linecolor\":\"white\",\"showbackground\":true,\"ticks\":\"\",\"zerolinecolor\":\"white\"}},\"shapedefaults\":{\"line\":{\"color\":\"#2a3f5f\"}},\"ternary\":{\"aaxis\":{\"gridcolor\":\"white\",\"linecolor\":\"white\",\"ticks\":\"\"},\"baxis\":{\"gridcolor\":\"white\",\"linecolor\":\"white\",\"ticks\":\"\"},\"bgcolor\":\"#E5ECF6\",\"caxis\":{\"gridcolor\":\"white\",\"linecolor\":\"white\",\"ticks\":\"\"}},\"title\":{\"x\":0.05},\"xaxis\":{\"automargin\":true,\"gridcolor\":\"white\",\"linecolor\":\"white\",\"ticks\":\"\",\"title\":{\"standoff\":15},\"zerolinecolor\":\"white\",\"zerolinewidth\":2},\"yaxis\":{\"automargin\":true,\"gridcolor\":\"white\",\"linecolor\":\"white\",\"ticks\":\"\",\"title\":{\"standoff\":15},\"zerolinecolor\":\"white\",\"zerolinewidth\":2}}}},                        {\"responsive\": true}                    ).then(function(){\n",
       "                            \n",
       "var gd = document.getElementById('fd909776-8590-4461-b0dd-4231b905b2ec');\n",
       "var x = new MutationObserver(function (mutations, observer) {{\n",
       "        var display = window.getComputedStyle(gd).display;\n",
       "        if (!display || display === 'none') {{\n",
       "            console.log([gd, 'removed!']);\n",
       "            Plotly.purge(gd);\n",
       "            observer.disconnect();\n",
       "        }}\n",
       "}});\n",
       "\n",
       "// Listen for the removal of the full notebook cells\n",
       "var notebookContainer = gd.closest('#notebook-container');\n",
       "if (notebookContainer) {{\n",
       "    x.observe(notebookContainer, {childList: true});\n",
       "}}\n",
       "\n",
       "// Listen for the clearing of the current output cell\n",
       "var outputEl = gd.closest('.output');\n",
       "if (outputEl) {{\n",
       "    x.observe(outputEl, {childList: true});\n",
       "}}\n",
       "\n",
       "                        })                };                });            </script>        </div>"
      ]
     },
     "metadata": {},
     "output_type": "display_data"
    }
   ],
   "source": [
    "logs_kind = logs_filtered.groupby('event_name', as_index=False).agg({'user_id':'count'})\n",
    "logs_kind.columns = ['название события', 'количество пользователей']\n",
    "logs_kind_funnel = logs_kind['количество пользователей'].sort_values(ascending=False).to_list()\n",
    "fig = go.Figure(\n",
    "    go.Funnel(\n",
    "        y=[\n",
    "            'Главная страница',\n",
    "            'Экран предложений',\n",
    "            'Корзина',\n",
    "            'Успешная оплата',\n",
    "            'Руководство'\n",
    "        ],\n",
    "        x=logs_kind_funnel,\n",
    "    )\n",
    ")\n",
    "fig.show()"
   ]
  },
  {
   "cell_type": "code",
   "execution_count": 37,
   "metadata": {},
   "outputs": [
    {
     "data": {
      "text/plain": [
       "[117328, 46333, 42303, 33918, 1005]"
      ]
     },
     "execution_count": 37,
     "metadata": {},
     "output_type": "execute_result"
    }
   ],
   "source": [
    "logs_kind_funnel"
   ]
  },
  {
   "cell_type": "markdown",
   "metadata": {},
   "source": [
    "1. Видим, что воронка сильно сужается в моменте перехода из главного экрана в экран предложений. Частая проблема многих мобильных приложений, что пользователи \"ленятся\" переходить дальше главного экрана. \n",
    "2. Второе узкое горлышко - руководство. Тяжело сказать, что находится на этой странице. Сделаю предположение, что там показывают варианты использования продуктов. Есть ощущение, что этот экран вообще никому не нужен. Человек достиг своей цели, а именно успешно оплатил продукты питания. Зачем ему руководство? Может удалить этот экран? Продукты питания не настолько сложный продукт, которому нужно какое-то руководство :)"
   ]
  },
  {
   "cell_type": "markdown",
   "metadata": {},
   "source": [
    "#### Посчитайте, сколько пользователей совершали каждое из этих событий. Отсортируйте события по числу пользователей. Посчитайте долю пользователей, которые хоть раз совершали событие."
   ]
  },
  {
   "cell_type": "code",
   "execution_count": 16,
   "metadata": {},
   "outputs": [
    {
     "data": {
      "application/vnd.plotly.v1+json": {
       "config": {
        "plotlyServerURL": "https://plot.ly"
       },
       "data": [
        {
         "type": "funnel",
         "x": [
          7419,
          4593,
          3734,
          3539,
          840
         ],
         "y": [
          "Главная страница",
          "Экран предложений",
          "Корзина",
          "Успешная оплата",
          "Руководство"
         ]
        }
       ],
       "layout": {
        "template": {
         "data": {
          "bar": [
           {
            "error_x": {
             "color": "#2a3f5f"
            },
            "error_y": {
             "color": "#2a3f5f"
            },
            "marker": {
             "line": {
              "color": "#E5ECF6",
              "width": 0.5
             },
             "pattern": {
              "fillmode": "overlay",
              "size": 10,
              "solidity": 0.2
             }
            },
            "type": "bar"
           }
          ],
          "barpolar": [
           {
            "marker": {
             "line": {
              "color": "#E5ECF6",
              "width": 0.5
             },
             "pattern": {
              "fillmode": "overlay",
              "size": 10,
              "solidity": 0.2
             }
            },
            "type": "barpolar"
           }
          ],
          "carpet": [
           {
            "aaxis": {
             "endlinecolor": "#2a3f5f",
             "gridcolor": "white",
             "linecolor": "white",
             "minorgridcolor": "white",
             "startlinecolor": "#2a3f5f"
            },
            "baxis": {
             "endlinecolor": "#2a3f5f",
             "gridcolor": "white",
             "linecolor": "white",
             "minorgridcolor": "white",
             "startlinecolor": "#2a3f5f"
            },
            "type": "carpet"
           }
          ],
          "choropleth": [
           {
            "colorbar": {
             "outlinewidth": 0,
             "ticks": ""
            },
            "type": "choropleth"
           }
          ],
          "contour": [
           {
            "colorbar": {
             "outlinewidth": 0,
             "ticks": ""
            },
            "colorscale": [
             [
              0,
              "#0d0887"
             ],
             [
              0.1111111111111111,
              "#46039f"
             ],
             [
              0.2222222222222222,
              "#7201a8"
             ],
             [
              0.3333333333333333,
              "#9c179e"
             ],
             [
              0.4444444444444444,
              "#bd3786"
             ],
             [
              0.5555555555555556,
              "#d8576b"
             ],
             [
              0.6666666666666666,
              "#ed7953"
             ],
             [
              0.7777777777777778,
              "#fb9f3a"
             ],
             [
              0.8888888888888888,
              "#fdca26"
             ],
             [
              1,
              "#f0f921"
             ]
            ],
            "type": "contour"
           }
          ],
          "contourcarpet": [
           {
            "colorbar": {
             "outlinewidth": 0,
             "ticks": ""
            },
            "type": "contourcarpet"
           }
          ],
          "heatmap": [
           {
            "colorbar": {
             "outlinewidth": 0,
             "ticks": ""
            },
            "colorscale": [
             [
              0,
              "#0d0887"
             ],
             [
              0.1111111111111111,
              "#46039f"
             ],
             [
              0.2222222222222222,
              "#7201a8"
             ],
             [
              0.3333333333333333,
              "#9c179e"
             ],
             [
              0.4444444444444444,
              "#bd3786"
             ],
             [
              0.5555555555555556,
              "#d8576b"
             ],
             [
              0.6666666666666666,
              "#ed7953"
             ],
             [
              0.7777777777777778,
              "#fb9f3a"
             ],
             [
              0.8888888888888888,
              "#fdca26"
             ],
             [
              1,
              "#f0f921"
             ]
            ],
            "type": "heatmap"
           }
          ],
          "heatmapgl": [
           {
            "colorbar": {
             "outlinewidth": 0,
             "ticks": ""
            },
            "colorscale": [
             [
              0,
              "#0d0887"
             ],
             [
              0.1111111111111111,
              "#46039f"
             ],
             [
              0.2222222222222222,
              "#7201a8"
             ],
             [
              0.3333333333333333,
              "#9c179e"
             ],
             [
              0.4444444444444444,
              "#bd3786"
             ],
             [
              0.5555555555555556,
              "#d8576b"
             ],
             [
              0.6666666666666666,
              "#ed7953"
             ],
             [
              0.7777777777777778,
              "#fb9f3a"
             ],
             [
              0.8888888888888888,
              "#fdca26"
             ],
             [
              1,
              "#f0f921"
             ]
            ],
            "type": "heatmapgl"
           }
          ],
          "histogram": [
           {
            "marker": {
             "pattern": {
              "fillmode": "overlay",
              "size": 10,
              "solidity": 0.2
             }
            },
            "type": "histogram"
           }
          ],
          "histogram2d": [
           {
            "colorbar": {
             "outlinewidth": 0,
             "ticks": ""
            },
            "colorscale": [
             [
              0,
              "#0d0887"
             ],
             [
              0.1111111111111111,
              "#46039f"
             ],
             [
              0.2222222222222222,
              "#7201a8"
             ],
             [
              0.3333333333333333,
              "#9c179e"
             ],
             [
              0.4444444444444444,
              "#bd3786"
             ],
             [
              0.5555555555555556,
              "#d8576b"
             ],
             [
              0.6666666666666666,
              "#ed7953"
             ],
             [
              0.7777777777777778,
              "#fb9f3a"
             ],
             [
              0.8888888888888888,
              "#fdca26"
             ],
             [
              1,
              "#f0f921"
             ]
            ],
            "type": "histogram2d"
           }
          ],
          "histogram2dcontour": [
           {
            "colorbar": {
             "outlinewidth": 0,
             "ticks": ""
            },
            "colorscale": [
             [
              0,
              "#0d0887"
             ],
             [
              0.1111111111111111,
              "#46039f"
             ],
             [
              0.2222222222222222,
              "#7201a8"
             ],
             [
              0.3333333333333333,
              "#9c179e"
             ],
             [
              0.4444444444444444,
              "#bd3786"
             ],
             [
              0.5555555555555556,
              "#d8576b"
             ],
             [
              0.6666666666666666,
              "#ed7953"
             ],
             [
              0.7777777777777778,
              "#fb9f3a"
             ],
             [
              0.8888888888888888,
              "#fdca26"
             ],
             [
              1,
              "#f0f921"
             ]
            ],
            "type": "histogram2dcontour"
           }
          ],
          "mesh3d": [
           {
            "colorbar": {
             "outlinewidth": 0,
             "ticks": ""
            },
            "type": "mesh3d"
           }
          ],
          "parcoords": [
           {
            "line": {
             "colorbar": {
              "outlinewidth": 0,
              "ticks": ""
             }
            },
            "type": "parcoords"
           }
          ],
          "pie": [
           {
            "automargin": true,
            "type": "pie"
           }
          ],
          "scatter": [
           {
            "marker": {
             "colorbar": {
              "outlinewidth": 0,
              "ticks": ""
             }
            },
            "type": "scatter"
           }
          ],
          "scatter3d": [
           {
            "line": {
             "colorbar": {
              "outlinewidth": 0,
              "ticks": ""
             }
            },
            "marker": {
             "colorbar": {
              "outlinewidth": 0,
              "ticks": ""
             }
            },
            "type": "scatter3d"
           }
          ],
          "scattercarpet": [
           {
            "marker": {
             "colorbar": {
              "outlinewidth": 0,
              "ticks": ""
             }
            },
            "type": "scattercarpet"
           }
          ],
          "scattergeo": [
           {
            "marker": {
             "colorbar": {
              "outlinewidth": 0,
              "ticks": ""
             }
            },
            "type": "scattergeo"
           }
          ],
          "scattergl": [
           {
            "marker": {
             "colorbar": {
              "outlinewidth": 0,
              "ticks": ""
             }
            },
            "type": "scattergl"
           }
          ],
          "scattermapbox": [
           {
            "marker": {
             "colorbar": {
              "outlinewidth": 0,
              "ticks": ""
             }
            },
            "type": "scattermapbox"
           }
          ],
          "scatterpolar": [
           {
            "marker": {
             "colorbar": {
              "outlinewidth": 0,
              "ticks": ""
             }
            },
            "type": "scatterpolar"
           }
          ],
          "scatterpolargl": [
           {
            "marker": {
             "colorbar": {
              "outlinewidth": 0,
              "ticks": ""
             }
            },
            "type": "scatterpolargl"
           }
          ],
          "scatterternary": [
           {
            "marker": {
             "colorbar": {
              "outlinewidth": 0,
              "ticks": ""
             }
            },
            "type": "scatterternary"
           }
          ],
          "surface": [
           {
            "colorbar": {
             "outlinewidth": 0,
             "ticks": ""
            },
            "colorscale": [
             [
              0,
              "#0d0887"
             ],
             [
              0.1111111111111111,
              "#46039f"
             ],
             [
              0.2222222222222222,
              "#7201a8"
             ],
             [
              0.3333333333333333,
              "#9c179e"
             ],
             [
              0.4444444444444444,
              "#bd3786"
             ],
             [
              0.5555555555555556,
              "#d8576b"
             ],
             [
              0.6666666666666666,
              "#ed7953"
             ],
             [
              0.7777777777777778,
              "#fb9f3a"
             ],
             [
              0.8888888888888888,
              "#fdca26"
             ],
             [
              1,
              "#f0f921"
             ]
            ],
            "type": "surface"
           }
          ],
          "table": [
           {
            "cells": {
             "fill": {
              "color": "#EBF0F8"
             },
             "line": {
              "color": "white"
             }
            },
            "header": {
             "fill": {
              "color": "#C8D4E3"
             },
             "line": {
              "color": "white"
             }
            },
            "type": "table"
           }
          ]
         },
         "layout": {
          "annotationdefaults": {
           "arrowcolor": "#2a3f5f",
           "arrowhead": 0,
           "arrowwidth": 1
          },
          "autotypenumbers": "strict",
          "coloraxis": {
           "colorbar": {
            "outlinewidth": 0,
            "ticks": ""
           }
          },
          "colorscale": {
           "diverging": [
            [
             0,
             "#8e0152"
            ],
            [
             0.1,
             "#c51b7d"
            ],
            [
             0.2,
             "#de77ae"
            ],
            [
             0.3,
             "#f1b6da"
            ],
            [
             0.4,
             "#fde0ef"
            ],
            [
             0.5,
             "#f7f7f7"
            ],
            [
             0.6,
             "#e6f5d0"
            ],
            [
             0.7,
             "#b8e186"
            ],
            [
             0.8,
             "#7fbc41"
            ],
            [
             0.9,
             "#4d9221"
            ],
            [
             1,
             "#276419"
            ]
           ],
           "sequential": [
            [
             0,
             "#0d0887"
            ],
            [
             0.1111111111111111,
             "#46039f"
            ],
            [
             0.2222222222222222,
             "#7201a8"
            ],
            [
             0.3333333333333333,
             "#9c179e"
            ],
            [
             0.4444444444444444,
             "#bd3786"
            ],
            [
             0.5555555555555556,
             "#d8576b"
            ],
            [
             0.6666666666666666,
             "#ed7953"
            ],
            [
             0.7777777777777778,
             "#fb9f3a"
            ],
            [
             0.8888888888888888,
             "#fdca26"
            ],
            [
             1,
             "#f0f921"
            ]
           ],
           "sequentialminus": [
            [
             0,
             "#0d0887"
            ],
            [
             0.1111111111111111,
             "#46039f"
            ],
            [
             0.2222222222222222,
             "#7201a8"
            ],
            [
             0.3333333333333333,
             "#9c179e"
            ],
            [
             0.4444444444444444,
             "#bd3786"
            ],
            [
             0.5555555555555556,
             "#d8576b"
            ],
            [
             0.6666666666666666,
             "#ed7953"
            ],
            [
             0.7777777777777778,
             "#fb9f3a"
            ],
            [
             0.8888888888888888,
             "#fdca26"
            ],
            [
             1,
             "#f0f921"
            ]
           ]
          },
          "colorway": [
           "#636efa",
           "#EF553B",
           "#00cc96",
           "#ab63fa",
           "#FFA15A",
           "#19d3f3",
           "#FF6692",
           "#B6E880",
           "#FF97FF",
           "#FECB52"
          ],
          "font": {
           "color": "#2a3f5f"
          },
          "geo": {
           "bgcolor": "white",
           "lakecolor": "white",
           "landcolor": "#E5ECF6",
           "showlakes": true,
           "showland": true,
           "subunitcolor": "white"
          },
          "hoverlabel": {
           "align": "left"
          },
          "hovermode": "closest",
          "mapbox": {
           "style": "light"
          },
          "paper_bgcolor": "white",
          "plot_bgcolor": "#E5ECF6",
          "polar": {
           "angularaxis": {
            "gridcolor": "white",
            "linecolor": "white",
            "ticks": ""
           },
           "bgcolor": "#E5ECF6",
           "radialaxis": {
            "gridcolor": "white",
            "linecolor": "white",
            "ticks": ""
           }
          },
          "scene": {
           "xaxis": {
            "backgroundcolor": "#E5ECF6",
            "gridcolor": "white",
            "gridwidth": 2,
            "linecolor": "white",
            "showbackground": true,
            "ticks": "",
            "zerolinecolor": "white"
           },
           "yaxis": {
            "backgroundcolor": "#E5ECF6",
            "gridcolor": "white",
            "gridwidth": 2,
            "linecolor": "white",
            "showbackground": true,
            "ticks": "",
            "zerolinecolor": "white"
           },
           "zaxis": {
            "backgroundcolor": "#E5ECF6",
            "gridcolor": "white",
            "gridwidth": 2,
            "linecolor": "white",
            "showbackground": true,
            "ticks": "",
            "zerolinecolor": "white"
           }
          },
          "shapedefaults": {
           "line": {
            "color": "#2a3f5f"
           }
          },
          "ternary": {
           "aaxis": {
            "gridcolor": "white",
            "linecolor": "white",
            "ticks": ""
           },
           "baxis": {
            "gridcolor": "white",
            "linecolor": "white",
            "ticks": ""
           },
           "bgcolor": "#E5ECF6",
           "caxis": {
            "gridcolor": "white",
            "linecolor": "white",
            "ticks": ""
           }
          },
          "title": {
           "x": 0.05
          },
          "xaxis": {
           "automargin": true,
           "gridcolor": "white",
           "linecolor": "white",
           "ticks": "",
           "title": {
            "standoff": 15
           },
           "zerolinecolor": "white",
           "zerolinewidth": 2
          },
          "yaxis": {
           "automargin": true,
           "gridcolor": "white",
           "linecolor": "white",
           "ticks": "",
           "title": {
            "standoff": 15
           },
           "zerolinecolor": "white",
           "zerolinewidth": 2
          }
         }
        }
       }
      },
      "text/html": [
       "<div>                            <div id=\"fe7b1c47-1a19-499a-9db1-31f17265dd40\" class=\"plotly-graph-div\" style=\"height:525px; width:100%;\"></div>            <script type=\"text/javascript\">                require([\"plotly\"], function(Plotly) {                    window.PLOTLYENV=window.PLOTLYENV || {};                                    if (document.getElementById(\"fe7b1c47-1a19-499a-9db1-31f17265dd40\")) {                    Plotly.newPlot(                        \"fe7b1c47-1a19-499a-9db1-31f17265dd40\",                        [{\"x\":[7419,4593,3734,3539,840],\"y\":[\"\\u0413\\u043b\\u0430\\u0432\\u043d\\u0430\\u044f \\u0441\\u0442\\u0440\\u0430\\u043d\\u0438\\u0446\\u0430\",\"\\u042d\\u043a\\u0440\\u0430\\u043d \\u043f\\u0440\\u0435\\u0434\\u043b\\u043e\\u0436\\u0435\\u043d\\u0438\\u0439\",\"\\u041a\\u043e\\u0440\\u0437\\u0438\\u043d\\u0430\",\"\\u0423\\u0441\\u043f\\u0435\\u0448\\u043d\\u0430\\u044f \\u043e\\u043f\\u043b\\u0430\\u0442\\u0430\",\"\\u0420\\u0443\\u043a\\u043e\\u0432\\u043e\\u0434\\u0441\\u0442\\u0432\\u043e\"],\"type\":\"funnel\"}],                        {\"template\":{\"data\":{\"bar\":[{\"error_x\":{\"color\":\"#2a3f5f\"},\"error_y\":{\"color\":\"#2a3f5f\"},\"marker\":{\"line\":{\"color\":\"#E5ECF6\",\"width\":0.5},\"pattern\":{\"fillmode\":\"overlay\",\"size\":10,\"solidity\":0.2}},\"type\":\"bar\"}],\"barpolar\":[{\"marker\":{\"line\":{\"color\":\"#E5ECF6\",\"width\":0.5},\"pattern\":{\"fillmode\":\"overlay\",\"size\":10,\"solidity\":0.2}},\"type\":\"barpolar\"}],\"carpet\":[{\"aaxis\":{\"endlinecolor\":\"#2a3f5f\",\"gridcolor\":\"white\",\"linecolor\":\"white\",\"minorgridcolor\":\"white\",\"startlinecolor\":\"#2a3f5f\"},\"baxis\":{\"endlinecolor\":\"#2a3f5f\",\"gridcolor\":\"white\",\"linecolor\":\"white\",\"minorgridcolor\":\"white\",\"startlinecolor\":\"#2a3f5f\"},\"type\":\"carpet\"}],\"choropleth\":[{\"colorbar\":{\"outlinewidth\":0,\"ticks\":\"\"},\"type\":\"choropleth\"}],\"contour\":[{\"colorbar\":{\"outlinewidth\":0,\"ticks\":\"\"},\"colorscale\":[[0.0,\"#0d0887\"],[0.1111111111111111,\"#46039f\"],[0.2222222222222222,\"#7201a8\"],[0.3333333333333333,\"#9c179e\"],[0.4444444444444444,\"#bd3786\"],[0.5555555555555556,\"#d8576b\"],[0.6666666666666666,\"#ed7953\"],[0.7777777777777778,\"#fb9f3a\"],[0.8888888888888888,\"#fdca26\"],[1.0,\"#f0f921\"]],\"type\":\"contour\"}],\"contourcarpet\":[{\"colorbar\":{\"outlinewidth\":0,\"ticks\":\"\"},\"type\":\"contourcarpet\"}],\"heatmap\":[{\"colorbar\":{\"outlinewidth\":0,\"ticks\":\"\"},\"colorscale\":[[0.0,\"#0d0887\"],[0.1111111111111111,\"#46039f\"],[0.2222222222222222,\"#7201a8\"],[0.3333333333333333,\"#9c179e\"],[0.4444444444444444,\"#bd3786\"],[0.5555555555555556,\"#d8576b\"],[0.6666666666666666,\"#ed7953\"],[0.7777777777777778,\"#fb9f3a\"],[0.8888888888888888,\"#fdca26\"],[1.0,\"#f0f921\"]],\"type\":\"heatmap\"}],\"heatmapgl\":[{\"colorbar\":{\"outlinewidth\":0,\"ticks\":\"\"},\"colorscale\":[[0.0,\"#0d0887\"],[0.1111111111111111,\"#46039f\"],[0.2222222222222222,\"#7201a8\"],[0.3333333333333333,\"#9c179e\"],[0.4444444444444444,\"#bd3786\"],[0.5555555555555556,\"#d8576b\"],[0.6666666666666666,\"#ed7953\"],[0.7777777777777778,\"#fb9f3a\"],[0.8888888888888888,\"#fdca26\"],[1.0,\"#f0f921\"]],\"type\":\"heatmapgl\"}],\"histogram\":[{\"marker\":{\"pattern\":{\"fillmode\":\"overlay\",\"size\":10,\"solidity\":0.2}},\"type\":\"histogram\"}],\"histogram2d\":[{\"colorbar\":{\"outlinewidth\":0,\"ticks\":\"\"},\"colorscale\":[[0.0,\"#0d0887\"],[0.1111111111111111,\"#46039f\"],[0.2222222222222222,\"#7201a8\"],[0.3333333333333333,\"#9c179e\"],[0.4444444444444444,\"#bd3786\"],[0.5555555555555556,\"#d8576b\"],[0.6666666666666666,\"#ed7953\"],[0.7777777777777778,\"#fb9f3a\"],[0.8888888888888888,\"#fdca26\"],[1.0,\"#f0f921\"]],\"type\":\"histogram2d\"}],\"histogram2dcontour\":[{\"colorbar\":{\"outlinewidth\":0,\"ticks\":\"\"},\"colorscale\":[[0.0,\"#0d0887\"],[0.1111111111111111,\"#46039f\"],[0.2222222222222222,\"#7201a8\"],[0.3333333333333333,\"#9c179e\"],[0.4444444444444444,\"#bd3786\"],[0.5555555555555556,\"#d8576b\"],[0.6666666666666666,\"#ed7953\"],[0.7777777777777778,\"#fb9f3a\"],[0.8888888888888888,\"#fdca26\"],[1.0,\"#f0f921\"]],\"type\":\"histogram2dcontour\"}],\"mesh3d\":[{\"colorbar\":{\"outlinewidth\":0,\"ticks\":\"\"},\"type\":\"mesh3d\"}],\"parcoords\":[{\"line\":{\"colorbar\":{\"outlinewidth\":0,\"ticks\":\"\"}},\"type\":\"parcoords\"}],\"pie\":[{\"automargin\":true,\"type\":\"pie\"}],\"scatter\":[{\"marker\":{\"colorbar\":{\"outlinewidth\":0,\"ticks\":\"\"}},\"type\":\"scatter\"}],\"scatter3d\":[{\"line\":{\"colorbar\":{\"outlinewidth\":0,\"ticks\":\"\"}},\"marker\":{\"colorbar\":{\"outlinewidth\":0,\"ticks\":\"\"}},\"type\":\"scatter3d\"}],\"scattercarpet\":[{\"marker\":{\"colorbar\":{\"outlinewidth\":0,\"ticks\":\"\"}},\"type\":\"scattercarpet\"}],\"scattergeo\":[{\"marker\":{\"colorbar\":{\"outlinewidth\":0,\"ticks\":\"\"}},\"type\":\"scattergeo\"}],\"scattergl\":[{\"marker\":{\"colorbar\":{\"outlinewidth\":0,\"ticks\":\"\"}},\"type\":\"scattergl\"}],\"scattermapbox\":[{\"marker\":{\"colorbar\":{\"outlinewidth\":0,\"ticks\":\"\"}},\"type\":\"scattermapbox\"}],\"scatterpolar\":[{\"marker\":{\"colorbar\":{\"outlinewidth\":0,\"ticks\":\"\"}},\"type\":\"scatterpolar\"}],\"scatterpolargl\":[{\"marker\":{\"colorbar\":{\"outlinewidth\":0,\"ticks\":\"\"}},\"type\":\"scatterpolargl\"}],\"scatterternary\":[{\"marker\":{\"colorbar\":{\"outlinewidth\":0,\"ticks\":\"\"}},\"type\":\"scatterternary\"}],\"surface\":[{\"colorbar\":{\"outlinewidth\":0,\"ticks\":\"\"},\"colorscale\":[[0.0,\"#0d0887\"],[0.1111111111111111,\"#46039f\"],[0.2222222222222222,\"#7201a8\"],[0.3333333333333333,\"#9c179e\"],[0.4444444444444444,\"#bd3786\"],[0.5555555555555556,\"#d8576b\"],[0.6666666666666666,\"#ed7953\"],[0.7777777777777778,\"#fb9f3a\"],[0.8888888888888888,\"#fdca26\"],[1.0,\"#f0f921\"]],\"type\":\"surface\"}],\"table\":[{\"cells\":{\"fill\":{\"color\":\"#EBF0F8\"},\"line\":{\"color\":\"white\"}},\"header\":{\"fill\":{\"color\":\"#C8D4E3\"},\"line\":{\"color\":\"white\"}},\"type\":\"table\"}]},\"layout\":{\"annotationdefaults\":{\"arrowcolor\":\"#2a3f5f\",\"arrowhead\":0,\"arrowwidth\":1},\"autotypenumbers\":\"strict\",\"coloraxis\":{\"colorbar\":{\"outlinewidth\":0,\"ticks\":\"\"}},\"colorscale\":{\"diverging\":[[0,\"#8e0152\"],[0.1,\"#c51b7d\"],[0.2,\"#de77ae\"],[0.3,\"#f1b6da\"],[0.4,\"#fde0ef\"],[0.5,\"#f7f7f7\"],[0.6,\"#e6f5d0\"],[0.7,\"#b8e186\"],[0.8,\"#7fbc41\"],[0.9,\"#4d9221\"],[1,\"#276419\"]],\"sequential\":[[0.0,\"#0d0887\"],[0.1111111111111111,\"#46039f\"],[0.2222222222222222,\"#7201a8\"],[0.3333333333333333,\"#9c179e\"],[0.4444444444444444,\"#bd3786\"],[0.5555555555555556,\"#d8576b\"],[0.6666666666666666,\"#ed7953\"],[0.7777777777777778,\"#fb9f3a\"],[0.8888888888888888,\"#fdca26\"],[1.0,\"#f0f921\"]],\"sequentialminus\":[[0.0,\"#0d0887\"],[0.1111111111111111,\"#46039f\"],[0.2222222222222222,\"#7201a8\"],[0.3333333333333333,\"#9c179e\"],[0.4444444444444444,\"#bd3786\"],[0.5555555555555556,\"#d8576b\"],[0.6666666666666666,\"#ed7953\"],[0.7777777777777778,\"#fb9f3a\"],[0.8888888888888888,\"#fdca26\"],[1.0,\"#f0f921\"]]},\"colorway\":[\"#636efa\",\"#EF553B\",\"#00cc96\",\"#ab63fa\",\"#FFA15A\",\"#19d3f3\",\"#FF6692\",\"#B6E880\",\"#FF97FF\",\"#FECB52\"],\"font\":{\"color\":\"#2a3f5f\"},\"geo\":{\"bgcolor\":\"white\",\"lakecolor\":\"white\",\"landcolor\":\"#E5ECF6\",\"showlakes\":true,\"showland\":true,\"subunitcolor\":\"white\"},\"hoverlabel\":{\"align\":\"left\"},\"hovermode\":\"closest\",\"mapbox\":{\"style\":\"light\"},\"paper_bgcolor\":\"white\",\"plot_bgcolor\":\"#E5ECF6\",\"polar\":{\"angularaxis\":{\"gridcolor\":\"white\",\"linecolor\":\"white\",\"ticks\":\"\"},\"bgcolor\":\"#E5ECF6\",\"radialaxis\":{\"gridcolor\":\"white\",\"linecolor\":\"white\",\"ticks\":\"\"}},\"scene\":{\"xaxis\":{\"backgroundcolor\":\"#E5ECF6\",\"gridcolor\":\"white\",\"gridwidth\":2,\"linecolor\":\"white\",\"showbackground\":true,\"ticks\":\"\",\"zerolinecolor\":\"white\"},\"yaxis\":{\"backgroundcolor\":\"#E5ECF6\",\"gridcolor\":\"white\",\"gridwidth\":2,\"linecolor\":\"white\",\"showbackground\":true,\"ticks\":\"\",\"zerolinecolor\":\"white\"},\"zaxis\":{\"backgroundcolor\":\"#E5ECF6\",\"gridcolor\":\"white\",\"gridwidth\":2,\"linecolor\":\"white\",\"showbackground\":true,\"ticks\":\"\",\"zerolinecolor\":\"white\"}},\"shapedefaults\":{\"line\":{\"color\":\"#2a3f5f\"}},\"ternary\":{\"aaxis\":{\"gridcolor\":\"white\",\"linecolor\":\"white\",\"ticks\":\"\"},\"baxis\":{\"gridcolor\":\"white\",\"linecolor\":\"white\",\"ticks\":\"\"},\"bgcolor\":\"#E5ECF6\",\"caxis\":{\"gridcolor\":\"white\",\"linecolor\":\"white\",\"ticks\":\"\"}},\"title\":{\"x\":0.05},\"xaxis\":{\"automargin\":true,\"gridcolor\":\"white\",\"linecolor\":\"white\",\"ticks\":\"\",\"title\":{\"standoff\":15},\"zerolinecolor\":\"white\",\"zerolinewidth\":2},\"yaxis\":{\"automargin\":true,\"gridcolor\":\"white\",\"linecolor\":\"white\",\"ticks\":\"\",\"title\":{\"standoff\":15},\"zerolinecolor\":\"white\",\"zerolinewidth\":2}}}},                        {\"responsive\": true}                    ).then(function(){\n",
       "                            \n",
       "var gd = document.getElementById('fe7b1c47-1a19-499a-9db1-31f17265dd40');\n",
       "var x = new MutationObserver(function (mutations, observer) {{\n",
       "        var display = window.getComputedStyle(gd).display;\n",
       "        if (!display || display === 'none') {{\n",
       "            console.log([gd, 'removed!']);\n",
       "            Plotly.purge(gd);\n",
       "            observer.disconnect();\n",
       "        }}\n",
       "}});\n",
       "\n",
       "// Listen for the removal of the full notebook cells\n",
       "var notebookContainer = gd.closest('#notebook-container');\n",
       "if (notebookContainer) {{\n",
       "    x.observe(notebookContainer, {childList: true});\n",
       "}}\n",
       "\n",
       "// Listen for the clearing of the current output cell\n",
       "var outputEl = gd.closest('.output');\n",
       "if (outputEl) {{\n",
       "    x.observe(outputEl, {childList: true});\n",
       "}}\n",
       "\n",
       "                        })                };                });            </script>        </div>"
      ]
     },
     "metadata": {},
     "output_type": "display_data"
    }
   ],
   "source": [
    "logs_kind = logs_filtered.groupby('event_name', as_index=False).agg({'user_id':'nunique'})\n",
    "logs_kind.columns = ['название события', 'количество пользователей']\n",
    "logs_kind_funnel = logs_kind['количество пользователей'].sort_values(ascending=False).to_list()\n",
    "fig = go.Figure(\n",
    "    go.Funnel(\n",
    "        y=[\n",
    "            'Главная страница',\n",
    "            'Экран предложений',\n",
    "            'Корзина',\n",
    "            'Успешная оплата',\n",
    "            'Руководство'\n",
    "        ],\n",
    "        x=logs_kind_funnel,\n",
    "    )\n",
    ")\n",
    "fig.show()"
   ]
  },
  {
   "cell_type": "markdown",
   "metadata": {},
   "source": [
    "В пользователях картина чуть лучше. Гораздо сильно уменьшился разрыв между первой и второй воронкой (увеличились примерно на ~20% пунктов). Однако ситуация с \"Руководство\" хоть и стала лучше, проблема всё ещё явной. Снова встаёт вопрос: нам точно нужен туториал? Он вообще не влияет на процесс покупки. Кажется это лишний этап."
   ]
  },
  {
   "cell_type": "markdown",
   "metadata": {},
   "source": [
    "#### Предположите, в каком порядке происходят события. Все ли они выстраиваются в последовательную цепочку? Их не нужно учитывать при расчёте воронки."
   ]
  },
  {
   "cell_type": "markdown",
   "metadata": {},
   "source": [
    "Возьмем для примера любой один user_id, чтобы посмотреть на хронологию событий"
   ]
  },
  {
   "cell_type": "code",
   "execution_count": 17,
   "metadata": {},
   "outputs": [
    {
     "data": {
      "text/html": [
       "<div>\n",
       "<style scoped>\n",
       "    .dataframe tbody tr th:only-of-type {\n",
       "        vertical-align: middle;\n",
       "    }\n",
       "\n",
       "    .dataframe tbody tr th {\n",
       "        vertical-align: top;\n",
       "    }\n",
       "\n",
       "    .dataframe thead th {\n",
       "        text-align: right;\n",
       "    }\n",
       "</style>\n",
       "<table border=\"1\" class=\"dataframe\">\n",
       "  <thead>\n",
       "    <tr style=\"text-align: right;\">\n",
       "      <th></th>\n",
       "      <th>event_name</th>\n",
       "      <th>user_id</th>\n",
       "      <th>event_time</th>\n",
       "      <th>group</th>\n",
       "      <th>date</th>\n",
       "    </tr>\n",
       "  </thead>\n",
       "  <tbody>\n",
       "    <tr>\n",
       "      <th>2828</th>\n",
       "      <td>Tutorial</td>\n",
       "      <td>3737462046622621720</td>\n",
       "      <td>2019-08-01 00:07:28</td>\n",
       "      <td>a1</td>\n",
       "      <td>2019-08-01</td>\n",
       "    </tr>\n",
       "    <tr>\n",
       "      <th>2829</th>\n",
       "      <td>MainScreenAppear</td>\n",
       "      <td>3737462046622621720</td>\n",
       "      <td>2019-08-01 00:08:00</td>\n",
       "      <td>a1</td>\n",
       "      <td>2019-08-01</td>\n",
       "    </tr>\n",
       "    <tr>\n",
       "      <th>2830</th>\n",
       "      <td>MainScreenAppear</td>\n",
       "      <td>3737462046622621720</td>\n",
       "      <td>2019-08-01 00:08:55</td>\n",
       "      <td>a1</td>\n",
       "      <td>2019-08-01</td>\n",
       "    </tr>\n",
       "    <tr>\n",
       "      <th>2831</th>\n",
       "      <td>OffersScreenAppear</td>\n",
       "      <td>3737462046622621720</td>\n",
       "      <td>2019-08-01 00:08:58</td>\n",
       "      <td>a1</td>\n",
       "      <td>2019-08-01</td>\n",
       "    </tr>\n",
       "    <tr>\n",
       "      <th>2834</th>\n",
       "      <td>OffersScreenAppear</td>\n",
       "      <td>3737462046622621720</td>\n",
       "      <td>2019-08-01 00:10:26</td>\n",
       "      <td>a1</td>\n",
       "      <td>2019-08-01</td>\n",
       "    </tr>\n",
       "    <tr>\n",
       "      <th>2835</th>\n",
       "      <td>MainScreenAppear</td>\n",
       "      <td>3737462046622621720</td>\n",
       "      <td>2019-08-01 00:10:47</td>\n",
       "      <td>a1</td>\n",
       "      <td>2019-08-01</td>\n",
       "    </tr>\n",
       "    <tr>\n",
       "      <th>2836</th>\n",
       "      <td>MainScreenAppear</td>\n",
       "      <td>3737462046622621720</td>\n",
       "      <td>2019-08-01 00:11:10</td>\n",
       "      <td>a1</td>\n",
       "      <td>2019-08-01</td>\n",
       "    </tr>\n",
       "    <tr>\n",
       "      <th>2837</th>\n",
       "      <td>MainScreenAppear</td>\n",
       "      <td>3737462046622621720</td>\n",
       "      <td>2019-08-01 00:11:20</td>\n",
       "      <td>a1</td>\n",
       "      <td>2019-08-01</td>\n",
       "    </tr>\n",
       "    <tr>\n",
       "      <th>2841</th>\n",
       "      <td>Tutorial</td>\n",
       "      <td>3737462046622621720</td>\n",
       "      <td>2019-08-01 00:12:18</td>\n",
       "      <td>a1</td>\n",
       "      <td>2019-08-01</td>\n",
       "    </tr>\n",
       "    <tr>\n",
       "      <th>2842</th>\n",
       "      <td>MainScreenAppear</td>\n",
       "      <td>3737462046622621720</td>\n",
       "      <td>2019-08-01 00:12:34</td>\n",
       "      <td>a1</td>\n",
       "      <td>2019-08-01</td>\n",
       "    </tr>\n",
       "    <tr>\n",
       "      <th>14835</th>\n",
       "      <td>MainScreenAppear</td>\n",
       "      <td>3737462046622621720</td>\n",
       "      <td>2019-08-01 10:45:54</td>\n",
       "      <td>a1</td>\n",
       "      <td>2019-08-01</td>\n",
       "    </tr>\n",
       "    <tr>\n",
       "      <th>21428</th>\n",
       "      <td>MainScreenAppear</td>\n",
       "      <td>3737462046622621720</td>\n",
       "      <td>2019-08-01 13:30:04</td>\n",
       "      <td>a1</td>\n",
       "      <td>2019-08-01</td>\n",
       "    </tr>\n",
       "    <tr>\n",
       "      <th>21433</th>\n",
       "      <td>OffersScreenAppear</td>\n",
       "      <td>3737462046622621720</td>\n",
       "      <td>2019-08-01 13:30:12</td>\n",
       "      <td>a1</td>\n",
       "      <td>2019-08-01</td>\n",
       "    </tr>\n",
       "    <tr>\n",
       "      <th>21437</th>\n",
       "      <td>CartScreenAppear</td>\n",
       "      <td>3737462046622621720</td>\n",
       "      <td>2019-08-01 13:30:20</td>\n",
       "      <td>a1</td>\n",
       "      <td>2019-08-01</td>\n",
       "    </tr>\n",
       "    <tr>\n",
       "      <th>21456</th>\n",
       "      <td>PaymentScreenSuccessful</td>\n",
       "      <td>3737462046622621720</td>\n",
       "      <td>2019-08-01 13:30:37</td>\n",
       "      <td>a1</td>\n",
       "      <td>2019-08-01</td>\n",
       "    </tr>\n",
       "    <tr>\n",
       "      <th>21461</th>\n",
       "      <td>OffersScreenAppear</td>\n",
       "      <td>3737462046622621720</td>\n",
       "      <td>2019-08-01 13:30:41</td>\n",
       "      <td>a1</td>\n",
       "      <td>2019-08-01</td>\n",
       "    </tr>\n",
       "    <tr>\n",
       "      <th>21481</th>\n",
       "      <td>PaymentScreenSuccessful</td>\n",
       "      <td>3737462046622621720</td>\n",
       "      <td>2019-08-01 13:31:01</td>\n",
       "      <td>a1</td>\n",
       "      <td>2019-08-01</td>\n",
       "    </tr>\n",
       "    <tr>\n",
       "      <th>21483</th>\n",
       "      <td>CartScreenAppear</td>\n",
       "      <td>3737462046622621720</td>\n",
       "      <td>2019-08-01 13:31:02</td>\n",
       "      <td>a1</td>\n",
       "      <td>2019-08-01</td>\n",
       "    </tr>\n",
       "    <tr>\n",
       "      <th>21500</th>\n",
       "      <td>OffersScreenAppear</td>\n",
       "      <td>3737462046622621720</td>\n",
       "      <td>2019-08-01 13:31:27</td>\n",
       "      <td>a1</td>\n",
       "      <td>2019-08-01</td>\n",
       "    </tr>\n",
       "    <tr>\n",
       "      <th>21506</th>\n",
       "      <td>CartScreenAppear</td>\n",
       "      <td>3737462046622621720</td>\n",
       "      <td>2019-08-01 13:31:38</td>\n",
       "      <td>a1</td>\n",
       "      <td>2019-08-01</td>\n",
       "    </tr>\n",
       "    <tr>\n",
       "      <th>21515</th>\n",
       "      <td>CartScreenAppear</td>\n",
       "      <td>3737462046622621720</td>\n",
       "      <td>2019-08-01 13:32:05</td>\n",
       "      <td>a1</td>\n",
       "      <td>2019-08-01</td>\n",
       "    </tr>\n",
       "    <tr>\n",
       "      <th>21535</th>\n",
       "      <td>PaymentScreenSuccessful</td>\n",
       "      <td>3737462046622621720</td>\n",
       "      <td>2019-08-01 13:32:29</td>\n",
       "      <td>a1</td>\n",
       "      <td>2019-08-01</td>\n",
       "    </tr>\n",
       "    <tr>\n",
       "      <th>21536</th>\n",
       "      <td>CartScreenAppear</td>\n",
       "      <td>3737462046622621720</td>\n",
       "      <td>2019-08-01 13:32:30</td>\n",
       "      <td>a1</td>\n",
       "      <td>2019-08-01</td>\n",
       "    </tr>\n",
       "    <tr>\n",
       "      <th>26563</th>\n",
       "      <td>MainScreenAppear</td>\n",
       "      <td>3737462046622621720</td>\n",
       "      <td>2019-08-01 15:30:55</td>\n",
       "      <td>a1</td>\n",
       "      <td>2019-08-01</td>\n",
       "    </tr>\n",
       "    <tr>\n",
       "      <th>35881</th>\n",
       "      <td>MainScreenAppear</td>\n",
       "      <td>3737462046622621720</td>\n",
       "      <td>2019-08-01 19:23:59</td>\n",
       "      <td>a1</td>\n",
       "      <td>2019-08-01</td>\n",
       "    </tr>\n",
       "    <tr>\n",
       "      <th>35883</th>\n",
       "      <td>OffersScreenAppear</td>\n",
       "      <td>3737462046622621720</td>\n",
       "      <td>2019-08-01 19:24:03</td>\n",
       "      <td>a1</td>\n",
       "      <td>2019-08-01</td>\n",
       "    </tr>\n",
       "    <tr>\n",
       "      <th>54720</th>\n",
       "      <td>MainScreenAppear</td>\n",
       "      <td>3737462046622621720</td>\n",
       "      <td>2019-08-02 11:43:22</td>\n",
       "      <td>a1</td>\n",
       "      <td>2019-08-02</td>\n",
       "    </tr>\n",
       "    <tr>\n",
       "      <th>54724</th>\n",
       "      <td>OffersScreenAppear</td>\n",
       "      <td>3737462046622621720</td>\n",
       "      <td>2019-08-02 11:43:26</td>\n",
       "      <td>a1</td>\n",
       "      <td>2019-08-02</td>\n",
       "    </tr>\n",
       "    <tr>\n",
       "      <th>54786</th>\n",
       "      <td>OffersScreenAppear</td>\n",
       "      <td>3737462046622621720</td>\n",
       "      <td>2019-08-02 11:44:46</td>\n",
       "      <td>a1</td>\n",
       "      <td>2019-08-02</td>\n",
       "    </tr>\n",
       "    <tr>\n",
       "      <th>85397</th>\n",
       "      <td>MainScreenAppear</td>\n",
       "      <td>3737462046622621720</td>\n",
       "      <td>2019-08-03 10:13:58</td>\n",
       "      <td>a1</td>\n",
       "      <td>2019-08-03</td>\n",
       "    </tr>\n",
       "    <tr>\n",
       "      <th>95115</th>\n",
       "      <td>MainScreenAppear</td>\n",
       "      <td>3737462046622621720</td>\n",
       "      <td>2019-08-03 14:22:37</td>\n",
       "      <td>a1</td>\n",
       "      <td>2019-08-03</td>\n",
       "    </tr>\n",
       "    <tr>\n",
       "      <th>95133</th>\n",
       "      <td>PaymentScreenSuccessful</td>\n",
       "      <td>3737462046622621720</td>\n",
       "      <td>2019-08-03 14:22:49</td>\n",
       "      <td>a1</td>\n",
       "      <td>2019-08-03</td>\n",
       "    </tr>\n",
       "    <tr>\n",
       "      <th>95134</th>\n",
       "      <td>CartScreenAppear</td>\n",
       "      <td>3737462046622621720</td>\n",
       "      <td>2019-08-03 14:22:49</td>\n",
       "      <td>a1</td>\n",
       "      <td>2019-08-03</td>\n",
       "    </tr>\n",
       "    <tr>\n",
       "      <th>95149</th>\n",
       "      <td>OffersScreenAppear</td>\n",
       "      <td>3737462046622621720</td>\n",
       "      <td>2019-08-03 14:23:05</td>\n",
       "      <td>a1</td>\n",
       "      <td>2019-08-03</td>\n",
       "    </tr>\n",
       "    <tr>\n",
       "      <th>95981</th>\n",
       "      <td>OffersScreenAppear</td>\n",
       "      <td>3737462046622621720</td>\n",
       "      <td>2019-08-03 14:43:40</td>\n",
       "      <td>a1</td>\n",
       "      <td>2019-08-03</td>\n",
       "    </tr>\n",
       "    <tr>\n",
       "      <th>155623</th>\n",
       "      <td>MainScreenAppear</td>\n",
       "      <td>3737462046622621720</td>\n",
       "      <td>2019-08-05 11:53:16</td>\n",
       "      <td>a1</td>\n",
       "      <td>2019-08-05</td>\n",
       "    </tr>\n",
       "    <tr>\n",
       "      <th>155629</th>\n",
       "      <td>OffersScreenAppear</td>\n",
       "      <td>3737462046622621720</td>\n",
       "      <td>2019-08-05 11:53:19</td>\n",
       "      <td>a1</td>\n",
       "      <td>2019-08-05</td>\n",
       "    </tr>\n",
       "    <tr>\n",
       "      <th>155635</th>\n",
       "      <td>OffersScreenAppear</td>\n",
       "      <td>3737462046622621720</td>\n",
       "      <td>2019-08-05 11:53:28</td>\n",
       "      <td>a1</td>\n",
       "      <td>2019-08-05</td>\n",
       "    </tr>\n",
       "  </tbody>\n",
       "</table>\n",
       "</div>"
      ],
      "text/plain": [
       "                     event_name              user_id          event_time  \\\n",
       "2828                   Tutorial  3737462046622621720 2019-08-01 00:07:28   \n",
       "2829           MainScreenAppear  3737462046622621720 2019-08-01 00:08:00   \n",
       "2830           MainScreenAppear  3737462046622621720 2019-08-01 00:08:55   \n",
       "2831         OffersScreenAppear  3737462046622621720 2019-08-01 00:08:58   \n",
       "2834         OffersScreenAppear  3737462046622621720 2019-08-01 00:10:26   \n",
       "2835           MainScreenAppear  3737462046622621720 2019-08-01 00:10:47   \n",
       "2836           MainScreenAppear  3737462046622621720 2019-08-01 00:11:10   \n",
       "2837           MainScreenAppear  3737462046622621720 2019-08-01 00:11:20   \n",
       "2841                   Tutorial  3737462046622621720 2019-08-01 00:12:18   \n",
       "2842           MainScreenAppear  3737462046622621720 2019-08-01 00:12:34   \n",
       "14835          MainScreenAppear  3737462046622621720 2019-08-01 10:45:54   \n",
       "21428          MainScreenAppear  3737462046622621720 2019-08-01 13:30:04   \n",
       "21433        OffersScreenAppear  3737462046622621720 2019-08-01 13:30:12   \n",
       "21437          CartScreenAppear  3737462046622621720 2019-08-01 13:30:20   \n",
       "21456   PaymentScreenSuccessful  3737462046622621720 2019-08-01 13:30:37   \n",
       "21461        OffersScreenAppear  3737462046622621720 2019-08-01 13:30:41   \n",
       "21481   PaymentScreenSuccessful  3737462046622621720 2019-08-01 13:31:01   \n",
       "21483          CartScreenAppear  3737462046622621720 2019-08-01 13:31:02   \n",
       "21500        OffersScreenAppear  3737462046622621720 2019-08-01 13:31:27   \n",
       "21506          CartScreenAppear  3737462046622621720 2019-08-01 13:31:38   \n",
       "21515          CartScreenAppear  3737462046622621720 2019-08-01 13:32:05   \n",
       "21535   PaymentScreenSuccessful  3737462046622621720 2019-08-01 13:32:29   \n",
       "21536          CartScreenAppear  3737462046622621720 2019-08-01 13:32:30   \n",
       "26563          MainScreenAppear  3737462046622621720 2019-08-01 15:30:55   \n",
       "35881          MainScreenAppear  3737462046622621720 2019-08-01 19:23:59   \n",
       "35883        OffersScreenAppear  3737462046622621720 2019-08-01 19:24:03   \n",
       "54720          MainScreenAppear  3737462046622621720 2019-08-02 11:43:22   \n",
       "54724        OffersScreenAppear  3737462046622621720 2019-08-02 11:43:26   \n",
       "54786        OffersScreenAppear  3737462046622621720 2019-08-02 11:44:46   \n",
       "85397          MainScreenAppear  3737462046622621720 2019-08-03 10:13:58   \n",
       "95115          MainScreenAppear  3737462046622621720 2019-08-03 14:22:37   \n",
       "95133   PaymentScreenSuccessful  3737462046622621720 2019-08-03 14:22:49   \n",
       "95134          CartScreenAppear  3737462046622621720 2019-08-03 14:22:49   \n",
       "95149        OffersScreenAppear  3737462046622621720 2019-08-03 14:23:05   \n",
       "95981        OffersScreenAppear  3737462046622621720 2019-08-03 14:43:40   \n",
       "155623         MainScreenAppear  3737462046622621720 2019-08-05 11:53:16   \n",
       "155629       OffersScreenAppear  3737462046622621720 2019-08-05 11:53:19   \n",
       "155635       OffersScreenAppear  3737462046622621720 2019-08-05 11:53:28   \n",
       "\n",
       "       group        date  \n",
       "2828      a1  2019-08-01  \n",
       "2829      a1  2019-08-01  \n",
       "2830      a1  2019-08-01  \n",
       "2831      a1  2019-08-01  \n",
       "2834      a1  2019-08-01  \n",
       "2835      a1  2019-08-01  \n",
       "2836      a1  2019-08-01  \n",
       "2837      a1  2019-08-01  \n",
       "2841      a1  2019-08-01  \n",
       "2842      a1  2019-08-01  \n",
       "14835     a1  2019-08-01  \n",
       "21428     a1  2019-08-01  \n",
       "21433     a1  2019-08-01  \n",
       "21437     a1  2019-08-01  \n",
       "21456     a1  2019-08-01  \n",
       "21461     a1  2019-08-01  \n",
       "21481     a1  2019-08-01  \n",
       "21483     a1  2019-08-01  \n",
       "21500     a1  2019-08-01  \n",
       "21506     a1  2019-08-01  \n",
       "21515     a1  2019-08-01  \n",
       "21535     a1  2019-08-01  \n",
       "21536     a1  2019-08-01  \n",
       "26563     a1  2019-08-01  \n",
       "35881     a1  2019-08-01  \n",
       "35883     a1  2019-08-01  \n",
       "54720     a1  2019-08-02  \n",
       "54724     a1  2019-08-02  \n",
       "54786     a1  2019-08-02  \n",
       "85397     a1  2019-08-03  \n",
       "95115     a1  2019-08-03  \n",
       "95133     a1  2019-08-03  \n",
       "95134     a1  2019-08-03  \n",
       "95149     a1  2019-08-03  \n",
       "95981     a1  2019-08-03  \n",
       "155623    a1  2019-08-05  \n",
       "155629    a1  2019-08-05  \n",
       "155635    a1  2019-08-05  "
      ]
     },
     "execution_count": 17,
     "metadata": {},
     "output_type": "execute_result"
    }
   ],
   "source": [
    "logs_filtered[logs_filtered['user_id'] == 3737462046622621720].sort_values(by='event_time')"
   ]
  },
  {
   "cell_type": "markdown",
   "metadata": {},
   "source": [
    "Выяснили, что оказывается экран \"Руководство\" необязательно находится на последнем этапе воронки. Возможно, это онбордиг + кнопка на главном экране при нажатии на которую происходит переход на руководство по использованию приложения или покупке товаров. Также по этим данным можно понять, что экран оплаты и экран предложений необязательно должен идти до экрана корзины (2019-08-03 14:22:49). То есть, фактически можно оплатить товар прямо с главного экрана (возможно до этого пользователь на экране предложений добавил товары в корзину, потом перешел на главную, где снизу появилась всплывающая кнопка о покупке товара)"
   ]
  },
  {
   "cell_type": "markdown",
   "metadata": {},
   "source": [
    "#### По воронке событий посчитайте, какая доля пользователей проходит на следующий шаг воронки (от числа пользователей на предыдущем). То есть для последовательности событий A → B → C посчитайте отношение числа пользователей с событием B к количеству пользователей с событием A, а также отношение числа пользователей с событием C к количеству пользователей с событием B.\n"
   ]
  },
  {
   "cell_type": "markdown",
   "metadata": {},
   "source": [
    "Берём данные из двух верних интерактивных воронок (при наведении):\n",
    "1. Воронка в событиях:\n",
    "    - Из \"Главный экран\" в \"Экран предложений\": 39.5%\n",
    "    - Из \"Экран предложений\" в \"Корзина\": 91.3%\n",
    "    - Из \"Корзина\" в \"Успешная оплата\": 80.2%\n",
    "    - Из \"Успешная оплата\" в \"Руководство\": 3%\n",
    "2. Воронка в пользователях:\n",
    "    - Из \"Главный экран\" в \"Экран предложений\": 61.9%\n",
    "    - Из \"Экран предложений\" в \"Корзина\": 81.3%\n",
    "    - Из \"Корзина\" в \"Успешная оплата\": 94.8%\n",
    "    - Из \"Успешная оплата\" в \"Руководство\": 23.7%"
   ]
  },
  {
   "cell_type": "markdown",
   "metadata": {},
   "source": [
    "#### На каком шаге теряете больше всего пользователей?"
   ]
  },
  {
   "cell_type": "markdown",
   "metadata": {},
   "source": [
    "1. Воронка в событиях:\n",
    "    - Больше всего пользователей теряется при переходе из \"Главный экран\" в \"Экран предложений\": 60.5%\n",
    "    - Не буду оценивать переход из \"Успешная оплата\" в \"Руководство\", так как экран \"Руководство\" скорее всего является экраном онбордингом, который явно нельзя встраивать в последний шаг\n",
    "\n",
    "\n",
    "\n",
    "2. Воронка в пользователях:\n",
    "    - Больше всего пользователей теряется при переходе из \"Главный экран\" в \"Экран предложений\": 38.1%"
   ]
  },
  {
   "cell_type": "markdown",
   "metadata": {},
   "source": [
    "#### Какая доля пользователей доходит от первого события до оплаты?"
   ]
  },
  {
   "cell_type": "markdown",
   "metadata": {},
   "source": [
    "Берём данные из двух верних интерактивных воронок (при наведении):\n",
    "\n",
    "1. Воронка в событиях:\n",
    "    - Из \"Главный экран\" в \"Успешная оплата\": 28.9%\n",
    "2. Воронка в пользователях:\n",
    "    - Из \"Главный экран\" в \"Успешная оплата\": 47.7%"
   ]
  },
  {
   "cell_type": "markdown",
   "metadata": {},
   "source": [
    "#### Выводы:\n",
    "1. Следующие события встречаются в логах (в таком порядке по частоте: от большего к меньшему): главный экран, экран предложений, корзина, успешная оплата, руководство\n",
    "2. На второй этап в пользователях попадает лишь 61.9%  пользователей. Нужно выяснить причину (возможно исследовать интерфейс или провести качественное исследование с помощью опросов или фокус-группы). Но по моему опыту достаточно большое количество пользователей отваливается на главном экране\n",
    "3. В целом события идут одна вслед за другой, за исключием \"Руководства\". Событие неважное, можно его игнорировать при изучении результатов эксперимента\n",
    "4. Из главного экрана в успешную оплату конвертируется чуть меньше половины пользователей (47.7%)"
   ]
  },
  {
   "cell_type": "markdown",
   "metadata": {},
   "source": [
    "# Изучение результатов эксперимента <a id=\"step7\"></a>"
   ]
  },
  {
   "cell_type": "markdown",
   "metadata": {},
   "source": [
    "#### Сколько пользователей в каждой экспериментальной группе?"
   ]
  },
  {
   "cell_type": "code",
   "execution_count": 18,
   "metadata": {},
   "outputs": [
    {
     "data": {
      "text/plain": [
       "group\n",
       "a1    2489\n",
       "a2    2520\n",
       "b     2542\n",
       "a     5009\n",
       "Name: user_id, dtype: int64"
      ]
     },
     "execution_count": 18,
     "metadata": {},
     "output_type": "execute_result"
    }
   ],
   "source": [
    "users_by_group = logs.groupby('group')['user_id'].nunique()\n",
    "users_by_group['a'] = users_by_group['a1'] + users_by_group['a2']\n",
    "users_by_group"
   ]
  },
  {
   "cell_type": "markdown",
   "metadata": {},
   "source": [
    "#### Есть 2 контрольные группы для А/А-эксперимента, чтобы проверить корректность всех механизмов и расчётов. Проверьте, находят ли статистические критерии разницу между выборками 246 и 247."
   ]
  },
  {
   "cell_type": "markdown",
   "metadata": {},
   "source": [
    "Группы разбиты довольно равномерно. Разница между А1/А2 группами равна ~1.15%. Разница А2 с В равна ~0.94%"
   ]
  },
  {
   "cell_type": "code",
   "execution_count": 19,
   "metadata": {},
   "outputs": [],
   "source": [
    "a1 = logs_filtered[logs_filtered['group'] == 'a1']['user_id'].unique()\n",
    "a2 = logs_filtered[logs_filtered['group'] == 'a2']['user_id'].unique()\n",
    "b = logs_filtered[logs_filtered['group'] == 'b']['user_id'].unique()"
   ]
  },
  {
   "cell_type": "code",
   "execution_count": 20,
   "metadata": {},
   "outputs": [
    {
     "name": "stdout",
     "output_type": "stream",
     "text": [
      "[]\n",
      "[]\n",
      "[]\n"
     ]
    }
   ],
   "source": [
    "a1_b = []\n",
    "a2_b = []\n",
    "a1_a2 = []\n",
    "\n",
    "for i in a1:\n",
    "    if i in b:\n",
    "        a1_b.append(i)\n",
    "    if i in a2:\n",
    "        a1_a2.append(i)\n",
    "        \n",
    "for i in b:\n",
    "    if i in a2:\n",
    "        a2_b.append(i)\n",
    "        \n",
    "print(a1_b)\n",
    "print(a2_b)\n",
    "print(a1_a2)"
   ]
  },
  {
   "cell_type": "markdown",
   "metadata": {},
   "source": [
    "Пересечения отсутствуют"
   ]
  },
  {
   "cell_type": "code",
   "execution_count": 21,
   "metadata": {},
   "outputs": [
    {
     "data": {
      "text/plain": [
       "0"
      ]
     },
     "execution_count": 21,
     "metadata": {},
     "output_type": "execute_result"
    }
   ],
   "source": [
    "#код ревьюера\n",
    "#можно сделать проще\n",
    "sum(logs_filtered.groupby('user_id')['group'].nunique()!=1)\n"
   ]
  },
  {
   "cell_type": "markdown",
   "metadata": {},
   "source": [
    "#### Выберите самое популярное событие. Посчитайте число пользователей, совершивших это событие в каждой из контрольных групп. Посчитайте долю пользователей, совершивших это событие. Проверьте, будет ли отличие между группами статистически достоверным. Проделайте то же самое для всех других событий (удобно обернуть проверку в отдельную функцию). Можно ли сказать, что разбиение на группы работает корректно?"
   ]
  },
  {
   "cell_type": "code",
   "execution_count": 22,
   "metadata": {},
   "outputs": [
    {
     "data": {
      "text/plain": [
       "MainScreenAppear           119101\n",
       "OffersScreenAppear          46808\n",
       "CartScreenAppear            42668\n",
       "PaymentScreenSuccessful     34118\n",
       "Tutorial                     1018\n",
       "Name: event_name, dtype: int64"
      ]
     },
     "execution_count": 22,
     "metadata": {},
     "output_type": "execute_result"
    }
   ],
   "source": [
    "logs['event_name'].value_counts()"
   ]
  },
  {
   "cell_type": "markdown",
   "metadata": {},
   "source": [
    "Самое популярное событие просмотр главной страницы"
   ]
  },
  {
   "cell_type": "code",
   "execution_count": 23,
   "metadata": {},
   "outputs": [
    {
     "data": {
      "text/html": [
       "<div>\n",
       "<style scoped>\n",
       "    .dataframe tbody tr th:only-of-type {\n",
       "        vertical-align: middle;\n",
       "    }\n",
       "\n",
       "    .dataframe tbody tr th {\n",
       "        vertical-align: top;\n",
       "    }\n",
       "\n",
       "    .dataframe thead th {\n",
       "        text-align: right;\n",
       "    }\n",
       "</style>\n",
       "<table border=\"1\" class=\"dataframe\">\n",
       "  <thead>\n",
       "    <tr style=\"text-align: right;\">\n",
       "      <th></th>\n",
       "      <th>event</th>\n",
       "      <th>a1</th>\n",
       "      <th>a2</th>\n",
       "      <th>b</th>\n",
       "      <th>all</th>\n",
       "      <th>a</th>\n",
       "      <th>a1, %</th>\n",
       "      <th>a2, %</th>\n",
       "      <th>b, %</th>\n",
       "      <th>a, %</th>\n",
       "    </tr>\n",
       "  </thead>\n",
       "  <tbody>\n",
       "    <tr>\n",
       "      <th>0</th>\n",
       "      <td>MainScreenAppear</td>\n",
       "      <td>2456</td>\n",
       "      <td>2482</td>\n",
       "      <td>2501</td>\n",
       "      <td>7439</td>\n",
       "      <td>4938</td>\n",
       "      <td>98.67</td>\n",
       "      <td>98.49</td>\n",
       "      <td>98.39</td>\n",
       "      <td>98.58</td>\n",
       "    </tr>\n",
       "    <tr>\n",
       "      <th>1</th>\n",
       "      <td>OffersScreenAppear</td>\n",
       "      <td>1545</td>\n",
       "      <td>1530</td>\n",
       "      <td>1538</td>\n",
       "      <td>4613</td>\n",
       "      <td>3075</td>\n",
       "      <td>62.07</td>\n",
       "      <td>60.71</td>\n",
       "      <td>60.50</td>\n",
       "      <td>61.39</td>\n",
       "    </tr>\n",
       "    <tr>\n",
       "      <th>2</th>\n",
       "      <td>CartScreenAppear</td>\n",
       "      <td>1270</td>\n",
       "      <td>1240</td>\n",
       "      <td>1239</td>\n",
       "      <td>3749</td>\n",
       "      <td>2510</td>\n",
       "      <td>51.02</td>\n",
       "      <td>49.21</td>\n",
       "      <td>48.74</td>\n",
       "      <td>50.11</td>\n",
       "    </tr>\n",
       "    <tr>\n",
       "      <th>3</th>\n",
       "      <td>PaymentScreenSuccessful</td>\n",
       "      <td>1202</td>\n",
       "      <td>1160</td>\n",
       "      <td>1185</td>\n",
       "      <td>3547</td>\n",
       "      <td>2362</td>\n",
       "      <td>48.29</td>\n",
       "      <td>46.03</td>\n",
       "      <td>46.62</td>\n",
       "      <td>47.16</td>\n",
       "    </tr>\n",
       "  </tbody>\n",
       "</table>\n",
       "</div>"
      ],
      "text/plain": [
       "                     event    a1    a2     b   all     a  a1, %  a2, %   b, %  \\\n",
       "0         MainScreenAppear  2456  2482  2501  7439  4938  98.67  98.49  98.39   \n",
       "1       OffersScreenAppear  1545  1530  1538  4613  3075  62.07  60.71  60.50   \n",
       "2         CartScreenAppear  1270  1240  1239  3749  2510  51.02  49.21  48.74   \n",
       "3  PaymentScreenSuccessful  1202  1160  1185  3547  2362  48.29  46.03  46.62   \n",
       "\n",
       "    a, %  \n",
       "0  98.58  \n",
       "1  61.39  \n",
       "2  50.11  \n",
       "3  47.16  "
      ]
     },
     "execution_count": 23,
     "metadata": {},
     "output_type": "execute_result"
    }
   ],
   "source": [
    "test_group = (logs[logs['event_name']!='Tutorial']\n",
    "              .pivot_table(index='event_name', columns='group', values='user_id', aggfunc='nunique'))\n",
    "\n",
    "test_group = test_group.reset_index()\n",
    "test_group.columns = ['event', 'a1', 'a2', 'b']\n",
    "test_group['all'] = test_group['a1'] + test_group['a2'] + test_group['b']\n",
    "test_group['a'] = test_group['a1'] + test_group['a2']\n",
    "\n",
    "test_group['a1, %'] = round(test_group['a1'] / users_by_group['a1'] * 100, 2)\n",
    "test_group['a2, %'] = round(test_group['a2'] / users_by_group['a2'] * 100, 2)\n",
    "test_group['b, %'] = round(test_group['b'] / users_by_group['b'] * 100, 2)\n",
    "test_group['a, %'] = round((test_group['a1'] + test_group['a2']) / (users_by_group['a1'] + users_by_group['a2']) * 100, 2)\n",
    "\n",
    "test_group = test_group.sort_values(by='all', ascending=False).reset_index(drop=True)\n",
    "test_group"
   ]
  },
  {
   "cell_type": "markdown",
   "metadata": {},
   "source": [
    "Число пользователей совершивших самое популярное событие:\n",
    "- а1 = 2456\n",
    "- а2 = 2482\n",
    "- b = 2501"
   ]
  },
  {
   "cell_type": "markdown",
   "metadata": {},
   "source": [
    "Доля пользователей совершивших самое популярное событие по группам:\n",
    "\n",
    "- а1 = 98.67%\n",
    "- а2 = 98.49%\n",
    "- b = 98.39%"
   ]
  },
  {
   "cell_type": "markdown",
   "metadata": {},
   "source": [
    "Нулевая гипотеза: Нет значимой разницы между долями групп\n",
    "Альтернативная гипотеза: Между долями групп существует значимая разница"
   ]
  },
  {
   "cell_type": "code",
   "execution_count": 24,
   "metadata": {},
   "outputs": [
    {
     "name": "stdout",
     "output_type": "stream",
     "text": [
      "MainScreenAppear p-значение: 0.5856639791209877\n",
      "Не получилось отвергнуть нулевую гипотезу, нет оснований считать доли разными\n",
      "\n",
      "OffersScreenAppear p-значение: 0.3233225048227193\n",
      "Не получилось отвергнуть нулевую гипотезу, нет оснований считать доли разными\n",
      "\n",
      "CartScreenAppear p-значение: 0.19817540651836918\n",
      "Не получилось отвергнуть нулевую гипотезу, нет оснований считать доли разными\n",
      "\n",
      "PaymentScreenSuccessful p-значение: 0.10902546202332886\n",
      "Не получилось отвергнуть нулевую гипотезу, нет оснований считать доли разными\n",
      "\n"
     ]
    }
   ],
   "source": [
    "def z_test(group_1, group_2, alpha):\n",
    "    for i in test_group.index:\n",
    "        p1 = test_group[group_1][i] / users_by_group[group_1]\n",
    "\n",
    "        p2 = test_group[group_2][i] / users_by_group[group_2]\n",
    "\n",
    "        p_combined = ((test_group[group_1][i] + test_group[group_2][i]) / \n",
    "                      (users_by_group[group_1] + users_by_group[group_2]))\n",
    "\n",
    "        difference = p1 - p2\n",
    "\n",
    "        z_value = difference / mth.sqrt(p_combined * (1 - p_combined) * (1/users_by_group[group_1] + 1/users_by_group[group_2]))\n",
    "\n",
    "        distr = st.norm(0, 1) \n",
    "        p_value = (1 - distr.cdf(abs(z_value))) * 2\n",
    "        print('{} p-значение: {}'.format(test_group['event'][i], p_value))\n",
    "        if (p_value < alpha):\n",
    "            print(\"Отвергаем нулевую гипотезу: между долями есть значимая разница\")\n",
    "        else:\n",
    "            print(\"Не получилось отвергнуть нулевую гипотезу, нет оснований считать доли разными\")\n",
    "        print()\n",
    "        \n",
    "z_test(\"a1\", \"a2\", 0.01)"
   ]
  },
  {
   "cell_type": "markdown",
   "metadata": {},
   "source": [
    "#### Аналогично поступите с группой с изменённым шрифтом. Сравните результаты с каждой из контрольных групп в отдельности по каждому событию. Сравните результаты с объединённой контрольной группой. Какие выводы из эксперимента можно сделать?\n"
   ]
  },
  {
   "cell_type": "markdown",
   "metadata": {},
   "source": [
    "a1/b"
   ]
  },
  {
   "cell_type": "code",
   "execution_count": 25,
   "metadata": {},
   "outputs": [
    {
     "name": "stdout",
     "output_type": "stream",
     "text": [
      "MainScreenAppear p-значение: 0.39774960182882513\n",
      "Не получилось отвергнуть нулевую гипотезу, нет оснований считать доли разными\n",
      "\n",
      "OffersScreenAppear p-значение: 0.2531656758489338\n",
      "Не получилось отвергнуть нулевую гипотезу, нет оснований считать доли разными\n",
      "\n",
      "CartScreenAppear p-значение: 0.10534150642722295\n",
      "Не получилось отвергнуть нулевую гипотезу, нет оснований считать доли разными\n",
      "\n",
      "PaymentScreenSuccessful p-значение: 0.23403912852637143\n",
      "Не получилось отвергнуть нулевую гипотезу, нет оснований считать доли разными\n",
      "\n"
     ]
    }
   ],
   "source": [
    "z_test(\"a1\", \"b\", 0.05)"
   ]
  },
  {
   "cell_type": "markdown",
   "metadata": {},
   "source": [
    "a2/b"
   ]
  },
  {
   "cell_type": "code",
   "execution_count": 26,
   "metadata": {},
   "outputs": [
    {
     "name": "stdout",
     "output_type": "stream",
     "text": [
      "MainScreenAppear p-значение: 0.7632160970326178\n",
      "Не получилось отвергнуть нулевую гипотезу, нет оснований считать доли разными\n",
      "\n",
      "OffersScreenAppear p-значение: 0.878057445632423\n",
      "Не получилось отвергнуть нулевую гипотезу, нет оснований считать доли разными\n",
      "\n",
      "CartScreenAppear p-значение: 0.7406094633808076\n",
      "Не получилось отвергнуть нулевую гипотезу, нет оснований считать доли разными\n",
      "\n",
      "PaymentScreenSuccessful p-значение: 0.6763830984465451\n",
      "Не получилось отвергнуть нулевую гипотезу, нет оснований считать доли разными\n",
      "\n"
     ]
    }
   ],
   "source": [
    "z_test(\"a2\", \"b\", 0.05)"
   ]
  },
  {
   "cell_type": "markdown",
   "metadata": {},
   "source": [
    "a/b"
   ]
  },
  {
   "cell_type": "code",
   "execution_count": 27,
   "metadata": {},
   "outputs": [
    {
     "name": "stdout",
     "output_type": "stream",
     "text": [
      "MainScreenAppear p-значение: 0.5067126962216841\n",
      "Не получилось отвергнуть нулевую гипотезу, нет оснований считать доли разными\n",
      "\n",
      "OffersScreenAppear p-значение: 0.4555404043137232\n",
      "Не получилось отвергнуть нулевую гипотезу, нет оснований считать доли разными\n",
      "\n",
      "CartScreenAppear p-значение: 0.2609811882648243\n",
      "Не получилось отвергнуть нулевую гипотезу, нет оснований считать доли разными\n",
      "\n",
      "PaymentScreenSuccessful p-значение: 0.6578429353593096\n",
      "Не получилось отвергнуть нулевую гипотезу, нет оснований считать доли разными\n",
      "\n"
     ]
    }
   ],
   "source": [
    "z_test(\"a\", \"b\", 0.05)"
   ]
  },
  {
   "cell_type": "markdown",
   "metadata": {},
   "source": [
    "Вывод: Значимая разница во всех группах по пропорциям отсутствует"
   ]
  },
  {
   "cell_type": "markdown",
   "metadata": {},
   "source": [
    "#### Какой уровень значимости вы выбрали при проверке статистических гипотез выше? Посчитайте, сколько проверок статистических гипотез вы сделали. При уровне значимости 0.1 каждый десятый раз можно получать ложный результат. Какой уровень значимости стоит применить? Если вы хотите изменить его, проделайте предыдущие пункты и проверьте свои выводы."
   ]
  },
  {
   "cell_type": "markdown",
   "metadata": {},
   "source": [
    "- В ходе теста было проведено 16 проверок статистических гипотез:\n",
    "    - А1/А2 тест: 1%\n",
    "    - Остальное: 5%\n",
    "- Для А/А теста выбрал стат.значимость 1%, так как контроль разницы между контрольными группами должен быть жестче\n",
    "- Уровень значимости 10% слишком велик, возьмем стандарто принимаю величину стат.значимости"
   ]
  },
  {
   "cell_type": "code",
   "execution_count": 28,
   "metadata": {},
   "outputs": [
    {
     "name": "stdout",
     "output_type": "stream",
     "text": [
      "Вероятность появления ошибки при N тестах без поправки: 45.96%\n"
     ]
    }
   ],
   "source": [
    "#код ревьюера\n",
    "#вероятность появления ошибки при N тестах без поправки\n",
    "alpha = 0.05\n",
    "counts_test=12\n",
    "probability_of_error=1-(1-alpha)**counts_test\n",
    "\n",
    "print('Вероятность появления ошибки при N тестах без поправки: {:.2%}'.format(probability_of_error))"
   ]
  },
  {
   "cell_type": "code",
   "execution_count": 29,
   "metadata": {},
   "outputs": [
    {
     "name": "stdout",
     "output_type": "stream",
     "text": [
      "Вероятность появления ошибки при N тестах с учетом поправки: 4.89%\n"
     ]
    }
   ],
   "source": [
    "#код ревьюера\n",
    "#вероятность появления ошибки при N тестах с учетом поправки\n",
    "alpha = 0.05\n",
    "counts_test=12\n",
    "alpha_bonferroni =alpha/counts_test\n",
    "\n",
    "probability_of_error=1-(1-alpha_bonferroni)**counts_test\n",
    "\n",
    "print('Вероятность появления ошибки при N тестах с учетом поправки: {:.2%}'.format(probability_of_error))"
   ]
  },
  {
   "cell_type": "markdown",
   "metadata": {},
   "source": [
    "# Выводы <a id=\"step8\"></a>"
   ]
  },
  {
   "cell_type": "markdown",
   "metadata": {},
   "source": [
    "1. Изучение данных:\n",
    "    - Всего событий: 243 713. Всего пользователей: 7551\n",
    "    - Полные данные доступны после 31 июля. Принято решение удалить данные до 1 августа\n",
    "    - После удаления данных количество событий и пользователей поменялось совсем незначительно (-1.16% и -0.23% соответственно)\n",
    "    - Пользователи присутствуют во всех трех эксперементальных группах\n",
    "2. Изучение воронки продаж:\n",
    "    - Следующие события встречаются в логах (в таком порядке по частоте: от большего к меньшему): главный экран, экран предложений, корзина, успешная оплата, руководство\n",
    "    - На второй этап в пользователях попадает лишь 61.9% пользователей. Но по моему опыту достаточно большое количество пользователей отваливается на главном экране\n",
    "    - В целом события идут одна вслед за другой, за исключием \"Руководства\". Событие неважное, можно его игнорировать при изучении результатов эксперимента\n",
    "    - Из главного экрана в успешную оплату конвертируется чуть меньше половины пользователей (47.7%)\n",
    "3. Изучение результатов эксперимента:\n",
    "    - Было проверено 16 статистических гипотез:\n",
    "        - А1/А2 тест: 1%\n",
    "        - Остальное: 5%\n",
    "    - В результате проведения исследований никаких стат.значимых результатов в пропорциях не наблюдалось\n",
    "    - Для А/А теста выбрали 1% стат.значимость, так как контроль между контрольными группами требуется более жесткий"
   ]
  }
 ],
 "metadata": {
  "ExecuteTimeLog": [
   {
    "duration": 2763,
    "start_time": "2022-05-21T18:00:47.810Z"
   },
   {
    "duration": 5,
    "start_time": "2022-05-21T18:01:03.405Z"
   },
   {
    "duration": 42,
    "start_time": "2022-05-21T18:02:08.102Z"
   },
   {
    "duration": 466,
    "start_time": "2022-05-21T18:03:30.787Z"
   },
   {
    "duration": 252,
    "start_time": "2022-05-21T18:03:37.669Z"
   },
   {
    "duration": 177,
    "start_time": "2022-05-21T18:04:58.055Z"
   },
   {
    "duration": 22,
    "start_time": "2022-05-21T18:05:15.900Z"
   },
   {
    "duration": 39,
    "start_time": "2022-05-21T18:05:53.138Z"
   },
   {
    "duration": 16,
    "start_time": "2022-05-21T18:06:27.099Z"
   },
   {
    "duration": 165,
    "start_time": "2022-05-21T18:09:32.813Z"
   },
   {
    "duration": 15,
    "start_time": "2022-05-21T18:10:29.991Z"
   },
   {
    "duration": 10,
    "start_time": "2022-05-21T18:10:33.269Z"
   },
   {
    "duration": 4,
    "start_time": "2022-05-21T18:10:59.377Z"
   },
   {
    "duration": 13,
    "start_time": "2022-05-21T18:11:03.265Z"
   },
   {
    "duration": 263,
    "start_time": "2022-05-21T18:13:06.490Z"
   },
   {
    "duration": 24,
    "start_time": "2022-05-21T18:13:06.756Z"
   },
   {
    "duration": 16,
    "start_time": "2022-05-21T18:13:07.141Z"
   },
   {
    "duration": 13,
    "start_time": "2022-05-21T18:13:47.619Z"
   },
   {
    "duration": 11,
    "start_time": "2022-05-21T18:13:59.616Z"
   },
   {
    "duration": 4,
    "start_time": "2022-05-21T18:14:21.382Z"
   },
   {
    "duration": 18,
    "start_time": "2022-05-21T18:14:50.919Z"
   },
   {
    "duration": 242,
    "start_time": "2022-05-21T18:19:43.682Z"
   },
   {
    "duration": 4,
    "start_time": "2022-05-21T18:19:45.285Z"
   },
   {
    "duration": 9,
    "start_time": "2022-05-21T18:19:53.918Z"
   },
   {
    "duration": 10,
    "start_time": "2022-05-21T18:19:58.106Z"
   },
   {
    "duration": 12,
    "start_time": "2022-05-21T18:20:00.380Z"
   },
   {
    "duration": 90,
    "start_time": "2022-05-21T18:20:20.034Z"
   },
   {
    "duration": 65,
    "start_time": "2022-05-21T18:20:37.379Z"
   },
   {
    "duration": 4,
    "start_time": "2022-05-21T18:21:06.581Z"
   },
   {
    "duration": 29,
    "start_time": "2022-05-21T18:21:06.955Z"
   },
   {
    "duration": 89,
    "start_time": "2022-05-21T18:21:07.571Z"
   },
   {
    "duration": 515,
    "start_time": "2022-05-21T18:21:28.211Z"
   },
   {
    "duration": 246,
    "start_time": "2022-05-21T18:21:43.598Z"
   },
   {
    "duration": 3,
    "start_time": "2022-05-21T18:21:43.932Z"
   },
   {
    "duration": 28,
    "start_time": "2022-05-21T18:21:44.120Z"
   },
   {
    "duration": 81,
    "start_time": "2022-05-21T18:21:44.370Z"
   },
   {
    "duration": 609,
    "start_time": "2022-05-21T18:21:44.972Z"
   },
   {
    "duration": 866,
    "start_time": "2022-05-21T18:21:54.485Z"
   },
   {
    "duration": 18,
    "start_time": "2022-05-21T18:22:02.794Z"
   },
   {
    "duration": 5,
    "start_time": "2022-05-21T18:22:20.630Z"
   },
   {
    "duration": 30,
    "start_time": "2022-05-21T18:22:20.974Z"
   },
   {
    "duration": 94,
    "start_time": "2022-05-21T18:22:22.081Z"
   },
   {
    "duration": 157,
    "start_time": "2022-05-21T18:22:26.135Z"
   },
   {
    "duration": 165,
    "start_time": "2022-05-21T18:22:33.470Z"
   },
   {
    "duration": 1587,
    "start_time": "2022-05-21T18:23:01.162Z"
   },
   {
    "duration": 4,
    "start_time": "2022-05-21T18:23:06.323Z"
   },
   {
    "duration": 35,
    "start_time": "2022-05-21T18:23:13.501Z"
   },
   {
    "duration": 72,
    "start_time": "2022-05-21T18:23:18.063Z"
   },
   {
    "duration": 128,
    "start_time": "2022-05-21T18:23:21.207Z"
   },
   {
    "duration": 1367,
    "start_time": "2022-05-21T18:23:36.969Z"
   },
   {
    "duration": 3,
    "start_time": "2022-05-21T18:23:38.337Z"
   },
   {
    "duration": 27,
    "start_time": "2022-05-21T18:23:38.342Z"
   },
   {
    "duration": 117,
    "start_time": "2022-05-21T18:23:38.372Z"
   },
   {
    "duration": 152,
    "start_time": "2022-05-21T18:23:38.492Z"
   },
   {
    "duration": 1479,
    "start_time": "2022-05-21T18:23:51.284Z"
   },
   {
    "duration": 3,
    "start_time": "2022-05-21T18:23:52.766Z"
   },
   {
    "duration": 38,
    "start_time": "2022-05-21T18:23:52.771Z"
   },
   {
    "duration": 99,
    "start_time": "2022-05-21T18:23:53.393Z"
   },
   {
    "duration": 106,
    "start_time": "2022-05-21T18:23:53.882Z"
   },
   {
    "duration": 96,
    "start_time": "2022-05-21T18:24:37.973Z"
   },
   {
    "duration": 238,
    "start_time": "2022-05-21T18:24:43.690Z"
   },
   {
    "duration": 1567,
    "start_time": "2022-05-21T18:29:36.310Z"
   },
   {
    "duration": 3,
    "start_time": "2022-05-21T18:29:37.879Z"
   },
   {
    "duration": 38,
    "start_time": "2022-05-21T18:29:38.020Z"
   },
   {
    "duration": 90,
    "start_time": "2022-05-21T18:29:38.831Z"
   },
   {
    "duration": 99,
    "start_time": "2022-05-21T18:29:40.516Z"
   },
   {
    "duration": 244,
    "start_time": "2022-05-21T18:30:27.229Z"
   },
   {
    "duration": 3,
    "start_time": "2022-05-21T18:30:28.285Z"
   },
   {
    "duration": 19,
    "start_time": "2022-05-21T18:30:28.667Z"
   },
   {
    "duration": 74,
    "start_time": "2022-05-21T18:30:29.114Z"
   },
   {
    "duration": 97,
    "start_time": "2022-05-21T18:30:29.637Z"
   },
   {
    "duration": 152,
    "start_time": "2022-05-21T18:30:51.300Z"
   },
   {
    "duration": 55,
    "start_time": "2022-05-21T18:30:59.208Z"
   },
   {
    "duration": 132,
    "start_time": "2022-05-21T18:31:28.909Z"
   },
   {
    "duration": 14,
    "start_time": "2022-05-21T18:31:35.120Z"
   },
   {
    "duration": 10,
    "start_time": "2022-05-21T18:31:44.639Z"
   },
   {
    "duration": 29,
    "start_time": "2022-05-21T18:31:50.671Z"
   },
   {
    "duration": 16,
    "start_time": "2022-05-21T18:32:26.359Z"
   },
   {
    "duration": 5,
    "start_time": "2022-05-21T18:32:34.993Z"
   },
   {
    "duration": 22,
    "start_time": "2022-05-21T18:32:47.329Z"
   },
   {
    "duration": 41,
    "start_time": "2022-05-21T18:32:54.509Z"
   },
   {
    "duration": 17,
    "start_time": "2022-05-21T18:32:56.961Z"
   },
   {
    "duration": 1833,
    "start_time": "2022-05-23T18:14:57.217Z"
   },
   {
    "duration": 3,
    "start_time": "2022-05-23T18:14:59.052Z"
   },
   {
    "duration": 27,
    "start_time": "2022-05-23T18:14:59.056Z"
   },
   {
    "duration": 61,
    "start_time": "2022-05-23T18:14:59.085Z"
   },
   {
    "duration": 75,
    "start_time": "2022-05-23T18:14:59.147Z"
   },
   {
    "duration": 19,
    "start_time": "2022-05-23T18:15:06.324Z"
   },
   {
    "duration": 15,
    "start_time": "2022-05-23T18:15:59.021Z"
   },
   {
    "duration": 1775,
    "start_time": "2022-05-23T18:28:06.669Z"
   },
   {
    "duration": 37,
    "start_time": "2022-05-23T18:28:31.157Z"
   },
   {
    "duration": 36,
    "start_time": "2022-05-23T18:29:16.251Z"
   },
   {
    "duration": 45,
    "start_time": "2022-05-23T18:29:48.409Z"
   },
   {
    "duration": 17,
    "start_time": "2022-05-23T18:30:39.104Z"
   },
   {
    "duration": 36,
    "start_time": "2022-05-23T18:30:46.631Z"
   },
   {
    "duration": 45,
    "start_time": "2022-05-23T18:30:57.741Z"
   },
   {
    "duration": 1988,
    "start_time": "2022-05-24T15:30:16.462Z"
   },
   {
    "duration": 4,
    "start_time": "2022-05-24T15:30:18.452Z"
   },
   {
    "duration": 26,
    "start_time": "2022-05-24T15:30:18.457Z"
   },
   {
    "duration": 73,
    "start_time": "2022-05-24T15:30:18.485Z"
   },
   {
    "duration": 80,
    "start_time": "2022-05-24T15:30:18.560Z"
   },
   {
    "duration": 112,
    "start_time": "2022-05-24T15:30:18.742Z"
   },
   {
    "duration": 59,
    "start_time": "2022-05-24T15:30:51.496Z"
   },
   {
    "duration": 32,
    "start_time": "2022-05-24T15:31:50.170Z"
   },
   {
    "duration": 57,
    "start_time": "2022-05-24T15:32:02.582Z"
   },
   {
    "duration": 33,
    "start_time": "2022-05-24T15:32:06.927Z"
   },
   {
    "duration": 33,
    "start_time": "2022-05-24T15:32:46.268Z"
   },
   {
    "duration": 44,
    "start_time": "2022-05-24T15:32:55.994Z"
   },
   {
    "duration": 32,
    "start_time": "2022-05-24T15:33:25.626Z"
   },
   {
    "duration": 34,
    "start_time": "2022-05-24T15:33:36.072Z"
   },
   {
    "duration": 38,
    "start_time": "2022-05-24T15:33:39.030Z"
   },
   {
    "duration": 31,
    "start_time": "2022-05-24T15:33:42.934Z"
   },
   {
    "duration": 50,
    "start_time": "2022-05-24T15:33:47.094Z"
   },
   {
    "duration": 48,
    "start_time": "2022-05-24T15:34:23.019Z"
   },
   {
    "duration": 1328,
    "start_time": "2022-05-24T15:34:32.869Z"
   },
   {
    "duration": 3,
    "start_time": "2022-05-24T15:34:34.199Z"
   },
   {
    "duration": 36,
    "start_time": "2022-05-24T15:34:34.204Z"
   },
   {
    "duration": 85,
    "start_time": "2022-05-24T15:34:34.242Z"
   },
   {
    "duration": 87,
    "start_time": "2022-05-24T15:34:34.387Z"
   },
   {
    "duration": 42,
    "start_time": "2022-05-24T15:34:35.417Z"
   },
   {
    "duration": 179,
    "start_time": "2022-05-24T15:46:13.999Z"
   },
   {
    "duration": 2,
    "start_time": "2022-05-24T15:46:14.374Z"
   },
   {
    "duration": 18,
    "start_time": "2022-05-24T15:46:14.586Z"
   },
   {
    "duration": 55,
    "start_time": "2022-05-24T15:46:14.769Z"
   },
   {
    "duration": 70,
    "start_time": "2022-05-24T15:46:15.126Z"
   },
   {
    "duration": 32,
    "start_time": "2022-05-24T15:46:16.761Z"
   },
   {
    "duration": 113,
    "start_time": "2022-05-24T15:46:45.687Z"
   },
   {
    "duration": 1254,
    "start_time": "2022-05-24T15:47:03.963Z"
   },
   {
    "duration": 985,
    "start_time": "2022-05-24T15:47:43.128Z"
   },
   {
    "duration": 497,
    "start_time": "2022-05-24T15:47:55.000Z"
   },
   {
    "duration": 196,
    "start_time": "2022-05-24T15:48:07.298Z"
   },
   {
    "duration": 167,
    "start_time": "2022-05-24T15:49:02.424Z"
   },
   {
    "duration": 180,
    "start_time": "2022-05-24T15:49:07.970Z"
   },
   {
    "duration": 210,
    "start_time": "2022-05-24T15:49:13.360Z"
   },
   {
    "duration": 159,
    "start_time": "2022-05-24T15:49:18.024Z"
   },
   {
    "duration": 167,
    "start_time": "2022-05-24T15:49:21.793Z"
   },
   {
    "duration": 166,
    "start_time": "2022-05-24T15:49:26.538Z"
   },
   {
    "duration": 167,
    "start_time": "2022-05-24T15:49:30.935Z"
   },
   {
    "duration": 162,
    "start_time": "2022-05-24T15:49:36.561Z"
   },
   {
    "duration": 420,
    "start_time": "2022-05-24T15:49:47.429Z"
   },
   {
    "duration": 86,
    "start_time": "2022-05-24T15:50:09.583Z"
   },
   {
    "duration": 176,
    "start_time": "2022-05-24T15:52:16.427Z"
   },
   {
    "duration": 7,
    "start_time": "2022-05-24T15:57:56.676Z"
   },
   {
    "duration": 23,
    "start_time": "2022-05-24T15:58:08.659Z"
   },
   {
    "duration": 6,
    "start_time": "2022-05-24T15:58:26.840Z"
   },
   {
    "duration": 6,
    "start_time": "2022-05-24T15:58:31.097Z"
   },
   {
    "duration": 27,
    "start_time": "2022-05-24T15:59:25.627Z"
   },
   {
    "duration": 36,
    "start_time": "2022-05-24T15:59:33.606Z"
   },
   {
    "duration": 205,
    "start_time": "2022-05-24T15:59:50.598Z"
   },
   {
    "duration": 37,
    "start_time": "2022-05-24T16:06:48.092Z"
   },
   {
    "duration": 219,
    "start_time": "2022-05-24T16:06:49.454Z"
   },
   {
    "duration": 162,
    "start_time": "2022-05-24T16:35:30.821Z"
   },
   {
    "duration": 3,
    "start_time": "2022-05-24T16:35:31.186Z"
   },
   {
    "duration": 18,
    "start_time": "2022-05-24T16:35:31.377Z"
   },
   {
    "duration": 65,
    "start_time": "2022-05-24T16:35:31.561Z"
   },
   {
    "duration": 78,
    "start_time": "2022-05-24T16:35:31.945Z"
   },
   {
    "duration": 31,
    "start_time": "2022-05-24T16:35:32.765Z"
   },
   {
    "duration": 195,
    "start_time": "2022-05-24T16:35:33.277Z"
   },
   {
    "duration": 39,
    "start_time": "2022-05-24T16:37:41.907Z"
   },
   {
    "duration": 35,
    "start_time": "2022-05-24T16:37:57.942Z"
   },
   {
    "duration": 158,
    "start_time": "2022-05-24T16:38:03.892Z"
   },
   {
    "duration": 36,
    "start_time": "2022-05-24T16:38:10.872Z"
   },
   {
    "duration": 37,
    "start_time": "2022-05-24T16:38:14.310Z"
   },
   {
    "duration": 182,
    "start_time": "2022-05-24T16:38:21.490Z"
   },
   {
    "duration": 26,
    "start_time": "2022-05-24T16:38:32.227Z"
   },
   {
    "duration": 20,
    "start_time": "2022-05-24T16:41:16.263Z"
   },
   {
    "duration": 32,
    "start_time": "2022-05-24T16:41:18.721Z"
   },
   {
    "duration": 23,
    "start_time": "2022-05-24T16:41:34.209Z"
   },
   {
    "duration": 4,
    "start_time": "2022-05-24T16:41:40.054Z"
   },
   {
    "duration": 30,
    "start_time": "2022-05-24T16:41:42.254Z"
   },
   {
    "duration": 15,
    "start_time": "2022-05-24T16:41:54.746Z"
   },
   {
    "duration": 5,
    "start_time": "2022-05-24T16:42:03.631Z"
   },
   {
    "duration": 244,
    "start_time": "2022-05-24T16:44:34.329Z"
   },
   {
    "duration": 8,
    "start_time": "2022-05-24T16:45:49.114Z"
   },
   {
    "duration": 1321,
    "start_time": "2022-05-24T16:46:04.009Z"
   },
   {
    "duration": 3,
    "start_time": "2022-05-24T16:46:05.332Z"
   },
   {
    "duration": 43,
    "start_time": "2022-05-24T16:46:05.336Z"
   },
   {
    "duration": 74,
    "start_time": "2022-05-24T16:46:05.381Z"
   },
   {
    "duration": 91,
    "start_time": "2022-05-24T16:46:05.457Z"
   },
   {
    "duration": 33,
    "start_time": "2022-05-24T16:46:06.131Z"
   },
   {
    "duration": 373,
    "start_time": "2022-05-24T16:46:06.532Z"
   },
   {
    "duration": 109,
    "start_time": "2022-05-24T16:46:07.503Z"
   },
   {
    "duration": 9,
    "start_time": "2022-05-24T16:47:15.931Z"
   },
   {
    "duration": 31,
    "start_time": "2022-05-24T16:47:34.533Z"
   },
   {
    "duration": 36,
    "start_time": "2022-05-24T16:48:18.698Z"
   },
   {
    "duration": 10,
    "start_time": "2022-05-24T16:49:13.729Z"
   },
   {
    "duration": 9,
    "start_time": "2022-05-24T16:49:20.692Z"
   },
   {
    "duration": 567,
    "start_time": "2022-05-24T16:50:50.061Z"
   },
   {
    "duration": 753,
    "start_time": "2022-05-24T16:50:59.701Z"
   },
   {
    "duration": 43,
    "start_time": "2022-05-24T16:51:03.975Z"
   },
   {
    "duration": 31,
    "start_time": "2022-05-24T16:51:13.451Z"
   },
   {
    "duration": 39,
    "start_time": "2022-05-24T16:52:05.157Z"
   },
   {
    "duration": 39,
    "start_time": "2022-05-24T16:52:31.136Z"
   },
   {
    "duration": 1444,
    "start_time": "2022-05-24T16:52:41.707Z"
   },
   {
    "duration": 3,
    "start_time": "2022-05-24T16:52:43.153Z"
   },
   {
    "duration": 27,
    "start_time": "2022-05-24T16:52:43.157Z"
   },
   {
    "duration": 73,
    "start_time": "2022-05-24T16:52:43.186Z"
   },
   {
    "duration": 82,
    "start_time": "2022-05-24T16:52:43.261Z"
   },
   {
    "duration": 28,
    "start_time": "2022-05-24T16:52:43.345Z"
   },
   {
    "duration": 34,
    "start_time": "2022-05-24T16:52:43.621Z"
   },
   {
    "duration": 380,
    "start_time": "2022-05-24T16:52:43.815Z"
   },
   {
    "duration": 48,
    "start_time": "2022-05-24T16:52:45.629Z"
   },
   {
    "duration": 4,
    "start_time": "2022-05-24T16:53:05.902Z"
   },
   {
    "duration": 4,
    "start_time": "2022-05-24T16:53:11.151Z"
   },
   {
    "duration": 42,
    "start_time": "2022-05-24T16:53:27.922Z"
   },
   {
    "duration": 38,
    "start_time": "2022-05-24T16:53:46.379Z"
   },
   {
    "duration": 1326,
    "start_time": "2022-05-24T16:53:54.388Z"
   },
   {
    "duration": 3,
    "start_time": "2022-05-24T16:53:55.716Z"
   },
   {
    "duration": 26,
    "start_time": "2022-05-24T16:53:55.720Z"
   },
   {
    "duration": 74,
    "start_time": "2022-05-24T16:53:55.748Z"
   },
   {
    "duration": 89,
    "start_time": "2022-05-24T16:53:55.824Z"
   },
   {
    "duration": 26,
    "start_time": "2022-05-24T16:53:56.386Z"
   },
   {
    "duration": 34,
    "start_time": "2022-05-24T16:53:58.453Z"
   },
   {
    "duration": 371,
    "start_time": "2022-05-24T16:53:59.021Z"
   },
   {
    "duration": 50,
    "start_time": "2022-05-24T16:54:00.641Z"
   },
   {
    "duration": 3,
    "start_time": "2022-05-24T16:54:44.679Z"
   },
   {
    "duration": 3,
    "start_time": "2022-05-24T16:54:48.742Z"
   },
   {
    "duration": 4,
    "start_time": "2022-05-24T16:55:03.405Z"
   },
   {
    "duration": 4,
    "start_time": "2022-05-24T16:57:00.343Z"
   },
   {
    "duration": 3,
    "start_time": "2022-05-24T17:09:54.895Z"
   },
   {
    "duration": 4,
    "start_time": "2022-05-24T17:09:58.415Z"
   },
   {
    "duration": 3,
    "start_time": "2022-05-24T17:10:06.595Z"
   },
   {
    "duration": 4,
    "start_time": "2022-05-24T17:10:10.894Z"
   },
   {
    "duration": 4,
    "start_time": "2022-05-24T17:10:25.559Z"
   },
   {
    "duration": 5,
    "start_time": "2022-05-24T17:10:51.771Z"
   },
   {
    "duration": 15,
    "start_time": "2022-05-24T17:12:33.924Z"
   },
   {
    "duration": 10,
    "start_time": "2022-05-24T17:12:49.331Z"
   },
   {
    "duration": 11,
    "start_time": "2022-05-24T17:12:58.607Z"
   },
   {
    "duration": 12,
    "start_time": "2022-05-24T17:13:01.133Z"
   },
   {
    "duration": 11,
    "start_time": "2022-05-24T17:14:07.383Z"
   },
   {
    "duration": 2,
    "start_time": "2022-05-24T17:14:20.360Z"
   },
   {
    "duration": 3,
    "start_time": "2022-05-24T17:14:30.513Z"
   },
   {
    "duration": 3,
    "start_time": "2022-05-24T17:14:57.925Z"
   },
   {
    "duration": 3,
    "start_time": "2022-05-24T17:15:04.998Z"
   },
   {
    "duration": 2,
    "start_time": "2022-05-24T17:15:13.862Z"
   },
   {
    "duration": 23,
    "start_time": "2022-05-24T17:15:26.769Z"
   },
   {
    "duration": 30,
    "start_time": "2022-05-24T17:15:44.516Z"
   },
   {
    "duration": 19,
    "start_time": "2022-05-24T17:15:53.500Z"
   },
   {
    "duration": 8,
    "start_time": "2022-05-24T17:16:54.644Z"
   },
   {
    "duration": 11,
    "start_time": "2022-05-24T17:16:58.739Z"
   },
   {
    "duration": 44,
    "start_time": "2022-05-24T17:18:09.806Z"
   },
   {
    "duration": 24,
    "start_time": "2022-05-24T17:18:29.232Z"
   },
   {
    "duration": 26,
    "start_time": "2022-05-24T17:18:38.441Z"
   },
   {
    "duration": 36,
    "start_time": "2022-05-24T17:18:41.402Z"
   },
   {
    "duration": 25,
    "start_time": "2022-05-24T17:23:05.987Z"
   },
   {
    "duration": 438,
    "start_time": "2022-05-24T17:30:30.743Z"
   },
   {
    "duration": 3,
    "start_time": "2022-05-24T17:30:32.263Z"
   },
   {
    "duration": 21,
    "start_time": "2022-05-24T17:30:32.419Z"
   },
   {
    "duration": 57,
    "start_time": "2022-05-24T17:30:32.555Z"
   },
   {
    "duration": 74,
    "start_time": "2022-05-24T17:30:32.818Z"
   },
   {
    "duration": 27,
    "start_time": "2022-05-24T17:30:32.973Z"
   },
   {
    "duration": 30,
    "start_time": "2022-05-24T17:30:33.589Z"
   },
   {
    "duration": 198,
    "start_time": "2022-05-24T17:30:33.733Z"
   },
   {
    "duration": 42,
    "start_time": "2022-05-24T17:30:34.203Z"
   },
   {
    "duration": 5,
    "start_time": "2022-05-24T17:30:34.348Z"
   },
   {
    "duration": 5,
    "start_time": "2022-05-24T17:30:34.510Z"
   },
   {
    "duration": 5,
    "start_time": "2022-05-24T17:30:34.654Z"
   },
   {
    "duration": 12,
    "start_time": "2022-05-24T17:30:35.576Z"
   },
   {
    "duration": 28,
    "start_time": "2022-05-24T17:30:37.274Z"
   },
   {
    "duration": 5,
    "start_time": "2022-05-24T17:32:12.906Z"
   },
   {
    "duration": 4,
    "start_time": "2022-05-24T17:32:18.783Z"
   },
   {
    "duration": 99,
    "start_time": "2022-05-24T17:32:36.250Z"
   },
   {
    "duration": 4,
    "start_time": "2022-05-24T17:32:44.592Z"
   },
   {
    "duration": 3,
    "start_time": "2022-05-24T17:33:23.373Z"
   },
   {
    "duration": 23,
    "start_time": "2022-05-24T17:33:25.950Z"
   },
   {
    "duration": 23,
    "start_time": "2022-05-24T17:33:41.409Z"
   },
   {
    "duration": 233,
    "start_time": "2022-05-24T17:33:49.548Z"
   },
   {
    "duration": 36,
    "start_time": "2022-05-24T17:34:13.336Z"
   },
   {
    "duration": 23,
    "start_time": "2022-05-24T17:34:16.975Z"
   },
   {
    "duration": 22,
    "start_time": "2022-05-24T17:35:07.473Z"
   },
   {
    "duration": 23,
    "start_time": "2022-05-24T17:35:12.105Z"
   },
   {
    "duration": 23,
    "start_time": "2022-05-24T17:35:18.476Z"
   },
   {
    "duration": 27,
    "start_time": "2022-05-24T17:45:53.367Z"
   },
   {
    "duration": 24,
    "start_time": "2022-05-24T17:46:34.427Z"
   },
   {
    "duration": 8,
    "start_time": "2022-05-24T17:47:41.153Z"
   },
   {
    "duration": 21,
    "start_time": "2022-05-24T17:47:51.044Z"
   },
   {
    "duration": 26,
    "start_time": "2022-05-24T17:47:51.822Z"
   },
   {
    "duration": 27,
    "start_time": "2022-05-24T17:47:56.916Z"
   },
   {
    "duration": 26,
    "start_time": "2022-05-24T17:49:56.455Z"
   },
   {
    "duration": 199,
    "start_time": "2022-05-24T17:50:14.925Z"
   },
   {
    "duration": 35,
    "start_time": "2022-05-24T17:50:21.422Z"
   },
   {
    "duration": 30,
    "start_time": "2022-05-24T17:50:58.843Z"
   },
   {
    "duration": 32,
    "start_time": "2022-05-24T17:51:02.399Z"
   },
   {
    "duration": 21,
    "start_time": "2022-05-24T17:51:22.373Z"
   },
   {
    "duration": 25,
    "start_time": "2022-05-24T17:51:29.386Z"
   },
   {
    "duration": 26,
    "start_time": "2022-05-24T17:52:20.639Z"
   },
   {
    "duration": 3,
    "start_time": "2022-05-24T17:52:31.479Z"
   },
   {
    "duration": 133,
    "start_time": "2022-05-24T17:52:52.546Z"
   },
   {
    "duration": 29,
    "start_time": "2022-05-24T17:52:57.213Z"
   },
   {
    "duration": 1287,
    "start_time": "2022-05-24T17:54:10.394Z"
   },
   {
    "duration": 3,
    "start_time": "2022-05-24T17:54:11.684Z"
   },
   {
    "duration": 28,
    "start_time": "2022-05-24T17:54:11.688Z"
   },
   {
    "duration": 67,
    "start_time": "2022-05-24T17:54:11.718Z"
   },
   {
    "duration": 86,
    "start_time": "2022-05-24T17:54:11.787Z"
   },
   {
    "duration": 37,
    "start_time": "2022-05-24T17:54:11.875Z"
   },
   {
    "duration": 34,
    "start_time": "2022-05-24T17:54:12.665Z"
   },
   {
    "duration": 372,
    "start_time": "2022-05-24T17:54:12.857Z"
   },
   {
    "duration": 45,
    "start_time": "2022-05-24T17:54:13.363Z"
   },
   {
    "duration": 4,
    "start_time": "2022-05-24T17:54:13.669Z"
   },
   {
    "duration": 3,
    "start_time": "2022-05-24T17:54:14.072Z"
   },
   {
    "duration": 4,
    "start_time": "2022-05-24T17:54:14.488Z"
   },
   {
    "duration": 12,
    "start_time": "2022-05-24T17:54:15.289Z"
   },
   {
    "duration": 132,
    "start_time": "2022-05-24T17:54:16.859Z"
   },
   {
    "duration": 139,
    "start_time": "2022-05-24T17:54:50.872Z"
   },
   {
    "duration": 34,
    "start_time": "2022-05-24T17:54:58.335Z"
   },
   {
    "duration": 53,
    "start_time": "2022-05-24T17:56:40.502Z"
   },
   {
    "duration": 26,
    "start_time": "2022-05-24T18:03:09.731Z"
   },
   {
    "duration": 65,
    "start_time": "2022-05-24T18:03:31.665Z"
   },
   {
    "duration": 2148,
    "start_time": "2022-05-25T16:05:04.572Z"
   },
   {
    "duration": 3,
    "start_time": "2022-05-25T16:05:06.722Z"
   },
   {
    "duration": 33,
    "start_time": "2022-05-25T16:05:06.726Z"
   },
   {
    "duration": 67,
    "start_time": "2022-05-25T16:05:06.762Z"
   },
   {
    "duration": 84,
    "start_time": "2022-05-25T16:05:06.830Z"
   },
   {
    "duration": 26,
    "start_time": "2022-05-25T16:05:06.916Z"
   },
   {
    "duration": 34,
    "start_time": "2022-05-25T16:05:08.788Z"
   },
   {
    "duration": 392,
    "start_time": "2022-05-25T16:05:09.295Z"
   },
   {
    "duration": 54,
    "start_time": "2022-05-25T16:05:09.867Z"
   },
   {
    "duration": 4,
    "start_time": "2022-05-25T16:05:10.233Z"
   },
   {
    "duration": 4,
    "start_time": "2022-05-25T16:05:10.664Z"
   },
   {
    "duration": 3,
    "start_time": "2022-05-25T16:05:10.944Z"
   },
   {
    "duration": 13,
    "start_time": "2022-05-25T16:05:11.636Z"
   },
   {
    "duration": 266,
    "start_time": "2022-05-25T16:05:28.826Z"
   },
   {
    "duration": 81,
    "start_time": "2022-05-25T16:05:32.827Z"
   },
   {
    "duration": 130,
    "start_time": "2022-05-25T16:08:28.138Z"
   },
   {
    "duration": 12,
    "start_time": "2022-05-25T16:08:49.803Z"
   },
   {
    "duration": 122,
    "start_time": "2022-05-25T16:45:44.030Z"
   },
   {
    "duration": 3,
    "start_time": "2022-05-25T16:45:52.111Z"
   },
   {
    "duration": 29,
    "start_time": "2022-05-25T16:46:02.252Z"
   },
   {
    "duration": 3,
    "start_time": "2022-05-25T16:46:07.156Z"
   },
   {
    "duration": 5,
    "start_time": "2022-05-25T16:46:23.502Z"
   },
   {
    "duration": 238,
    "start_time": "2022-05-25T17:18:40.917Z"
   },
   {
    "duration": 7,
    "start_time": "2022-05-25T17:21:43.733Z"
   },
   {
    "duration": 36,
    "start_time": "2022-05-25T17:24:17.841Z"
   },
   {
    "duration": 35,
    "start_time": "2022-05-25T17:37:59.474Z"
   },
   {
    "duration": 27,
    "start_time": "2022-05-25T17:38:39.718Z"
   },
   {
    "duration": 32,
    "start_time": "2022-05-25T17:39:02.948Z"
   },
   {
    "duration": 39,
    "start_time": "2022-05-25T17:39:21.572Z"
   },
   {
    "duration": 27,
    "start_time": "2022-05-25T17:40:32.289Z"
   },
   {
    "duration": 34,
    "start_time": "2022-05-25T17:40:38.073Z"
   },
   {
    "duration": 29,
    "start_time": "2022-05-25T17:41:05.497Z"
   },
   {
    "duration": 28,
    "start_time": "2022-05-25T17:41:51.217Z"
   },
   {
    "duration": 27,
    "start_time": "2022-05-25T17:42:16.632Z"
   },
   {
    "duration": 27,
    "start_time": "2022-05-25T17:42:18.434Z"
   },
   {
    "duration": 32,
    "start_time": "2022-05-25T17:43:42.326Z"
   },
   {
    "duration": 545,
    "start_time": "2022-05-25T17:43:46.600Z"
   },
   {
    "duration": 26,
    "start_time": "2022-05-25T17:43:52.314Z"
   },
   {
    "duration": 31,
    "start_time": "2022-05-25T17:43:57.005Z"
   },
   {
    "duration": 34,
    "start_time": "2022-05-25T17:44:10.231Z"
   },
   {
    "duration": 14,
    "start_time": "2022-05-25T18:00:46.444Z"
   },
   {
    "duration": 13,
    "start_time": "2022-05-25T18:00:59.418Z"
   },
   {
    "duration": 13,
    "start_time": "2022-05-25T18:01:00.017Z"
   },
   {
    "duration": 569,
    "start_time": "2022-05-25T18:01:22.393Z"
   },
   {
    "duration": 23,
    "start_time": "2022-05-25T18:01:35.416Z"
   },
   {
    "duration": 33,
    "start_time": "2022-05-25T18:01:37.126Z"
   },
   {
    "duration": 46,
    "start_time": "2022-05-25T18:01:50.592Z"
   },
   {
    "duration": 54,
    "start_time": "2022-05-25T18:01:52.550Z"
   },
   {
    "duration": 53,
    "start_time": "2022-05-25T18:02:11.498Z"
   },
   {
    "duration": 23,
    "start_time": "2022-05-25T18:02:26.819Z"
   },
   {
    "duration": 44,
    "start_time": "2022-05-25T18:03:10.222Z"
   },
   {
    "duration": 36,
    "start_time": "2022-05-25T18:04:26.441Z"
   },
   {
    "duration": 39,
    "start_time": "2022-05-25T18:05:27.944Z"
   },
   {
    "duration": 34,
    "start_time": "2022-05-25T18:08:19.396Z"
   },
   {
    "duration": 27,
    "start_time": "2022-05-25T18:08:39.930Z"
   },
   {
    "duration": 41,
    "start_time": "2022-05-25T18:08:52.869Z"
   },
   {
    "duration": 29,
    "start_time": "2022-05-25T18:09:41.342Z"
   },
   {
    "duration": 29,
    "start_time": "2022-05-25T18:09:51.702Z"
   },
   {
    "duration": 31,
    "start_time": "2022-05-25T18:10:12.299Z"
   },
   {
    "duration": 29,
    "start_time": "2022-05-25T18:10:14.945Z"
   },
   {
    "duration": 32,
    "start_time": "2022-05-25T18:10:18.843Z"
   },
   {
    "duration": 30,
    "start_time": "2022-05-25T18:10:21.416Z"
   },
   {
    "duration": 43,
    "start_time": "2022-05-25T18:10:24.974Z"
   },
   {
    "duration": 47,
    "start_time": "2022-05-25T18:11:24.962Z"
   },
   {
    "duration": 43,
    "start_time": "2022-05-25T18:12:42.042Z"
   },
   {
    "duration": 37,
    "start_time": "2022-05-25T18:12:47.796Z"
   },
   {
    "duration": 38,
    "start_time": "2022-05-25T18:13:04.113Z"
   },
   {
    "duration": 30,
    "start_time": "2022-05-25T18:13:11.495Z"
   },
   {
    "duration": 38,
    "start_time": "2022-05-25T18:13:20.021Z"
   },
   {
    "duration": 34,
    "start_time": "2022-05-25T18:13:23.840Z"
   },
   {
    "duration": 39,
    "start_time": "2022-05-25T18:13:30.713Z"
   },
   {
    "duration": 27,
    "start_time": "2022-05-25T18:13:36.535Z"
   },
   {
    "duration": 758,
    "start_time": "2022-05-25T18:13:43.160Z"
   },
   {
    "duration": 32,
    "start_time": "2022-05-25T18:13:48.097Z"
   },
   {
    "duration": 910,
    "start_time": "2022-05-25T18:14:17.333Z"
   },
   {
    "duration": 32,
    "start_time": "2022-05-25T18:14:26.711Z"
   },
   {
    "duration": 33,
    "start_time": "2022-05-25T18:14:39.304Z"
   },
   {
    "duration": 33,
    "start_time": "2022-05-25T18:15:02.435Z"
   },
   {
    "duration": 34,
    "start_time": "2022-05-25T18:15:08.236Z"
   },
   {
    "duration": 44,
    "start_time": "2022-05-25T18:16:11.762Z"
   },
   {
    "duration": 36,
    "start_time": "2022-05-25T18:18:58.681Z"
   },
   {
    "duration": 35,
    "start_time": "2022-05-25T18:19:15.463Z"
   },
   {
    "duration": 35,
    "start_time": "2022-05-25T18:20:10.241Z"
   },
   {
    "duration": 36,
    "start_time": "2022-05-25T18:20:40.049Z"
   },
   {
    "duration": 34,
    "start_time": "2022-05-25T18:21:08.274Z"
   },
   {
    "duration": 34,
    "start_time": "2022-05-25T18:21:18.606Z"
   },
   {
    "duration": 45,
    "start_time": "2022-05-25T18:21:32.873Z"
   },
   {
    "duration": 35,
    "start_time": "2022-05-25T18:21:34.137Z"
   },
   {
    "duration": 38,
    "start_time": "2022-05-25T18:22:29.113Z"
   },
   {
    "duration": 34,
    "start_time": "2022-05-25T18:22:33.996Z"
   },
   {
    "duration": 37,
    "start_time": "2022-05-25T18:23:50.148Z"
   },
   {
    "duration": 2030,
    "start_time": "2022-05-28T12:40:31.203Z"
   },
   {
    "duration": 3,
    "start_time": "2022-05-28T12:40:33.235Z"
   },
   {
    "duration": 24,
    "start_time": "2022-05-28T12:40:33.239Z"
   },
   {
    "duration": 77,
    "start_time": "2022-05-28T12:40:33.264Z"
   },
   {
    "duration": 78,
    "start_time": "2022-05-28T12:40:33.343Z"
   },
   {
    "duration": 38,
    "start_time": "2022-05-28T12:40:33.422Z"
   },
   {
    "duration": 34,
    "start_time": "2022-05-28T12:40:33.505Z"
   },
   {
    "duration": 382,
    "start_time": "2022-05-28T12:40:33.907Z"
   },
   {
    "duration": 45,
    "start_time": "2022-05-28T12:40:34.394Z"
   },
   {
    "duration": 4,
    "start_time": "2022-05-28T12:40:34.933Z"
   },
   {
    "duration": 4,
    "start_time": "2022-05-28T12:40:35.287Z"
   },
   {
    "duration": 4,
    "start_time": "2022-05-28T12:40:35.689Z"
   },
   {
    "duration": 13,
    "start_time": "2022-05-28T12:40:36.653Z"
   },
   {
    "duration": 156,
    "start_time": "2022-05-28T12:40:38.478Z"
   },
   {
    "duration": 61,
    "start_time": "2022-05-28T12:40:39.663Z"
   },
   {
    "duration": 15,
    "start_time": "2022-05-28T12:40:41.458Z"
   },
   {
    "duration": 33,
    "start_time": "2022-05-28T12:40:50.041Z"
   },
   {
    "duration": 22,
    "start_time": "2022-05-28T12:41:04.880Z"
   },
   {
    "duration": 36,
    "start_time": "2022-05-28T12:41:06.602Z"
   },
   {
    "duration": 52,
    "start_time": "2022-05-28T12:41:26.828Z"
   },
   {
    "duration": 39,
    "start_time": "2022-05-28T12:41:31.512Z"
   },
   {
    "duration": 166,
    "start_time": "2022-05-28T12:49:48.151Z"
   },
   {
    "duration": 3,
    "start_time": "2022-05-28T12:49:48.431Z"
   },
   {
    "duration": 20,
    "start_time": "2022-05-28T12:49:48.604Z"
   },
   {
    "duration": 62,
    "start_time": "2022-05-28T12:49:48.747Z"
   },
   {
    "duration": 79,
    "start_time": "2022-05-28T12:49:49.020Z"
   },
   {
    "duration": 27,
    "start_time": "2022-05-28T12:49:49.184Z"
   },
   {
    "duration": 32,
    "start_time": "2022-05-28T12:49:50.206Z"
   },
   {
    "duration": 227,
    "start_time": "2022-05-28T12:49:50.287Z"
   },
   {
    "duration": 50,
    "start_time": "2022-05-28T12:49:50.516Z"
   },
   {
    "duration": 5,
    "start_time": "2022-05-28T12:49:50.568Z"
   },
   {
    "duration": 10,
    "start_time": "2022-05-28T12:49:50.576Z"
   },
   {
    "duration": 7,
    "start_time": "2022-05-28T12:49:50.587Z"
   },
   {
    "duration": 11,
    "start_time": "2022-05-28T12:49:50.654Z"
   },
   {
    "duration": 32,
    "start_time": "2022-05-28T12:49:50.859Z"
   },
   {
    "duration": 55,
    "start_time": "2022-05-28T12:49:50.976Z"
   },
   {
    "duration": 13,
    "start_time": "2022-05-28T12:49:51.145Z"
   },
   {
    "duration": 32,
    "start_time": "2022-05-28T12:49:52.577Z"
   },
   {
    "duration": 23,
    "start_time": "2022-05-28T12:49:53.073Z"
   },
   {
    "duration": 36,
    "start_time": "2022-05-28T12:49:53.237Z"
   },
   {
    "duration": 37,
    "start_time": "2022-05-28T12:49:54.190Z"
   },
   {
    "duration": 40,
    "start_time": "2022-05-28T12:49:54.676Z"
   },
   {
    "duration": 39,
    "start_time": "2022-05-28T12:49:55.049Z"
   },
   {
    "duration": 142,
    "start_time": "2022-05-28T12:50:12.858Z"
   },
   {
    "duration": 44,
    "start_time": "2022-05-28T12:50:16.129Z"
   },
   {
    "duration": 45,
    "start_time": "2022-05-28T12:50:29.836Z"
   },
   {
    "duration": 55,
    "start_time": "2022-05-28T12:50:51.169Z"
   },
   {
    "duration": 36,
    "start_time": "2022-05-28T12:50:53.588Z"
   },
   {
    "duration": 38,
    "start_time": "2022-05-28T12:51:00.295Z"
   },
   {
    "duration": 33,
    "start_time": "2022-05-28T12:51:07.652Z"
   },
   {
    "duration": 38,
    "start_time": "2022-05-28T12:51:11.944Z"
   },
   {
    "duration": 35,
    "start_time": "2022-05-28T12:51:30.250Z"
   },
   {
    "duration": 37,
    "start_time": "2022-05-28T12:51:41.193Z"
   },
   {
    "duration": 37,
    "start_time": "2022-05-28T12:51:50.939Z"
   },
   {
    "duration": 38,
    "start_time": "2022-05-28T12:51:54.873Z"
   },
   {
    "duration": 39,
    "start_time": "2022-05-28T12:51:58.077Z"
   },
   {
    "duration": 2623,
    "start_time": "2022-05-28T15:47:46.286Z"
   },
   {
    "duration": 3,
    "start_time": "2022-05-28T15:47:48.911Z"
   },
   {
    "duration": 24,
    "start_time": "2022-05-28T15:47:48.916Z"
   },
   {
    "duration": 81,
    "start_time": "2022-05-28T15:47:48.943Z"
   },
   {
    "duration": 92,
    "start_time": "2022-05-28T15:47:49.025Z"
   },
   {
    "duration": 28,
    "start_time": "2022-05-28T15:47:49.119Z"
   },
   {
    "duration": 51,
    "start_time": "2022-05-28T15:47:49.149Z"
   },
   {
    "duration": 433,
    "start_time": "2022-05-28T15:47:49.202Z"
   },
   {
    "duration": 60,
    "start_time": "2022-05-28T15:47:49.637Z"
   },
   {
    "duration": 4,
    "start_time": "2022-05-28T15:47:49.699Z"
   },
   {
    "duration": 8,
    "start_time": "2022-05-28T15:47:49.705Z"
   },
   {
    "duration": 8,
    "start_time": "2022-05-28T15:47:49.715Z"
   },
   {
    "duration": 14,
    "start_time": "2022-05-28T15:47:50.087Z"
   },
   {
    "duration": 318,
    "start_time": "2022-05-28T15:47:50.968Z"
   },
   {
    "duration": 70,
    "start_time": "2022-05-28T15:47:51.476Z"
   },
   {
    "duration": 15,
    "start_time": "2022-05-28T15:47:52.262Z"
   },
   {
    "duration": 34,
    "start_time": "2022-05-28T15:47:54.599Z"
   },
   {
    "duration": 22,
    "start_time": "2022-05-28T15:47:55.165Z"
   },
   {
    "duration": 49,
    "start_time": "2022-05-28T15:47:55.429Z"
   },
   {
    "duration": 34,
    "start_time": "2022-05-28T15:52:25.535Z"
   },
   {
    "duration": 30,
    "start_time": "2022-05-28T15:52:28.871Z"
   },
   {
    "duration": 13,
    "start_time": "2022-05-28T15:53:41.505Z"
   },
   {
    "duration": 26,
    "start_time": "2022-05-28T15:53:46.607Z"
   },
   {
    "duration": 120,
    "start_time": "2022-05-28T15:54:07.079Z"
   },
   {
    "duration": 47,
    "start_time": "2022-05-28T15:54:18.413Z"
   },
   {
    "duration": 37,
    "start_time": "2022-05-28T15:54:40.663Z"
   },
   {
    "duration": 44,
    "start_time": "2022-05-28T15:55:20.477Z"
   },
   {
    "duration": 35,
    "start_time": "2022-05-28T15:55:26.114Z"
   },
   {
    "duration": 37,
    "start_time": "2022-05-28T15:55:29.277Z"
   },
   {
    "duration": 32,
    "start_time": "2022-05-28T15:55:40.125Z"
   },
   {
    "duration": 35,
    "start_time": "2022-05-28T15:55:58.697Z"
   },
   {
    "duration": 43,
    "start_time": "2022-05-28T15:56:05.695Z"
   },
   {
    "duration": 39,
    "start_time": "2022-05-28T15:56:08.809Z"
   },
   {
    "duration": 47,
    "start_time": "2022-05-28T15:56:10.216Z"
   },
   {
    "duration": 33,
    "start_time": "2022-05-28T15:56:15.919Z"
   },
   {
    "duration": 36,
    "start_time": "2022-05-28T15:56:21.596Z"
   },
   {
    "duration": 33,
    "start_time": "2022-05-28T15:56:32.843Z"
   },
   {
    "duration": 42,
    "start_time": "2022-05-28T15:57:09.287Z"
   },
   {
    "duration": 34,
    "start_time": "2022-05-28T15:57:13.392Z"
   },
   {
    "duration": 35,
    "start_time": "2022-05-28T15:57:18.019Z"
   },
   {
    "duration": 36,
    "start_time": "2022-05-28T15:57:30.593Z"
   },
   {
    "duration": 36,
    "start_time": "2022-05-28T15:57:36.506Z"
   },
   {
    "duration": 43,
    "start_time": "2022-05-28T15:58:05.077Z"
   },
   {
    "duration": 38,
    "start_time": "2022-05-28T15:58:09.900Z"
   },
   {
    "duration": 513,
    "start_time": "2022-05-28T15:59:42.737Z"
   },
   {
    "duration": 48,
    "start_time": "2022-05-28T15:59:51.085Z"
   },
   {
    "duration": 571,
    "start_time": "2022-05-28T16:00:43.844Z"
   },
   {
    "duration": 562,
    "start_time": "2022-05-28T16:00:52.385Z"
   },
   {
    "duration": 560,
    "start_time": "2022-05-28T16:02:29.696Z"
   },
   {
    "duration": 53,
    "start_time": "2022-05-28T16:02:37.593Z"
   },
   {
    "duration": 50,
    "start_time": "2022-05-28T16:03:07.285Z"
   },
   {
    "duration": 47,
    "start_time": "2022-05-28T16:03:11.344Z"
   },
   {
    "duration": 39,
    "start_time": "2022-05-28T16:03:13.345Z"
   },
   {
    "duration": 51,
    "start_time": "2022-05-28T16:03:20.746Z"
   },
   {
    "duration": 46,
    "start_time": "2022-05-28T16:03:30.770Z"
   },
   {
    "duration": 599,
    "start_time": "2022-05-28T16:03:37.173Z"
   },
   {
    "duration": 49,
    "start_time": "2022-05-28T16:03:39.177Z"
   },
   {
    "duration": 35,
    "start_time": "2022-05-28T16:03:41.166Z"
   },
   {
    "duration": 50,
    "start_time": "2022-05-28T16:03:43.583Z"
   },
   {
    "duration": 39,
    "start_time": "2022-05-28T16:03:48.075Z"
   },
   {
    "duration": 548,
    "start_time": "2022-05-28T16:03:56.805Z"
   },
   {
    "duration": 46,
    "start_time": "2022-05-28T16:04:14.031Z"
   },
   {
    "duration": 37,
    "start_time": "2022-05-28T16:04:22.532Z"
   },
   {
    "duration": 40,
    "start_time": "2022-05-28T16:05:13.611Z"
   },
   {
    "duration": 557,
    "start_time": "2022-05-28T16:06:44.872Z"
   },
   {
    "duration": 37,
    "start_time": "2022-05-28T16:06:59.280Z"
   },
   {
    "duration": 43,
    "start_time": "2022-05-28T16:07:05.400Z"
   },
   {
    "duration": 31,
    "start_time": "2022-05-28T16:07:33.434Z"
   },
   {
    "duration": 38,
    "start_time": "2022-05-28T16:07:44.327Z"
   },
   {
    "duration": 57,
    "start_time": "2022-05-28T16:09:26.664Z"
   },
   {
    "duration": 54,
    "start_time": "2022-05-28T16:10:17.581Z"
   },
   {
    "duration": 60,
    "start_time": "2022-05-28T16:10:42.468Z"
   },
   {
    "duration": 528,
    "start_time": "2022-05-28T16:11:40.713Z"
   },
   {
    "duration": 56,
    "start_time": "2022-05-28T16:11:46.256Z"
   },
   {
    "duration": 57,
    "start_time": "2022-05-28T16:11:50.569Z"
   },
   {
    "duration": 59,
    "start_time": "2022-05-28T16:11:57.166Z"
   },
   {
    "duration": 62,
    "start_time": "2022-05-28T16:12:07.046Z"
   },
   {
    "duration": 50,
    "start_time": "2022-05-28T16:12:42.165Z"
   },
   {
    "duration": 54,
    "start_time": "2022-05-28T16:12:47.287Z"
   },
   {
    "duration": 65,
    "start_time": "2022-05-28T16:13:09.111Z"
   },
   {
    "duration": 56,
    "start_time": "2022-05-28T16:13:35.127Z"
   },
   {
    "duration": 671,
    "start_time": "2022-05-28T16:13:42.173Z"
   },
   {
    "duration": 79,
    "start_time": "2022-05-28T16:13:44.539Z"
   },
   {
    "duration": 11,
    "start_time": "2022-05-28T16:14:03.740Z"
   },
   {
    "duration": 53,
    "start_time": "2022-05-28T16:14:28.474Z"
   },
   {
    "duration": 62,
    "start_time": "2022-05-28T16:14:53.867Z"
   },
   {
    "duration": 63,
    "start_time": "2022-05-28T16:15:04.771Z"
   },
   {
    "duration": 50,
    "start_time": "2022-05-28T16:16:13.199Z"
   },
   {
    "duration": 55,
    "start_time": "2022-05-28T16:16:20.776Z"
   },
   {
    "duration": 124,
    "start_time": "2022-05-28T16:17:21.681Z"
   },
   {
    "duration": 95,
    "start_time": "2022-05-28T16:17:27.784Z"
   },
   {
    "duration": 591,
    "start_time": "2022-05-28T16:18:09.168Z"
   },
   {
    "duration": 59,
    "start_time": "2022-05-28T16:18:20.050Z"
   },
   {
    "duration": 68,
    "start_time": "2022-05-28T16:18:26.213Z"
   },
   {
    "duration": 55,
    "start_time": "2022-05-28T16:18:32.233Z"
   },
   {
    "duration": 87,
    "start_time": "2022-05-28T16:18:55.368Z"
   },
   {
    "duration": 58,
    "start_time": "2022-05-28T16:19:04.876Z"
   },
   {
    "duration": 52,
    "start_time": "2022-05-28T16:19:21.902Z"
   },
   {
    "duration": 56,
    "start_time": "2022-05-28T16:19:26.103Z"
   },
   {
    "duration": 70,
    "start_time": "2022-05-28T16:19:29.370Z"
   },
   {
    "duration": 53,
    "start_time": "2022-05-28T16:19:39.464Z"
   },
   {
    "duration": 61,
    "start_time": "2022-05-28T16:20:10.409Z"
   },
   {
    "duration": 60,
    "start_time": "2022-05-28T16:20:18.797Z"
   },
   {
    "duration": 54,
    "start_time": "2022-05-28T16:20:24.672Z"
   },
   {
    "duration": 54,
    "start_time": "2022-05-28T16:20:34.414Z"
   },
   {
    "duration": 53,
    "start_time": "2022-05-28T16:20:48.394Z"
   },
   {
    "duration": 50,
    "start_time": "2022-05-28T16:20:55.869Z"
   },
   {
    "duration": 54,
    "start_time": "2022-05-28T16:21:05.075Z"
   },
   {
    "duration": 51,
    "start_time": "2022-05-28T16:21:36.446Z"
   },
   {
    "duration": 54,
    "start_time": "2022-05-28T16:21:41.724Z"
   },
   {
    "duration": 59,
    "start_time": "2022-05-28T16:21:47.764Z"
   },
   {
    "duration": 60,
    "start_time": "2022-05-28T16:21:50.817Z"
   },
   {
    "duration": 62,
    "start_time": "2022-05-28T16:22:02.375Z"
   },
   {
    "duration": 51,
    "start_time": "2022-05-28T16:22:06.673Z"
   },
   {
    "duration": 62,
    "start_time": "2022-05-28T16:22:16.065Z"
   },
   {
    "duration": 55,
    "start_time": "2022-05-28T16:22:26.029Z"
   },
   {
    "duration": 57,
    "start_time": "2022-05-28T16:22:53.523Z"
   },
   {
    "duration": 75,
    "start_time": "2022-05-28T16:23:20.633Z"
   },
   {
    "duration": 87,
    "start_time": "2022-05-28T16:23:27.814Z"
   },
   {
    "duration": 64,
    "start_time": "2022-05-28T16:23:40.667Z"
   },
   {
    "duration": 72,
    "start_time": "2022-05-28T16:23:47.393Z"
   },
   {
    "duration": 62,
    "start_time": "2022-05-28T16:24:24.251Z"
   },
   {
    "duration": 65,
    "start_time": "2022-05-28T16:26:02.717Z"
   },
   {
    "duration": 95,
    "start_time": "2022-05-28T16:26:35.781Z"
   },
   {
    "duration": 80,
    "start_time": "2022-05-28T16:26:51.813Z"
   },
   {
    "duration": 18,
    "start_time": "2022-05-28T16:35:19.224Z"
   },
   {
    "duration": 22,
    "start_time": "2022-05-28T16:35:40.370Z"
   },
   {
    "duration": 18,
    "start_time": "2022-05-28T16:35:47.352Z"
   },
   {
    "duration": 3124,
    "start_time": "2022-05-28T16:36:06.934Z"
   },
   {
    "duration": 4,
    "start_time": "2022-05-28T16:36:10.060Z"
   },
   {
    "duration": 101,
    "start_time": "2022-05-28T16:36:10.067Z"
   },
   {
    "duration": 114,
    "start_time": "2022-05-28T16:36:10.171Z"
   },
   {
    "duration": 151,
    "start_time": "2022-05-28T16:36:10.288Z"
   },
   {
    "duration": 55,
    "start_time": "2022-05-28T16:36:10.446Z"
   },
   {
    "duration": 82,
    "start_time": "2022-05-28T16:36:10.503Z"
   },
   {
    "duration": 660,
    "start_time": "2022-05-28T16:36:10.594Z"
   },
   {
    "duration": 84,
    "start_time": "2022-05-28T16:36:11.256Z"
   },
   {
    "duration": 25,
    "start_time": "2022-05-28T16:36:11.343Z"
   },
   {
    "duration": 33,
    "start_time": "2022-05-28T16:36:11.370Z"
   },
   {
    "duration": 21,
    "start_time": "2022-05-28T16:36:11.405Z"
   },
   {
    "duration": 61,
    "start_time": "2022-05-28T16:36:11.429Z"
   },
   {
    "duration": 451,
    "start_time": "2022-05-28T16:36:11.493Z"
   },
   {
    "duration": 188,
    "start_time": "2022-05-28T16:36:11.950Z"
   },
   {
    "duration": 17,
    "start_time": "2022-05-28T16:36:12.141Z"
   },
   {
    "duration": 94,
    "start_time": "2022-05-28T16:36:12.160Z"
   },
   {
    "duration": 33,
    "start_time": "2022-05-28T16:36:12.256Z"
   },
   {
    "duration": 65,
    "start_time": "2022-05-28T16:36:12.291Z"
   },
   {
    "duration": 199,
    "start_time": "2022-05-28T16:36:14.265Z"
   },
   {
    "duration": 48,
    "start_time": "2022-05-28T16:36:27.123Z"
   },
   {
    "duration": 100,
    "start_time": "2022-05-28T16:36:41.565Z"
   },
   {
    "duration": 46,
    "start_time": "2022-05-28T16:36:49.361Z"
   },
   {
    "duration": 843,
    "start_time": "2022-05-28T16:37:15.582Z"
   },
   {
    "duration": 46,
    "start_time": "2022-05-28T16:37:28.629Z"
   },
   {
    "duration": 48,
    "start_time": "2022-05-28T16:38:33.419Z"
   },
   {
    "duration": 65,
    "start_time": "2022-05-28T16:38:52.808Z"
   },
   {
    "duration": 55,
    "start_time": "2022-05-28T16:39:11.131Z"
   },
   {
    "duration": 519,
    "start_time": "2022-05-28T16:39:17.615Z"
   },
   {
    "duration": 48,
    "start_time": "2022-05-28T16:39:28.173Z"
   },
   {
    "duration": 523,
    "start_time": "2022-05-28T16:39:50.373Z"
   },
   {
    "duration": 690,
    "start_time": "2022-05-28T16:40:03.785Z"
   },
   {
    "duration": 47,
    "start_time": "2022-05-28T16:40:15.335Z"
   },
   {
    "duration": 61,
    "start_time": "2022-05-28T16:41:05.495Z"
   },
   {
    "duration": 40,
    "start_time": "2022-05-28T16:41:06.677Z"
   },
   {
    "duration": 67,
    "start_time": "2022-05-28T16:41:07.338Z"
   },
   {
    "duration": 111,
    "start_time": "2022-05-28T16:45:07.991Z"
   },
   {
    "duration": 81,
    "start_time": "2022-05-28T16:45:19.757Z"
   },
   {
    "duration": 62,
    "start_time": "2022-05-28T16:45:29.225Z"
   },
   {
    "duration": 85,
    "start_time": "2022-05-28T16:45:32.385Z"
   },
   {
    "duration": 206,
    "start_time": "2022-05-28T16:45:38.868Z"
   },
   {
    "duration": 168,
    "start_time": "2022-05-28T16:45:53.116Z"
   },
   {
    "duration": 130,
    "start_time": "2022-05-28T16:46:03.823Z"
   },
   {
    "duration": 147,
    "start_time": "2022-05-28T16:46:11.919Z"
   },
   {
    "duration": 135,
    "start_time": "2022-05-28T16:46:45.132Z"
   },
   {
    "duration": 768,
    "start_time": "2022-05-28T16:46:58.397Z"
   },
   {
    "duration": 132,
    "start_time": "2022-05-28T16:47:20.332Z"
   },
   {
    "duration": 875,
    "start_time": "2022-05-28T16:47:25.123Z"
   },
   {
    "duration": 136,
    "start_time": "2022-05-28T16:47:29.017Z"
   },
   {
    "duration": 158,
    "start_time": "2022-05-28T16:47:40.058Z"
   },
   {
    "duration": 720,
    "start_time": "2022-05-28T16:47:44.684Z"
   },
   {
    "duration": 141,
    "start_time": "2022-05-28T16:48:00.255Z"
   },
   {
    "duration": 159,
    "start_time": "2022-05-28T16:48:39.886Z"
   },
   {
    "duration": 147,
    "start_time": "2022-05-28T16:48:56.632Z"
   },
   {
    "duration": 603,
    "start_time": "2022-05-28T16:49:05.534Z"
   },
   {
    "duration": 604,
    "start_time": "2022-05-28T16:49:19.536Z"
   },
   {
    "duration": 55,
    "start_time": "2022-05-28T16:49:39.179Z"
   },
   {
    "duration": 63,
    "start_time": "2022-05-28T16:50:05.093Z"
   },
   {
    "duration": 16,
    "start_time": "2022-05-28T16:50:34.995Z"
   },
   {
    "duration": 45,
    "start_time": "2022-05-28T16:50:41.138Z"
   },
   {
    "duration": 491,
    "start_time": "2022-05-28T16:50:44.942Z"
   },
   {
    "duration": 44,
    "start_time": "2022-05-28T16:50:50.999Z"
   },
   {
    "duration": 1761,
    "start_time": "2022-05-28T16:51:49.478Z"
   },
   {
    "duration": 3,
    "start_time": "2022-05-28T16:51:51.242Z"
   },
   {
    "duration": 50,
    "start_time": "2022-05-28T16:51:51.248Z"
   },
   {
    "duration": 102,
    "start_time": "2022-05-28T16:51:51.362Z"
   },
   {
    "duration": 132,
    "start_time": "2022-05-28T16:51:54.058Z"
   },
   {
    "duration": 180,
    "start_time": "2022-05-28T16:52:06.502Z"
   },
   {
    "duration": 1739,
    "start_time": "2022-05-28T16:52:16.868Z"
   },
   {
    "duration": 3,
    "start_time": "2022-05-28T16:52:18.609Z"
   },
   {
    "duration": 34,
    "start_time": "2022-05-28T16:52:22.608Z"
   },
   {
    "duration": 99,
    "start_time": "2022-05-28T16:52:25.605Z"
   },
   {
    "duration": 156,
    "start_time": "2022-05-28T16:52:27.130Z"
   },
   {
    "duration": 36,
    "start_time": "2022-05-28T16:53:11.454Z"
   },
   {
    "duration": 1798,
    "start_time": "2022-05-28T16:53:27.177Z"
   },
   {
    "duration": 5,
    "start_time": "2022-05-28T16:53:28.978Z"
   },
   {
    "duration": 53,
    "start_time": "2022-05-28T16:53:28.996Z"
   },
   {
    "duration": 129,
    "start_time": "2022-05-28T16:53:29.052Z"
   },
   {
    "duration": 142,
    "start_time": "2022-05-28T16:53:29.183Z"
   },
   {
    "duration": 9,
    "start_time": "2022-05-28T16:53:29.539Z"
   },
   {
    "duration": 49,
    "start_time": "2022-05-28T16:53:30.045Z"
   },
   {
    "duration": 88,
    "start_time": "2022-05-28T16:53:39.081Z"
   },
   {
    "duration": 101,
    "start_time": "2022-05-28T16:53:46.967Z"
   },
   {
    "duration": 63,
    "start_time": "2022-05-28T16:53:48.824Z"
   },
   {
    "duration": 97,
    "start_time": "2022-05-28T16:54:12.103Z"
   },
   {
    "duration": 141,
    "start_time": "2022-05-28T16:54:25.553Z"
   },
   {
    "duration": 1836,
    "start_time": "2022-05-28T16:54:40.287Z"
   },
   {
    "duration": 4,
    "start_time": "2022-05-28T16:54:42.126Z"
   },
   {
    "duration": 64,
    "start_time": "2022-05-28T16:54:42.133Z"
   },
   {
    "duration": 158,
    "start_time": "2022-05-28T16:54:42.199Z"
   },
   {
    "duration": 93,
    "start_time": "2022-05-28T16:54:42.360Z"
   },
   {
    "duration": 71,
    "start_time": "2022-05-28T16:54:42.454Z"
   },
   {
    "duration": 140,
    "start_time": "2022-05-28T16:54:51.690Z"
   },
   {
    "duration": 1822,
    "start_time": "2022-05-28T16:54:59.308Z"
   },
   {
    "duration": 6,
    "start_time": "2022-05-28T16:55:01.133Z"
   },
   {
    "duration": 47,
    "start_time": "2022-05-28T16:55:01.142Z"
   },
   {
    "duration": 109,
    "start_time": "2022-05-28T16:55:01.191Z"
   },
   {
    "duration": 134,
    "start_time": "2022-05-28T16:55:01.302Z"
   },
   {
    "duration": 95,
    "start_time": "2022-05-28T16:55:01.832Z"
   },
   {
    "duration": 65,
    "start_time": "2022-05-28T16:55:03.336Z"
   },
   {
    "duration": 68,
    "start_time": "2022-05-28T16:55:07.519Z"
   },
   {
    "duration": 604,
    "start_time": "2022-05-28T16:55:08.590Z"
   },
   {
    "duration": 85,
    "start_time": "2022-05-28T16:55:11.699Z"
   },
   {
    "duration": 5,
    "start_time": "2022-05-28T16:55:12.793Z"
   },
   {
    "duration": 5,
    "start_time": "2022-05-28T16:55:13.261Z"
   },
   {
    "duration": 5,
    "start_time": "2022-05-28T16:55:13.604Z"
   },
   {
    "duration": 167,
    "start_time": "2022-05-28T16:55:16.533Z"
   },
   {
    "duration": 37,
    "start_time": "2022-05-28T16:55:23.665Z"
   },
   {
    "duration": 218,
    "start_time": "2022-05-28T16:55:32.463Z"
   },
   {
    "duration": 91,
    "start_time": "2022-05-28T16:55:37.758Z"
   },
   {
    "duration": 25,
    "start_time": "2022-05-28T16:55:40.030Z"
   },
   {
    "duration": 65,
    "start_time": "2022-05-28T16:55:48.998Z"
   },
   {
    "duration": 98,
    "start_time": "2022-05-28T16:56:17.174Z"
   },
   {
    "duration": 35,
    "start_time": "2022-05-28T16:56:18.913Z"
   },
   {
    "duration": 57,
    "start_time": "2022-05-28T16:57:34.241Z"
   },
   {
    "duration": 63,
    "start_time": "2022-05-28T16:57:46.471Z"
   },
   {
    "duration": 187,
    "start_time": "2022-05-28T16:57:56.268Z"
   },
   {
    "duration": 69,
    "start_time": "2022-05-28T16:58:10.910Z"
   },
   {
    "duration": 89,
    "start_time": "2022-05-28T16:58:14.903Z"
   },
   {
    "duration": 63,
    "start_time": "2022-05-28T16:58:16.085Z"
   },
   {
    "duration": 184,
    "start_time": "2022-05-28T16:58:22.181Z"
   },
   {
    "duration": 12,
    "start_time": "2022-05-28T17:04:55.784Z"
   },
   {
    "duration": 35,
    "start_time": "2022-05-28T17:04:59.616Z"
   },
   {
    "duration": 41,
    "start_time": "2022-05-28T17:05:06.184Z"
   },
   {
    "duration": 143,
    "start_time": "2022-05-28T17:07:23.840Z"
   },
   {
    "duration": 149,
    "start_time": "2022-05-28T17:08:58.172Z"
   },
   {
    "duration": 260,
    "start_time": "2022-05-28T17:09:36.080Z"
   },
   {
    "duration": 256,
    "start_time": "2022-05-28T17:09:51.428Z"
   },
   {
    "duration": 164,
    "start_time": "2022-05-28T17:10:05.350Z"
   },
   {
    "duration": 138,
    "start_time": "2022-05-28T17:10:20.634Z"
   },
   {
    "duration": 12,
    "start_time": "2022-05-28T17:27:39.994Z"
   },
   {
    "duration": 17,
    "start_time": "2022-05-28T17:58:42.389Z"
   },
   {
    "duration": 1671,
    "start_time": "2022-05-28T17:59:42.324Z"
   },
   {
    "duration": 6,
    "start_time": "2022-05-28T17:59:43.999Z"
   },
   {
    "duration": 37,
    "start_time": "2022-05-28T17:59:44.007Z"
   },
   {
    "duration": 124,
    "start_time": "2022-05-28T17:59:44.046Z"
   },
   {
    "duration": 141,
    "start_time": "2022-05-28T17:59:44.172Z"
   },
   {
    "duration": 99,
    "start_time": "2022-05-28T17:59:44.319Z"
   },
   {
    "duration": 59,
    "start_time": "2022-05-28T17:59:44.420Z"
   },
   {
    "duration": 72,
    "start_time": "2022-05-28T17:59:44.481Z"
   },
   {
    "duration": 462,
    "start_time": "2022-05-28T17:59:44.555Z"
   },
   {
    "duration": 59,
    "start_time": "2022-05-28T17:59:45.020Z"
   },
   {
    "duration": 16,
    "start_time": "2022-05-28T17:59:45.081Z"
   },
   {
    "duration": 13,
    "start_time": "2022-05-28T17:59:45.099Z"
   },
   {
    "duration": 8,
    "start_time": "2022-05-28T17:59:45.114Z"
   },
   {
    "duration": 31,
    "start_time": "2022-05-28T17:59:45.125Z"
   },
   {
    "duration": 240,
    "start_time": "2022-05-28T17:59:45.159Z"
   },
   {
    "duration": 135,
    "start_time": "2022-05-28T17:59:45.400Z"
   },
   {
    "duration": 70,
    "start_time": "2022-05-28T17:59:45.538Z"
   },
   {
    "duration": 62,
    "start_time": "2022-05-28T17:59:45.930Z"
   },
   {
    "duration": 60,
    "start_time": "2022-05-28T17:59:46.468Z"
   },
   {
    "duration": 55,
    "start_time": "2022-05-28T17:59:46.664Z"
   },
   {
    "duration": 39,
    "start_time": "2022-05-28T17:59:47.251Z"
   },
   {
    "duration": 143,
    "start_time": "2022-05-28T17:59:47.744Z"
   },
   {
    "duration": 168,
    "start_time": "2022-05-28T17:59:48.355Z"
   },
   {
    "duration": 1788,
    "start_time": "2022-05-28T18:00:18.294Z"
   },
   {
    "duration": 4,
    "start_time": "2022-05-28T18:00:20.085Z"
   },
   {
    "duration": 38,
    "start_time": "2022-05-28T18:00:20.095Z"
   },
   {
    "duration": 125,
    "start_time": "2022-05-28T18:00:20.136Z"
   },
   {
    "duration": 137,
    "start_time": "2022-05-28T18:00:20.263Z"
   },
   {
    "duration": 113,
    "start_time": "2022-05-28T18:00:20.402Z"
   },
   {
    "duration": 79,
    "start_time": "2022-05-28T18:00:20.517Z"
   },
   {
    "duration": 60,
    "start_time": "2022-05-28T18:00:20.598Z"
   },
   {
    "duration": 628,
    "start_time": "2022-05-28T18:00:20.660Z"
   },
   {
    "duration": 78,
    "start_time": "2022-05-28T18:00:21.294Z"
   },
   {
    "duration": 23,
    "start_time": "2022-05-28T18:00:21.374Z"
   },
   {
    "duration": 12,
    "start_time": "2022-05-28T18:00:21.399Z"
   },
   {
    "duration": 12,
    "start_time": "2022-05-28T18:00:21.414Z"
   },
   {
    "duration": 44,
    "start_time": "2022-05-28T18:00:21.428Z"
   },
   {
    "duration": 236,
    "start_time": "2022-05-28T18:00:21.474Z"
   },
   {
    "duration": 179,
    "start_time": "2022-05-28T18:00:21.721Z"
   },
   {
    "duration": 24,
    "start_time": "2022-05-28T18:00:21.902Z"
   },
   {
    "duration": 121,
    "start_time": "2022-05-28T18:00:21.929Z"
   },
   {
    "duration": 106,
    "start_time": "2022-05-28T18:00:22.052Z"
   },
   {
    "duration": 65,
    "start_time": "2022-05-28T18:00:22.162Z"
   },
   {
    "duration": 39,
    "start_time": "2022-05-28T18:00:22.230Z"
   },
   {
    "duration": 257,
    "start_time": "2022-05-28T18:00:22.271Z"
   },
   {
    "duration": 17,
    "start_time": "2022-05-28T18:00:22.530Z"
   },
   {
    "duration": 13,
    "start_time": "2022-05-28T18:05:56.242Z"
   },
   {
    "duration": 6,
    "start_time": "2022-05-28T18:06:25.212Z"
   },
   {
    "duration": 31,
    "start_time": "2022-05-28T18:07:25.018Z"
   },
   {
    "duration": 5,
    "start_time": "2022-05-28T18:07:30.228Z"
   },
   {
    "duration": 6,
    "start_time": "2022-05-28T18:07:43.615Z"
   },
   {
    "duration": 5,
    "start_time": "2022-05-28T18:07:54.131Z"
   },
   {
    "duration": 205,
    "start_time": "2022-05-28T18:11:10.108Z"
   },
   {
    "duration": 14,
    "start_time": "2022-05-28T18:25:13.546Z"
   },
   {
    "duration": 16,
    "start_time": "2022-05-28T18:29:01.716Z"
   },
   {
    "duration": 17,
    "start_time": "2022-05-28T18:29:44.208Z"
   },
   {
    "duration": 16,
    "start_time": "2022-05-28T18:30:26.222Z"
   },
   {
    "duration": 51,
    "start_time": "2022-05-28T18:41:02.775Z"
   },
   {
    "duration": 57,
    "start_time": "2022-05-28T18:41:04.712Z"
   },
   {
    "duration": 43,
    "start_time": "2022-05-28T18:41:04.912Z"
   },
   {
    "duration": 30,
    "start_time": "2022-05-28T18:41:14.591Z"
   },
   {
    "duration": 128,
    "start_time": "2022-05-28T18:41:22.520Z"
   },
   {
    "duration": 163,
    "start_time": "2022-05-28T18:41:26.090Z"
   },
   {
    "duration": 12,
    "start_time": "2022-05-28T18:41:29.382Z"
   },
   {
    "duration": 9,
    "start_time": "2022-05-28T18:41:32.831Z"
   },
   {
    "duration": 11,
    "start_time": "2022-05-28T18:41:34.234Z"
   },
   {
    "duration": 14,
    "start_time": "2022-05-28T18:41:35.314Z"
   },
   {
    "duration": 14,
    "start_time": "2022-05-28T18:43:38.003Z"
   },
   {
    "duration": 8,
    "start_time": "2022-05-28T18:43:41.010Z"
   },
   {
    "duration": 9,
    "start_time": "2022-05-28T18:43:41.529Z"
   },
   {
    "duration": 21,
    "start_time": "2022-05-28T18:43:42.536Z"
   },
   {
    "duration": 9,
    "start_time": "2022-05-28T18:44:19.846Z"
   },
   {
    "duration": 13,
    "start_time": "2022-05-28T18:44:22.753Z"
   },
   {
    "duration": 48,
    "start_time": "2022-05-28T18:44:31.179Z"
   },
   {
    "duration": 79,
    "start_time": "2022-05-28T18:44:35.448Z"
   },
   {
    "duration": 40,
    "start_time": "2022-05-28T18:44:35.662Z"
   },
   {
    "duration": 22,
    "start_time": "2022-05-28T18:44:36.653Z"
   },
   {
    "duration": 128,
    "start_time": "2022-05-28T18:44:45.220Z"
   },
   {
    "duration": 126,
    "start_time": "2022-05-28T18:44:50.910Z"
   },
   {
    "duration": 195,
    "start_time": "2022-05-28T18:46:18.184Z"
   },
   {
    "duration": 145,
    "start_time": "2022-05-28T18:46:32.328Z"
   },
   {
    "duration": 154,
    "start_time": "2022-05-28T18:46:40.150Z"
   },
   {
    "duration": 21,
    "start_time": "2022-05-28T18:46:45.998Z"
   },
   {
    "duration": 11,
    "start_time": "2022-05-28T18:46:47.353Z"
   },
   {
    "duration": 10,
    "start_time": "2022-05-28T18:46:47.981Z"
   },
   {
    "duration": 568,
    "start_time": "2022-05-28T18:46:48.913Z"
   },
   {
    "duration": 14,
    "start_time": "2022-05-28T18:46:54.480Z"
   },
   {
    "duration": 20,
    "start_time": "2022-05-28T18:47:06.293Z"
   },
   {
    "duration": 10,
    "start_time": "2022-05-28T18:47:44.476Z"
   },
   {
    "duration": 13,
    "start_time": "2022-05-28T18:47:44.945Z"
   },
   {
    "duration": 14,
    "start_time": "2022-05-28T18:47:46.328Z"
   },
   {
    "duration": 21,
    "start_time": "2022-05-28T18:47:51.021Z"
   },
   {
    "duration": 17,
    "start_time": "2022-05-28T18:48:12.468Z"
   },
   {
    "duration": 13,
    "start_time": "2022-05-28T18:48:14.317Z"
   },
   {
    "duration": 18,
    "start_time": "2022-05-28T18:48:14.794Z"
   },
   {
    "duration": 24,
    "start_time": "2022-05-28T18:48:15.483Z"
   },
   {
    "duration": 187,
    "start_time": "2022-05-28T18:50:14.393Z"
   },
   {
    "duration": 176,
    "start_time": "2022-05-28T18:50:21.029Z"
   },
   {
    "duration": 152,
    "start_time": "2022-05-28T18:50:29.547Z"
   },
   {
    "duration": 52,
    "start_time": "2022-05-28T18:52:16.212Z"
   },
   {
    "duration": 87,
    "start_time": "2022-05-28T18:52:17.460Z"
   },
   {
    "duration": 52,
    "start_time": "2022-05-28T18:52:17.635Z"
   },
   {
    "duration": 24,
    "start_time": "2022-05-28T18:52:18.544Z"
   },
   {
    "duration": 140,
    "start_time": "2022-05-28T18:52:19.118Z"
   },
   {
    "duration": 11,
    "start_time": "2022-05-28T18:52:20.816Z"
   },
   {
    "duration": 9,
    "start_time": "2022-05-28T18:52:22.116Z"
   },
   {
    "duration": 13,
    "start_time": "2022-05-28T18:52:22.795Z"
   },
   {
    "duration": 671,
    "start_time": "2022-05-28T18:52:23.741Z"
   },
   {
    "duration": 12,
    "start_time": "2022-05-28T18:52:28.621Z"
   },
   {
    "duration": 17,
    "start_time": "2022-05-28T19:20:13.383Z"
   },
   {
    "duration": 20,
    "start_time": "2022-05-28T19:20:51.888Z"
   },
   {
    "duration": 238,
    "start_time": "2022-05-28T19:22:03.135Z"
   },
   {
    "duration": 12,
    "start_time": "2022-05-28T19:22:03.376Z"
   },
   {
    "duration": 29,
    "start_time": "2022-05-28T19:22:03.398Z"
   },
   {
    "duration": 109,
    "start_time": "2022-05-28T19:22:03.429Z"
   },
   {
    "duration": 132,
    "start_time": "2022-05-28T19:22:03.541Z"
   },
   {
    "duration": 95,
    "start_time": "2022-05-28T19:22:03.675Z"
   },
   {
    "duration": 63,
    "start_time": "2022-05-28T19:22:03.773Z"
   },
   {
    "duration": 72,
    "start_time": "2022-05-28T19:22:03.838Z"
   },
   {
    "duration": 406,
    "start_time": "2022-05-28T19:22:03.913Z"
   },
   {
    "duration": 87,
    "start_time": "2022-05-28T19:22:04.323Z"
   },
   {
    "duration": 6,
    "start_time": "2022-05-28T19:22:04.416Z"
   },
   {
    "duration": 24,
    "start_time": "2022-05-28T19:22:04.425Z"
   },
   {
    "duration": 16,
    "start_time": "2022-05-28T19:22:04.451Z"
   },
   {
    "duration": 32,
    "start_time": "2022-05-28T19:22:04.469Z"
   },
   {
    "duration": 44,
    "start_time": "2022-05-28T19:22:04.504Z"
   },
   {
    "duration": 127,
    "start_time": "2022-05-28T19:22:04.551Z"
   },
   {
    "duration": 26,
    "start_time": "2022-05-28T19:22:04.680Z"
   },
   {
    "duration": 72,
    "start_time": "2022-05-28T19:22:05.068Z"
   },
   {
    "duration": 88,
    "start_time": "2022-05-28T19:22:05.162Z"
   },
   {
    "duration": 78,
    "start_time": "2022-05-28T19:22:05.254Z"
   },
   {
    "duration": 40,
    "start_time": "2022-05-28T19:22:05.569Z"
   },
   {
    "duration": 209,
    "start_time": "2022-05-28T19:22:05.894Z"
   },
   {
    "duration": 16,
    "start_time": "2022-05-28T19:22:06.581Z"
   },
   {
    "duration": 15,
    "start_time": "2022-05-28T19:22:07.119Z"
   },
   {
    "duration": 16,
    "start_time": "2022-05-28T19:22:07.497Z"
   },
   {
    "duration": 18,
    "start_time": "2022-05-28T19:22:07.880Z"
   },
   {
    "duration": 1892,
    "start_time": "2022-05-29T18:52:36.922Z"
   },
   {
    "duration": 3,
    "start_time": "2022-05-29T18:52:38.816Z"
   },
   {
    "duration": 23,
    "start_time": "2022-05-29T18:52:38.821Z"
   },
   {
    "duration": 65,
    "start_time": "2022-05-29T18:52:38.846Z"
   },
   {
    "duration": 85,
    "start_time": "2022-05-29T18:52:38.913Z"
   },
   {
    "duration": 62,
    "start_time": "2022-05-29T18:52:38.999Z"
   },
   {
    "duration": 33,
    "start_time": "2022-05-29T18:52:39.062Z"
   },
   {
    "duration": 56,
    "start_time": "2022-05-29T18:52:39.097Z"
   },
   {
    "duration": 387,
    "start_time": "2022-05-29T18:52:39.155Z"
   },
   {
    "duration": 49,
    "start_time": "2022-05-29T18:52:39.545Z"
   },
   {
    "duration": 4,
    "start_time": "2022-05-29T18:52:39.596Z"
   },
   {
    "duration": 6,
    "start_time": "2022-05-29T18:52:39.602Z"
   },
   {
    "duration": 5,
    "start_time": "2022-05-29T18:52:39.609Z"
   },
   {
    "duration": 47,
    "start_time": "2022-05-29T18:52:39.615Z"
   },
   {
    "duration": 171,
    "start_time": "2022-05-29T18:52:39.663Z"
   },
   {
    "duration": 114,
    "start_time": "2022-05-29T18:52:39.835Z"
   },
   {
    "duration": 19,
    "start_time": "2022-05-29T18:52:39.951Z"
   },
   {
    "duration": 90,
    "start_time": "2022-05-29T18:52:39.973Z"
   },
   {
    "duration": 56,
    "start_time": "2022-05-29T18:52:40.065Z"
   },
   {
    "duration": 58,
    "start_time": "2022-05-29T18:52:40.123Z"
   },
   {
    "duration": 22,
    "start_time": "2022-05-29T18:52:40.183Z"
   },
   {
    "duration": 145,
    "start_time": "2022-05-29T18:52:40.206Z"
   },
   {
    "duration": 11,
    "start_time": "2022-05-29T18:52:40.353Z"
   },
   {
    "duration": 10,
    "start_time": "2022-05-29T18:52:40.366Z"
   },
   {
    "duration": 9,
    "start_time": "2022-05-29T18:52:40.377Z"
   },
   {
    "duration": 10,
    "start_time": "2022-05-29T18:52:40.388Z"
   },
   {
    "duration": 48,
    "start_time": "2022-05-29T19:04:01.462Z"
   },
   {
    "duration": 4,
    "start_time": "2022-05-29T19:09:53.299Z"
   },
   {
    "duration": 5,
    "start_time": "2022-05-29T19:10:36.868Z"
   },
   {
    "duration": 1625,
    "start_time": "2022-07-11T17:52:20.082Z"
   },
   {
    "duration": 3,
    "start_time": "2022-07-11T17:52:21.710Z"
   },
   {
    "duration": 23,
    "start_time": "2022-07-11T17:52:21.715Z"
   },
   {
    "duration": 70,
    "start_time": "2022-07-11T17:52:21.741Z"
   },
   {
    "duration": 90,
    "start_time": "2022-07-11T17:52:21.813Z"
   },
   {
    "duration": 52,
    "start_time": "2022-07-11T17:52:21.905Z"
   },
   {
    "duration": 54,
    "start_time": "2022-07-11T17:52:21.958Z"
   },
   {
    "duration": 32,
    "start_time": "2022-07-11T17:52:22.014Z"
   },
   {
    "duration": 303,
    "start_time": "2022-07-11T17:52:22.048Z"
   },
   {
    "duration": 59,
    "start_time": "2022-07-11T17:52:22.354Z"
   },
   {
    "duration": 4,
    "start_time": "2022-07-11T17:52:22.415Z"
   },
   {
    "duration": 24,
    "start_time": "2022-07-11T17:52:22.421Z"
   },
   {
    "duration": 23,
    "start_time": "2022-07-11T17:52:22.446Z"
   },
   {
    "duration": 29,
    "start_time": "2022-07-11T17:52:22.472Z"
   },
   {
    "duration": 164,
    "start_time": "2022-07-11T17:52:22.503Z"
   },
   {
    "duration": 73,
    "start_time": "2022-07-11T17:52:22.669Z"
   },
   {
    "duration": 61,
    "start_time": "2022-07-11T17:52:22.744Z"
   },
   {
    "duration": 40,
    "start_time": "2022-07-11T17:52:22.806Z"
   },
   {
    "duration": 68,
    "start_time": "2022-07-11T17:52:22.847Z"
   },
   {
    "duration": 39,
    "start_time": "2022-07-11T17:52:22.917Z"
   },
   {
    "duration": 60,
    "start_time": "2022-07-11T17:52:22.958Z"
   },
   {
    "duration": 21,
    "start_time": "2022-07-11T17:52:23.019Z"
   },
   {
    "duration": 137,
    "start_time": "2022-07-11T17:52:23.042Z"
   },
   {
    "duration": 11,
    "start_time": "2022-07-11T17:52:23.180Z"
   },
   {
    "duration": 16,
    "start_time": "2022-07-11T17:52:23.201Z"
   },
   {
    "duration": 12,
    "start_time": "2022-07-11T17:52:23.220Z"
   },
   {
    "duration": 11,
    "start_time": "2022-07-11T17:52:23.233Z"
   },
   {
    "duration": 27,
    "start_time": "2022-07-11T17:52:23.246Z"
   },
   {
    "duration": 49,
    "start_time": "2022-07-11T17:52:23.274Z"
   },
   {
    "duration": 29,
    "start_time": "2022-07-11T17:52:44.874Z"
   },
   {
    "duration": 31,
    "start_time": "2022-07-11T17:52:52.052Z"
   },
   {
    "duration": 4,
    "start_time": "2022-07-11T17:53:00.945Z"
   },
   {
    "duration": 7,
    "start_time": "2022-07-11T17:53:12.028Z"
   },
   {
    "duration": 27,
    "start_time": "2022-07-11T18:13:16.985Z"
   },
   {
    "duration": 5,
    "start_time": "2022-07-11T18:13:22.449Z"
   },
   {
    "duration": 6,
    "start_time": "2022-07-11T18:13:43.017Z"
   },
   {
    "duration": 4,
    "start_time": "2022-07-11T18:13:47.941Z"
   }
  ],
  "kernelspec": {
   "display_name": "Python 3 (ipykernel)",
   "language": "python",
   "name": "python3"
  },
  "language_info": {
   "codemirror_mode": {
    "name": "ipython",
    "version": 3
   },
   "file_extension": ".py",
   "mimetype": "text/x-python",
   "name": "python",
   "nbconvert_exporter": "python",
   "pygments_lexer": "ipython3",
   "version": "3.11.4"
  },
  "toc": {
   "base_numbering": 1,
   "nav_menu": {},
   "number_sections": true,
   "sideBar": true,
   "skip_h1_title": true,
   "title_cell": "Table of Contents",
   "title_sidebar": "Contents",
   "toc_cell": false,
   "toc_position": {},
   "toc_section_display": true,
   "toc_window_display": true
  }
 },
 "nbformat": 4,
 "nbformat_minor": 2
}
